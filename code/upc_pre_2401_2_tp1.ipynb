{
  "cells": [
    {
      "cell_type": "markdown",
      "metadata": {
        "id": "view-in-github",
        "colab_type": "text"
      },
      "source": [
        "<a href=\"https://colab.research.google.com/github/sebasvp2005/CC216--TP-2024-1/blob/main/code/upc_pre_2401_2_tp1.ipynb\" target=\"_parent\"><img src=\"https://colab.research.google.com/assets/colab-badge.svg\" alt=\"Open In Colab\"/></a>"
      ]
    },
    {
      "cell_type": "markdown",
      "metadata": {
        "id": "jGaZO71Pmqwh"
      },
      "source": [
        "#Librerias"
      ]
    },
    {
      "cell_type": "code",
      "execution_count": null,
      "metadata": {
        "id": "SwgMBS0y9p9O",
        "colab": {
          "base_uri": "https://localhost:8080/"
        },
        "outputId": "95eb06b4-eb82-4d17-f69c-28d2dba33295"
      },
      "outputs": [
        {
          "output_type": "stream",
          "name": "stderr",
          "text": [
            "Installing package into ‘/usr/local/lib/R/site-library’\n",
            "(as ‘lib’ is unspecified)\n",
            "\n",
            "Installing package into ‘/usr/local/lib/R/site-library’\n",
            "(as ‘lib’ is unspecified)\n",
            "\n",
            "Installing package into ‘/usr/local/lib/R/site-library’\n",
            "(as ‘lib’ is unspecified)\n",
            "\n",
            "\n",
            "Attaching package: ‘dplyr’\n",
            "\n",
            "\n",
            "The following objects are masked from ‘package:stats’:\n",
            "\n",
            "    filter, lag\n",
            "\n",
            "\n",
            "The following objects are masked from ‘package:base’:\n",
            "\n",
            "    intersect, setdiff, setequal, union\n",
            "\n",
            "\n"
          ]
        }
      ],
      "source": [
        "install.packages('dplyr')\n",
        "install.packages(\"ggplot2\")\n",
        "install.packages(\"countrycode\")\n",
        "install.packages(\"reshape2\")\n",
        "library(dplyr)\n",
        "library(ggplot2)\n",
        "library(countrycode)\n",
        "library(reshape2)\n",
        "library(lubridate)"
      ]
    },
    {
      "cell_type": "markdown",
      "metadata": {
        "id": "MvxfKDQzmoqY"
      },
      "source": [
        "#Carga de datos"
      ]
    },
    {
      "cell_type": "code",
      "execution_count": 591,
      "metadata": {
        "id": "9W_C8zIC-T2u"
      },
      "outputs": [],
      "source": [
        "#cargar la data\n",
        "hotel_csv = read.csv('hotel.csv', header = TRUE,  stringsAsFactors = FALSE, na.strings = \"NULL\" )"
      ]
    },
    {
      "cell_type": "code",
      "source": [
        "str(hotel_csv)"
      ],
      "metadata": {
        "colab": {
          "base_uri": "https://localhost:8080/"
        },
        "id": "P59H6ZFWH9LV",
        "outputId": "19b7f982-77d4-4744-b7f5-cf54226f165d"
      },
      "execution_count": 592,
      "outputs": [
        {
          "output_type": "stream",
          "name": "stdout",
          "text": [
            "'data.frame':\t119390 obs. of  32 variables:\n",
            " $ hotel                         : chr  \"Resort Hotel\" \"Resort Hotel\" \"Resort Hotel\" \"Resort Hotel\" ...\n",
            " $ is_canceled                   : int  0 0 0 0 0 0 0 0 1 1 ...\n",
            " $ lead_time                     : int  342 737 7 13 14 14 0 9 85 75 ...\n",
            " $ arrival_date_year             : int  2015 2015 2015 2015 2015 2015 2015 2015 2015 2015 ...\n",
            " $ arrival_date_month            : chr  \"July\" \"July\" \"July\" \"July\" ...\n",
            " $ arrival_date_week_number      : int  27 27 27 27 27 27 27 27 27 27 ...\n",
            " $ arrival_date_day_of_month     : int  1 1 1 1 1 1 1 1 1 1 ...\n",
            " $ stays_in_weekend_nights       : int  0 0 0 0 0 0 0 0 0 0 ...\n",
            " $ stays_in_week_nights          : int  0 0 1 1 2 2 2 2 3 3 ...\n",
            " $ adults                        : int  2 2 1 1 2 2 2 2 2 2 ...\n",
            " $ children                      : chr  \"0\" \"0\" \"0\" \"0\" ...\n",
            " $ babies                        : int  0 0 0 0 0 0 0 0 0 0 ...\n",
            " $ meal                          : chr  \"BB\" \"BB\" \"BB\" \"BB\" ...\n",
            " $ country                       : chr  \"PRT\" \"PRT\" \"GBR\" \"GBR\" ...\n",
            " $ market_segment                : chr  \"Direct\" \"Direct\" \"Direct\" \"Corporate\" ...\n",
            " $ distribution_channel          : chr  \"Direct\" \"Direct\" \"Direct\" \"Corporate\" ...\n",
            " $ is_repeated_guest             : int  0 0 0 0 0 0 0 0 0 0 ...\n",
            " $ previous_cancellations        : int  0 0 0 0 0 0 0 0 0 0 ...\n",
            " $ previous_bookings_not_canceled: int  0 0 0 0 0 0 0 0 0 0 ...\n",
            " $ reserved_room_type            : chr  \"C\" \"C\" \"A\" \"A\" ...\n",
            " $ assigned_room_type            : chr  \"C\" \"C\" \"C\" \"A\" ...\n",
            " $ booking_changes               : int  3 4 0 0 0 0 0 0 0 0 ...\n",
            " $ deposit_type                  : chr  \"No Deposit\" \"No Deposit\" \"No Deposit\" \"No Deposit\" ...\n",
            " $ agent                         : int  NA NA NA 304 240 240 NA 303 240 15 ...\n",
            " $ company                       : int  NA NA NA NA NA NA NA NA NA NA ...\n",
            " $ days_in_waiting_list          : int  0 0 0 0 0 0 0 0 0 0 ...\n",
            " $ customer_type                 : chr  \"Transient\" \"Transient\" \"Transient\" \"Transient\" ...\n",
            " $ adr                           : num  0 0 75 75 98 ...\n",
            " $ required_car_parking_spaces   : int  0 0 0 0 0 0 0 0 0 0 ...\n",
            " $ total_of_special_requests     : int  0 0 0 0 1 1 0 1 1 0 ...\n",
            " $ reservation_status            : chr  \"Check-Out\" \"Check-Out\" \"Check-Out\" \"Check-Out\" ...\n",
            " $ reservation_status_date       : chr  \"2015-07-01\" \"2015-07-01\" \"2015-07-02\" \"2015-07-02\" ...\n"
          ]
        }
      ]
    },
    {
      "cell_type": "code",
      "execution_count": 593,
      "metadata": {
        "id": "W8fILuS0G3Bp",
        "colab": {
          "base_uri": "https://localhost:8080/",
          "height": 0
        },
        "outputId": "06be3cc0-764d-40aa-eca4-7e89352cfe6f"
      },
      "outputs": [
        {
          "output_type": "display_data",
          "data": {
            "text/plain": [
              "    hotel            is_canceled       lead_time   arrival_date_year\n",
              " Length:119390      Min.   :0.0000   Min.   :  0   Min.   :2015     \n",
              " Class :character   1st Qu.:0.0000   1st Qu.: 18   1st Qu.:2016     \n",
              " Mode  :character   Median :0.0000   Median : 69   Median :2016     \n",
              "                    Mean   :0.3704   Mean   :104   Mean   :2016     \n",
              "                    3rd Qu.:1.0000   3rd Qu.:160   3rd Qu.:2017     \n",
              "                    Max.   :1.0000   Max.   :737   Max.   :2017     \n",
              "                                                                    \n",
              " arrival_date_month arrival_date_week_number arrival_date_day_of_month\n",
              " Length:119390      Min.   : 1.00            Min.   : 1.0             \n",
              " Class :character   1st Qu.:16.00            1st Qu.: 8.0             \n",
              " Mode  :character   Median :28.00            Median :16.0             \n",
              "                    Mean   :27.17            Mean   :15.8             \n",
              "                    3rd Qu.:38.00            3rd Qu.:23.0             \n",
              "                    Max.   :53.00            Max.   :31.0             \n",
              "                                                                      \n",
              " stays_in_weekend_nights stays_in_week_nights     adults      \n",
              " Min.   : 0.0000         Min.   : 0.0         Min.   : 0.000  \n",
              " 1st Qu.: 0.0000         1st Qu.: 1.0         1st Qu.: 2.000  \n",
              " Median : 1.0000         Median : 2.0         Median : 2.000  \n",
              " Mean   : 0.9276         Mean   : 2.5         Mean   : 1.856  \n",
              " 3rd Qu.: 2.0000         3rd Qu.: 3.0         3rd Qu.: 2.000  \n",
              " Max.   :19.0000         Max.   :50.0         Max.   :55.000  \n",
              "                                                              \n",
              "   children             babies              meal             country         \n",
              " Length:119390      Min.   : 0.000000   Length:119390      Length:119390     \n",
              " Class :character   1st Qu.: 0.000000   Class :character   Class :character  \n",
              " Mode  :character   Median : 0.000000   Mode  :character   Mode  :character  \n",
              "                    Mean   : 0.007949                                        \n",
              "                    3rd Qu.: 0.000000                                        \n",
              "                    Max.   :10.000000                                        \n",
              "                                                                             \n",
              " market_segment     distribution_channel is_repeated_guest\n",
              " Length:119390      Length:119390        Min.   :0.00000  \n",
              " Class :character   Class :character     1st Qu.:0.00000  \n",
              " Mode  :character   Mode  :character     Median :0.00000  \n",
              "                                         Mean   :0.03191  \n",
              "                                         3rd Qu.:0.00000  \n",
              "                                         Max.   :1.00000  \n",
              "                                                          \n",
              " previous_cancellations previous_bookings_not_canceled reserved_room_type\n",
              " Min.   : 0.00000       Min.   : 0.0000                Length:119390     \n",
              " 1st Qu.: 0.00000       1st Qu.: 0.0000                Class :character  \n",
              " Median : 0.00000       Median : 0.0000                Mode  :character  \n",
              " Mean   : 0.08712       Mean   : 0.1371                                  \n",
              " 3rd Qu.: 0.00000       3rd Qu.: 0.0000                                  \n",
              " Max.   :26.00000       Max.   :72.0000                                  \n",
              "                                                                         \n",
              " assigned_room_type booking_changes   deposit_type           agent       \n",
              " Length:119390      Min.   : 0.0000   Length:119390      Min.   :  1.00  \n",
              " Class :character   1st Qu.: 0.0000   Class :character   1st Qu.:  9.00  \n",
              " Mode  :character   Median : 0.0000   Mode  :character   Median : 14.00  \n",
              "                    Mean   : 0.2211                      Mean   : 86.69  \n",
              "                    3rd Qu.: 0.0000                      3rd Qu.:229.00  \n",
              "                    Max.   :21.0000                      Max.   :535.00  \n",
              "                                                         NA's   :16340   \n",
              "    company       days_in_waiting_list customer_type           adr         \n",
              " Min.   :  6.0    Min.   :  0.000      Length:119390      Min.   :  -6.38  \n",
              " 1st Qu.: 62.0    1st Qu.:  0.000      Class :character   1st Qu.:  69.29  \n",
              " Median :179.0    Median :  0.000      Mode  :character   Median :  94.58  \n",
              " Mean   :189.3    Mean   :  2.321                         Mean   : 101.83  \n",
              " 3rd Qu.:270.0    3rd Qu.:  0.000                         3rd Qu.: 126.00  \n",
              " Max.   :543.0    Max.   :391.000                         Max.   :5400.00  \n",
              " NA's   :112593                                                            \n",
              " required_car_parking_spaces total_of_special_requests reservation_status\n",
              " Min.   :0.00000             Min.   :0.0000            Length:119390     \n",
              " 1st Qu.:0.00000             1st Qu.:0.0000            Class :character  \n",
              " Median :0.00000             Median :0.0000            Mode  :character  \n",
              " Mean   :0.06252             Mean   :0.5714                              \n",
              " 3rd Qu.:0.00000             3rd Qu.:1.0000                              \n",
              " Max.   :8.00000             Max.   :5.0000                              \n",
              "                                                                         \n",
              " reservation_status_date\n",
              " Length:119390          \n",
              " Class :character       \n",
              " Mode  :character       \n",
              "                        \n",
              "                        \n",
              "                        \n",
              "                        "
            ]
          },
          "metadata": {}
        }
      ],
      "source": [
        "summary(hotel_csv)"
      ]
    },
    {
      "cell_type": "code",
      "execution_count": 594,
      "metadata": {
        "id": "Ygo4kiCI_P6W",
        "colab": {
          "base_uri": "https://localhost:8080/",
          "height": 0
        },
        "outputId": "6d5b861d-c365-4e46-8060-df3e621b6a26"
      },
      "outputs": [
        {
          "output_type": "display_data",
          "data": {
            "text/html": [
              "<style>\n",
              ".list-inline {list-style: none; margin:0; padding: 0}\n",
              ".list-inline>li {display: inline-block}\n",
              ".list-inline>li:not(:last-child)::after {content: \"\\00b7\"; padding: 0 .5ex}\n",
              "</style>\n",
              "<ol class=list-inline><li>'hotel'</li><li>'is_canceled'</li><li>'lead_time'</li><li>'arrival_date_year'</li><li>'arrival_date_month'</li><li>'arrival_date_week_number'</li><li>'arrival_date_day_of_month'</li><li>'stays_in_weekend_nights'</li><li>'stays_in_week_nights'</li><li>'adults'</li><li>'children'</li><li>'babies'</li><li>'meal'</li><li>'country'</li><li>'market_segment'</li><li>'distribution_channel'</li><li>'is_repeated_guest'</li><li>'previous_cancellations'</li><li>'previous_bookings_not_canceled'</li><li>'reserved_room_type'</li><li>'assigned_room_type'</li><li>'booking_changes'</li><li>'deposit_type'</li><li>'agent'</li><li>'company'</li><li>'days_in_waiting_list'</li><li>'customer_type'</li><li>'adr'</li><li>'required_car_parking_spaces'</li><li>'total_of_special_requests'</li><li>'reservation_status'</li><li>'reservation_status_date'</li></ol>\n"
            ],
            "text/markdown": "1. 'hotel'\n2. 'is_canceled'\n3. 'lead_time'\n4. 'arrival_date_year'\n5. 'arrival_date_month'\n6. 'arrival_date_week_number'\n7. 'arrival_date_day_of_month'\n8. 'stays_in_weekend_nights'\n9. 'stays_in_week_nights'\n10. 'adults'\n11. 'children'\n12. 'babies'\n13. 'meal'\n14. 'country'\n15. 'market_segment'\n16. 'distribution_channel'\n17. 'is_repeated_guest'\n18. 'previous_cancellations'\n19. 'previous_bookings_not_canceled'\n20. 'reserved_room_type'\n21. 'assigned_room_type'\n22. 'booking_changes'\n23. 'deposit_type'\n24. 'agent'\n25. 'company'\n26. 'days_in_waiting_list'\n27. 'customer_type'\n28. 'adr'\n29. 'required_car_parking_spaces'\n30. 'total_of_special_requests'\n31. 'reservation_status'\n32. 'reservation_status_date'\n\n\n",
            "text/latex": "\\begin{enumerate*}\n\\item 'hotel'\n\\item 'is\\_canceled'\n\\item 'lead\\_time'\n\\item 'arrival\\_date\\_year'\n\\item 'arrival\\_date\\_month'\n\\item 'arrival\\_date\\_week\\_number'\n\\item 'arrival\\_date\\_day\\_of\\_month'\n\\item 'stays\\_in\\_weekend\\_nights'\n\\item 'stays\\_in\\_week\\_nights'\n\\item 'adults'\n\\item 'children'\n\\item 'babies'\n\\item 'meal'\n\\item 'country'\n\\item 'market\\_segment'\n\\item 'distribution\\_channel'\n\\item 'is\\_repeated\\_guest'\n\\item 'previous\\_cancellations'\n\\item 'previous\\_bookings\\_not\\_canceled'\n\\item 'reserved\\_room\\_type'\n\\item 'assigned\\_room\\_type'\n\\item 'booking\\_changes'\n\\item 'deposit\\_type'\n\\item 'agent'\n\\item 'company'\n\\item 'days\\_in\\_waiting\\_list'\n\\item 'customer\\_type'\n\\item 'adr'\n\\item 'required\\_car\\_parking\\_spaces'\n\\item 'total\\_of\\_special\\_requests'\n\\item 'reservation\\_status'\n\\item 'reservation\\_status\\_date'\n\\end{enumerate*}\n",
            "text/plain": [
              " [1] \"hotel\"                          \"is_canceled\"                   \n",
              " [3] \"lead_time\"                      \"arrival_date_year\"             \n",
              " [5] \"arrival_date_month\"             \"arrival_date_week_number\"      \n",
              " [7] \"arrival_date_day_of_month\"      \"stays_in_weekend_nights\"       \n",
              " [9] \"stays_in_week_nights\"           \"adults\"                        \n",
              "[11] \"children\"                       \"babies\"                        \n",
              "[13] \"meal\"                           \"country\"                       \n",
              "[15] \"market_segment\"                 \"distribution_channel\"          \n",
              "[17] \"is_repeated_guest\"              \"previous_cancellations\"        \n",
              "[19] \"previous_bookings_not_canceled\" \"reserved_room_type\"            \n",
              "[21] \"assigned_room_type\"             \"booking_changes\"               \n",
              "[23] \"deposit_type\"                   \"agent\"                         \n",
              "[25] \"company\"                        \"days_in_waiting_list\"          \n",
              "[27] \"customer_type\"                  \"adr\"                           \n",
              "[29] \"required_car_parking_spaces\"    \"total_of_special_requests\"     \n",
              "[31] \"reservation_status\"             \"reservation_status_date\"       "
            ]
          },
          "metadata": {}
        }
      ],
      "source": [
        "names = names(hotel_csv)\n",
        "names"
      ]
    },
    {
      "cell_type": "code",
      "source": [
        "head(hotel_csv)"
      ],
      "metadata": {
        "colab": {
          "base_uri": "https://localhost:8080/",
          "height": 0
        },
        "id": "_NKxZsnlVh0K",
        "outputId": "0260023e-0b01-49a3-9e7a-504a66c576dd"
      },
      "execution_count": 595,
      "outputs": [
        {
          "output_type": "display_data",
          "data": {
            "text/html": [
              "<table class=\"dataframe\">\n",
              "<caption>A data.frame: 6 × 32</caption>\n",
              "<thead>\n",
              "\t<tr><th></th><th scope=col>hotel</th><th scope=col>is_canceled</th><th scope=col>lead_time</th><th scope=col>arrival_date_year</th><th scope=col>arrival_date_month</th><th scope=col>arrival_date_week_number</th><th scope=col>arrival_date_day_of_month</th><th scope=col>stays_in_weekend_nights</th><th scope=col>stays_in_week_nights</th><th scope=col>adults</th><th scope=col>⋯</th><th scope=col>deposit_type</th><th scope=col>agent</th><th scope=col>company</th><th scope=col>days_in_waiting_list</th><th scope=col>customer_type</th><th scope=col>adr</th><th scope=col>required_car_parking_spaces</th><th scope=col>total_of_special_requests</th><th scope=col>reservation_status</th><th scope=col>reservation_status_date</th></tr>\n",
              "\t<tr><th></th><th scope=col>&lt;chr&gt;</th><th scope=col>&lt;int&gt;</th><th scope=col>&lt;int&gt;</th><th scope=col>&lt;int&gt;</th><th scope=col>&lt;chr&gt;</th><th scope=col>&lt;int&gt;</th><th scope=col>&lt;int&gt;</th><th scope=col>&lt;int&gt;</th><th scope=col>&lt;int&gt;</th><th scope=col>&lt;int&gt;</th><th scope=col>⋯</th><th scope=col>&lt;chr&gt;</th><th scope=col>&lt;int&gt;</th><th scope=col>&lt;int&gt;</th><th scope=col>&lt;int&gt;</th><th scope=col>&lt;chr&gt;</th><th scope=col>&lt;dbl&gt;</th><th scope=col>&lt;int&gt;</th><th scope=col>&lt;int&gt;</th><th scope=col>&lt;chr&gt;</th><th scope=col>&lt;chr&gt;</th></tr>\n",
              "</thead>\n",
              "<tbody>\n",
              "\t<tr><th scope=row>1</th><td>Resort Hotel</td><td>0</td><td>342</td><td>2015</td><td>July</td><td>27</td><td>1</td><td>0</td><td>0</td><td>2</td><td>⋯</td><td>No Deposit</td><td> NA</td><td>NA</td><td>0</td><td>Transient</td><td> 0</td><td>0</td><td>0</td><td>Check-Out</td><td>2015-07-01</td></tr>\n",
              "\t<tr><th scope=row>2</th><td>Resort Hotel</td><td>0</td><td>737</td><td>2015</td><td>July</td><td>27</td><td>1</td><td>0</td><td>0</td><td>2</td><td>⋯</td><td>No Deposit</td><td> NA</td><td>NA</td><td>0</td><td>Transient</td><td> 0</td><td>0</td><td>0</td><td>Check-Out</td><td>2015-07-01</td></tr>\n",
              "\t<tr><th scope=row>3</th><td>Resort Hotel</td><td>0</td><td>  7</td><td>2015</td><td>July</td><td>27</td><td>1</td><td>0</td><td>1</td><td>1</td><td>⋯</td><td>No Deposit</td><td> NA</td><td>NA</td><td>0</td><td>Transient</td><td>75</td><td>0</td><td>0</td><td>Check-Out</td><td>2015-07-02</td></tr>\n",
              "\t<tr><th scope=row>4</th><td>Resort Hotel</td><td>0</td><td> 13</td><td>2015</td><td>July</td><td>27</td><td>1</td><td>0</td><td>1</td><td>1</td><td>⋯</td><td>No Deposit</td><td>304</td><td>NA</td><td>0</td><td>Transient</td><td>75</td><td>0</td><td>0</td><td>Check-Out</td><td>2015-07-02</td></tr>\n",
              "\t<tr><th scope=row>5</th><td>Resort Hotel</td><td>0</td><td> 14</td><td>2015</td><td>July</td><td>27</td><td>1</td><td>0</td><td>2</td><td>2</td><td>⋯</td><td>No Deposit</td><td>240</td><td>NA</td><td>0</td><td>Transient</td><td>98</td><td>0</td><td>1</td><td>Check-Out</td><td>2015-07-03</td></tr>\n",
              "\t<tr><th scope=row>6</th><td>Resort Hotel</td><td>0</td><td> 14</td><td>2015</td><td>July</td><td>27</td><td>1</td><td>0</td><td>2</td><td>2</td><td>⋯</td><td>No Deposit</td><td>240</td><td>NA</td><td>0</td><td>Transient</td><td>98</td><td>0</td><td>1</td><td>Check-Out</td><td>2015-07-03</td></tr>\n",
              "</tbody>\n",
              "</table>\n"
            ],
            "text/markdown": "\nA data.frame: 6 × 32\n\n| <!--/--> | hotel &lt;chr&gt; | is_canceled &lt;int&gt; | lead_time &lt;int&gt; | arrival_date_year &lt;int&gt; | arrival_date_month &lt;chr&gt; | arrival_date_week_number &lt;int&gt; | arrival_date_day_of_month &lt;int&gt; | stays_in_weekend_nights &lt;int&gt; | stays_in_week_nights &lt;int&gt; | adults &lt;int&gt; | ⋯ ⋯ | deposit_type &lt;chr&gt; | agent &lt;int&gt; | company &lt;int&gt; | days_in_waiting_list &lt;int&gt; | customer_type &lt;chr&gt; | adr &lt;dbl&gt; | required_car_parking_spaces &lt;int&gt; | total_of_special_requests &lt;int&gt; | reservation_status &lt;chr&gt; | reservation_status_date &lt;chr&gt; |\n|---|---|---|---|---|---|---|---|---|---|---|---|---|---|---|---|---|---|---|---|---|---|\n| 1 | Resort Hotel | 0 | 342 | 2015 | July | 27 | 1 | 0 | 0 | 2 | ⋯ | No Deposit |  NA | NA | 0 | Transient |  0 | 0 | 0 | Check-Out | 2015-07-01 |\n| 2 | Resort Hotel | 0 | 737 | 2015 | July | 27 | 1 | 0 | 0 | 2 | ⋯ | No Deposit |  NA | NA | 0 | Transient |  0 | 0 | 0 | Check-Out | 2015-07-01 |\n| 3 | Resort Hotel | 0 |   7 | 2015 | July | 27 | 1 | 0 | 1 | 1 | ⋯ | No Deposit |  NA | NA | 0 | Transient | 75 | 0 | 0 | Check-Out | 2015-07-02 |\n| 4 | Resort Hotel | 0 |  13 | 2015 | July | 27 | 1 | 0 | 1 | 1 | ⋯ | No Deposit | 304 | NA | 0 | Transient | 75 | 0 | 0 | Check-Out | 2015-07-02 |\n| 5 | Resort Hotel | 0 |  14 | 2015 | July | 27 | 1 | 0 | 2 | 2 | ⋯ | No Deposit | 240 | NA | 0 | Transient | 98 | 0 | 1 | Check-Out | 2015-07-03 |\n| 6 | Resort Hotel | 0 |  14 | 2015 | July | 27 | 1 | 0 | 2 | 2 | ⋯ | No Deposit | 240 | NA | 0 | Transient | 98 | 0 | 1 | Check-Out | 2015-07-03 |\n\n",
            "text/latex": "A data.frame: 6 × 32\n\\begin{tabular}{r|lllllllllllllllllllll}\n  & hotel & is\\_canceled & lead\\_time & arrival\\_date\\_year & arrival\\_date\\_month & arrival\\_date\\_week\\_number & arrival\\_date\\_day\\_of\\_month & stays\\_in\\_weekend\\_nights & stays\\_in\\_week\\_nights & adults & ⋯ & deposit\\_type & agent & company & days\\_in\\_waiting\\_list & customer\\_type & adr & required\\_car\\_parking\\_spaces & total\\_of\\_special\\_requests & reservation\\_status & reservation\\_status\\_date\\\\\n  & <chr> & <int> & <int> & <int> & <chr> & <int> & <int> & <int> & <int> & <int> & ⋯ & <chr> & <int> & <int> & <int> & <chr> & <dbl> & <int> & <int> & <chr> & <chr>\\\\\n\\hline\n\t1 & Resort Hotel & 0 & 342 & 2015 & July & 27 & 1 & 0 & 0 & 2 & ⋯ & No Deposit &  NA & NA & 0 & Transient &  0 & 0 & 0 & Check-Out & 2015-07-01\\\\\n\t2 & Resort Hotel & 0 & 737 & 2015 & July & 27 & 1 & 0 & 0 & 2 & ⋯ & No Deposit &  NA & NA & 0 & Transient &  0 & 0 & 0 & Check-Out & 2015-07-01\\\\\n\t3 & Resort Hotel & 0 &   7 & 2015 & July & 27 & 1 & 0 & 1 & 1 & ⋯ & No Deposit &  NA & NA & 0 & Transient & 75 & 0 & 0 & Check-Out & 2015-07-02\\\\\n\t4 & Resort Hotel & 0 &  13 & 2015 & July & 27 & 1 & 0 & 1 & 1 & ⋯ & No Deposit & 304 & NA & 0 & Transient & 75 & 0 & 0 & Check-Out & 2015-07-02\\\\\n\t5 & Resort Hotel & 0 &  14 & 2015 & July & 27 & 1 & 0 & 2 & 2 & ⋯ & No Deposit & 240 & NA & 0 & Transient & 98 & 0 & 1 & Check-Out & 2015-07-03\\\\\n\t6 & Resort Hotel & 0 &  14 & 2015 & July & 27 & 1 & 0 & 2 & 2 & ⋯ & No Deposit & 240 & NA & 0 & Transient & 98 & 0 & 1 & Check-Out & 2015-07-03\\\\\n\\end{tabular}\n",
            "text/plain": [
              "  hotel        is_canceled lead_time arrival_date_year arrival_date_month\n",
              "1 Resort Hotel 0           342       2015              July              \n",
              "2 Resort Hotel 0           737       2015              July              \n",
              "3 Resort Hotel 0             7       2015              July              \n",
              "4 Resort Hotel 0            13       2015              July              \n",
              "5 Resort Hotel 0            14       2015              July              \n",
              "6 Resort Hotel 0            14       2015              July              \n",
              "  arrival_date_week_number arrival_date_day_of_month stays_in_weekend_nights\n",
              "1 27                       1                         0                      \n",
              "2 27                       1                         0                      \n",
              "3 27                       1                         0                      \n",
              "4 27                       1                         0                      \n",
              "5 27                       1                         0                      \n",
              "6 27                       1                         0                      \n",
              "  stays_in_week_nights adults ⋯ deposit_type agent company days_in_waiting_list\n",
              "1 0                    2      ⋯ No Deposit    NA   NA      0                   \n",
              "2 0                    2      ⋯ No Deposit    NA   NA      0                   \n",
              "3 1                    1      ⋯ No Deposit    NA   NA      0                   \n",
              "4 1                    1      ⋯ No Deposit   304   NA      0                   \n",
              "5 2                    2      ⋯ No Deposit   240   NA      0                   \n",
              "6 2                    2      ⋯ No Deposit   240   NA      0                   \n",
              "  customer_type adr required_car_parking_spaces total_of_special_requests\n",
              "1 Transient      0  0                           0                        \n",
              "2 Transient      0  0                           0                        \n",
              "3 Transient     75  0                           0                        \n",
              "4 Transient     75  0                           0                        \n",
              "5 Transient     98  0                           1                        \n",
              "6 Transient     98  0                           1                        \n",
              "  reservation_status reservation_status_date\n",
              "1 Check-Out          2015-07-01             \n",
              "2 Check-Out          2015-07-01             \n",
              "3 Check-Out          2015-07-02             \n",
              "4 Check-Out          2015-07-02             \n",
              "5 Check-Out          2015-07-03             \n",
              "6 Check-Out          2015-07-03             "
            ]
          },
          "metadata": {}
        }
      ]
    },
    {
      "cell_type": "code",
      "source": [
        "names = names(hotel_csv)"
      ],
      "metadata": {
        "id": "-Df1XaPtWFqu"
      },
      "execution_count": 596,
      "outputs": []
    },
    {
      "cell_type": "markdown",
      "source": [
        "#Exploracion de la Data\n"
      ],
      "metadata": {
        "id": "CXsgZ0QpBu9L"
      }
    },
    {
      "cell_type": "code",
      "source": [
        "count_bad_data =0"
      ],
      "metadata": {
        "id": "NbD7HmwfEs7K"
      },
      "execution_count": 597,
      "outputs": []
    },
    {
      "cell_type": "code",
      "source": [
        "hotel_csv = hotel_csv%>% select(hotel, is_canceled, adr, adults, children, babies, arrival_date_month, arrival_date_week_number,  arrival_date_year, country, stays_in_weekend_nights, stays_in_week_nights, market_segment, reservation_status_date, required_car_parking_spaces)"
      ],
      "metadata": {
        "id": "suM53UE_-VyG"
      },
      "execution_count": 598,
      "outputs": []
    },
    {
      "cell_type": "code",
      "execution_count": 599,
      "metadata": {
        "id": "ev9RGCBm8Ay6",
        "colab": {
          "base_uri": "https://localhost:8080/"
        },
        "outputId": "15fb084c-16bd-4ce3-c4bd-2a6cf2631830"
      },
      "outputs": [
        {
          "output_type": "stream",
          "name": "stderr",
          "text": [
            "Warning message in eval(expr, envir, enclos):\n",
            "“NAs introduced by coercion”\n"
          ]
        }
      ],
      "source": [
        "hotel_csv$hotel = as.factor(hotel_csv$hotel)\n",
        "hotel_csv$is_canceled = as.logical(hotel_csv$is_canceled)\n",
        "hotel_csv$adults = as.integer(hotel_csv$adults)\n",
        "hotel_csv$children = as.integer(hotel_csv$children)\n",
        "hotel_csv$babies = as.integer(hotel_csv$babies)\n",
        "hotel_csv$arrival_date_month = as.factor(hotel_csv$arrival_date_month)\n",
        "hotel_csv$arrival_date_week_number = as.factor(hotel_csv$arrival_date_week_number)\n",
        "hotel_csv$arrival_date_year = as.integer(hotel_csv$arrival_date_year)\n",
        "hotel_csv$country = as.factor(hotel_csv$country)\n",
        "hotel_csv$stays_in_weekend_nights = as.integer(hotel_csv$stays_in_weekend_nights)\n",
        "hotel_csv$market_segment = as.factor(hotel_csv$market_segment)\n",
        "hotel_csv$reservation_status_date = as.Date(hotel_csv$reservation_status_date)\n",
        "hotel_csv$required_car_parking_spaces = as.integer(hotel_csv$required_car_parking_spaces)"
      ]
    },
    {
      "cell_type": "code",
      "source": [
        "str(hotel_csv)"
      ],
      "metadata": {
        "colab": {
          "base_uri": "https://localhost:8080/"
        },
        "id": "BG2BAOGGZSAl",
        "outputId": "d67ae688-6f95-4882-ab56-d2a119a3034f"
      },
      "execution_count": 600,
      "outputs": [
        {
          "output_type": "stream",
          "name": "stdout",
          "text": [
            "'data.frame':\t119390 obs. of  15 variables:\n",
            " $ hotel                      : Factor w/ 2 levels \"City Hotel\",\"Resort Hotel\": 2 2 2 2 2 2 2 2 2 2 ...\n",
            " $ is_canceled                : logi  FALSE FALSE FALSE FALSE FALSE FALSE ...\n",
            " $ adr                        : num  0 0 75 75 98 ...\n",
            " $ adults                     : int  2 2 1 1 2 2 2 2 2 2 ...\n",
            " $ children                   : int  0 0 0 0 0 0 0 0 0 0 ...\n",
            " $ babies                     : int  0 0 0 0 0 0 0 0 0 0 ...\n",
            " $ arrival_date_month         : Factor w/ 12 levels \"April\",\"August\",..: 6 6 6 6 6 6 6 6 6 6 ...\n",
            " $ arrival_date_week_number   : Factor w/ 53 levels \"1\",\"2\",\"3\",\"4\",..: 27 27 27 27 27 27 27 27 27 27 ...\n",
            " $ arrival_date_year          : int  2015 2015 2015 2015 2015 2015 2015 2015 2015 2015 ...\n",
            " $ country                    : Factor w/ 177 levels \"ABW\",\"AGO\",\"AIA\",..: 136 136 60 60 60 60 136 136 136 136 ...\n",
            " $ stays_in_weekend_nights    : int  0 0 0 0 0 0 0 0 0 0 ...\n",
            " $ stays_in_week_nights       : int  0 0 1 1 2 2 2 2 3 3 ...\n",
            " $ market_segment             : Factor w/ 8 levels \"Aviation\",\"Complementary\",..: 4 4 4 3 7 7 4 4 7 6 ...\n",
            " $ reservation_status_date    : Date, format: \"2015-07-01\" \"2015-07-01\" ...\n",
            " $ required_car_parking_spaces: int  0 0 0 0 0 0 0 0 0 0 ...\n"
          ]
        }
      ]
    },
    {
      "cell_type": "code",
      "source": [
        "# Frecuencia de variables null por columna\n",
        "\n",
        "checkNaPerColumn = function(df){\n",
        "    table = data.frame(\n",
        "        ColumnName = character(),\n",
        "        Count = integer(),\n",
        "        stringsAsFactors = FALSE\n",
        "    )\n",
        "\n",
        "    for (col in names(df)) {\n",
        "        count <- sum(sapply(df[col], function(x) is.na(x)))\n",
        "        table[nrow(table)+1,] = c(col, count)\n",
        "    }\n",
        "    table$Count = as.integer(table$Count)\n",
        "\n",
        "    return(table)\n",
        "}\n",
        "\n",
        "checkUniquePerColimn = function(df){\n",
        "    for (col in names(df)){\n",
        "        print(col)\n",
        "        uni = sort(unique(df[[col]]))\n",
        "        print(uni)\n",
        "    }\n",
        "}\n"
      ],
      "metadata": {
        "id": "m_bGII5SBtyJ"
      },
      "execution_count": 601,
      "outputs": []
    },
    {
      "cell_type": "code",
      "execution_count": 602,
      "metadata": {
        "id": "SWEwXhFkfBYG",
        "colab": {
          "base_uri": "https://localhost:8080/",
          "height": 0
        },
        "outputId": "64ffd189-f495-49d0-a64c-b35b9e105be0"
      },
      "outputs": [
        {
          "output_type": "display_data",
          "data": {
            "text/html": [
              "<table class=\"dataframe\">\n",
              "<caption>A data.frame: 15 × 2</caption>\n",
              "<thead>\n",
              "\t<tr><th></th><th scope=col>ColumnName</th><th scope=col>Count</th></tr>\n",
              "\t<tr><th></th><th scope=col>&lt;chr&gt;</th><th scope=col>&lt;int&gt;</th></tr>\n",
              "</thead>\n",
              "<tbody>\n",
              "\t<tr><th scope=row>1</th><td>hotel                      </td><td>  0</td></tr>\n",
              "\t<tr><th scope=row>2</th><td>is_canceled                </td><td>  0</td></tr>\n",
              "\t<tr><th scope=row>3</th><td>adr                        </td><td>  0</td></tr>\n",
              "\t<tr><th scope=row>4</th><td>adults                     </td><td>  0</td></tr>\n",
              "\t<tr><th scope=row>5</th><td>children                   </td><td>  4</td></tr>\n",
              "\t<tr><th scope=row>6</th><td>babies                     </td><td>  0</td></tr>\n",
              "\t<tr><th scope=row>7</th><td>arrival_date_month         </td><td>  0</td></tr>\n",
              "\t<tr><th scope=row>8</th><td>arrival_date_week_number   </td><td>  0</td></tr>\n",
              "\t<tr><th scope=row>9</th><td>arrival_date_year          </td><td>  0</td></tr>\n",
              "\t<tr><th scope=row>10</th><td>country                    </td><td>488</td></tr>\n",
              "\t<tr><th scope=row>11</th><td>stays_in_weekend_nights    </td><td>  0</td></tr>\n",
              "\t<tr><th scope=row>12</th><td>stays_in_week_nights       </td><td>  0</td></tr>\n",
              "\t<tr><th scope=row>13</th><td>market_segment             </td><td>  0</td></tr>\n",
              "\t<tr><th scope=row>14</th><td>reservation_status_date    </td><td>  0</td></tr>\n",
              "\t<tr><th scope=row>15</th><td>required_car_parking_spaces</td><td>  0</td></tr>\n",
              "</tbody>\n",
              "</table>\n"
            ],
            "text/markdown": "\nA data.frame: 15 × 2\n\n| <!--/--> | ColumnName &lt;chr&gt; | Count &lt;int&gt; |\n|---|---|---|\n| 1 | hotel                       |   0 |\n| 2 | is_canceled                 |   0 |\n| 3 | adr                         |   0 |\n| 4 | adults                      |   0 |\n| 5 | children                    |   4 |\n| 6 | babies                      |   0 |\n| 7 | arrival_date_month          |   0 |\n| 8 | arrival_date_week_number    |   0 |\n| 9 | arrival_date_year           |   0 |\n| 10 | country                     | 488 |\n| 11 | stays_in_weekend_nights     |   0 |\n| 12 | stays_in_week_nights        |   0 |\n| 13 | market_segment              |   0 |\n| 14 | reservation_status_date     |   0 |\n| 15 | required_car_parking_spaces |   0 |\n\n",
            "text/latex": "A data.frame: 15 × 2\n\\begin{tabular}{r|ll}\n  & ColumnName & Count\\\\\n  & <chr> & <int>\\\\\n\\hline\n\t1 & hotel                       &   0\\\\\n\t2 & is\\_canceled                 &   0\\\\\n\t3 & adr                         &   0\\\\\n\t4 & adults                      &   0\\\\\n\t5 & children                    &   4\\\\\n\t6 & babies                      &   0\\\\\n\t7 & arrival\\_date\\_month          &   0\\\\\n\t8 & arrival\\_date\\_week\\_number    &   0\\\\\n\t9 & arrival\\_date\\_year           &   0\\\\\n\t10 & country                     & 488\\\\\n\t11 & stays\\_in\\_weekend\\_nights     &   0\\\\\n\t12 & stays\\_in\\_week\\_nights        &   0\\\\\n\t13 & market\\_segment              &   0\\\\\n\t14 & reservation\\_status\\_date     &   0\\\\\n\t15 & required\\_car\\_parking\\_spaces &   0\\\\\n\\end{tabular}\n",
            "text/plain": [
              "   ColumnName                  Count\n",
              "1  hotel                         0  \n",
              "2  is_canceled                   0  \n",
              "3  adr                           0  \n",
              "4  adults                        0  \n",
              "5  children                      4  \n",
              "6  babies                        0  \n",
              "7  arrival_date_month            0  \n",
              "8  arrival_date_week_number      0  \n",
              "9  arrival_date_year             0  \n",
              "10 country                     488  \n",
              "11 stays_in_weekend_nights       0  \n",
              "12 stays_in_week_nights          0  \n",
              "13 market_segment                0  \n",
              "14 reservation_status_date       0  \n",
              "15 required_car_parking_spaces   0  "
            ]
          },
          "metadata": {}
        }
      ],
      "source": [
        "naTable = checkNaPerColumn(hotel_csv)\n",
        "naTable"
      ]
    },
    {
      "cell_type": "code",
      "source": [
        "naCount = sum(naTable$Count)\n",
        "totalCount = nrow(hotel_csv) * ncol(hotel_csv)"
      ],
      "metadata": {
        "id": "dsea3M2mDDoV"
      },
      "execution_count": 603,
      "outputs": []
    },
    {
      "cell_type": "code",
      "source": [
        "count_bad_data = count_bad_data + naCount"
      ],
      "metadata": {
        "id": "PQplz2-gExC8"
      },
      "execution_count": 604,
      "outputs": []
    },
    {
      "cell_type": "code",
      "source": [
        "naCount"
      ],
      "metadata": {
        "colab": {
          "base_uri": "https://localhost:8080/",
          "height": 0
        },
        "id": "1T912n_dISiD",
        "outputId": "958bc4da-9f9d-4178-9c51-11842177e21a"
      },
      "execution_count": 605,
      "outputs": [
        {
          "output_type": "display_data",
          "data": {
            "text/html": [
              "492"
            ],
            "text/markdown": "492",
            "text/latex": "492",
            "text/plain": [
              "[1] 492"
            ]
          },
          "metadata": {}
        }
      ]
    },
    {
      "cell_type": "code",
      "source": [
        "totalCount"
      ],
      "metadata": {
        "colab": {
          "base_uri": "https://localhost:8080/",
          "height": 0
        },
        "id": "ThDkrOj_IbGE",
        "outputId": "be43da56-a495-4c8c-ea34-57c15f2ff236"
      },
      "execution_count": 606,
      "outputs": [
        {
          "output_type": "display_data",
          "data": {
            "text/html": [
              "1790850"
            ],
            "text/markdown": "1790850",
            "text/latex": "1790850",
            "text/plain": [
              "[1] 1790850"
            ]
          },
          "metadata": {}
        }
      ]
    },
    {
      "cell_type": "code",
      "source": [
        "cat(\"El porcentaje de valores nulos es: \", naCount/totalCount * 100, \"%\")"
      ],
      "metadata": {
        "colab": {
          "base_uri": "https://localhost:8080/"
        },
        "id": "01Jx7PJgIynD",
        "outputId": "561cca4c-75fc-4592-e638-ba2e8567bc8f"
      },
      "execution_count": 607,
      "outputs": [
        {
          "output_type": "stream",
          "name": "stdout",
          "text": [
            "El porcentaje de valores nulos es:  0.02747299 %"
          ]
        }
      ]
    },
    {
      "cell_type": "code",
      "source": [
        "checkUniquePerColimn(hotel_csv)"
      ],
      "metadata": {
        "id": "P_1t6bfyzDcc",
        "colab": {
          "base_uri": "https://localhost:8080/"
        },
        "outputId": "5f2aae8d-5b1c-4d31-b905-bf3177506030"
      },
      "execution_count": 608,
      "outputs": [
        {
          "output_type": "stream",
          "name": "stdout",
          "text": [
            "[1] \"hotel\"\n",
            "[1] City Hotel   Resort Hotel\n",
            "Levels: City Hotel Resort Hotel\n",
            "[1] \"is_canceled\"\n",
            "[1] FALSE  TRUE\n",
            "[1] \"adr\"\n",
            "   [1]   -6.38    0.00    0.26    0.50    1.00    1.29    1.48    1.56    1.60\n",
            "  [10]    1.80    2.00    2.40    3.00    3.38    4.00    4.50    5.00    5.20\n",
            "  [19]    5.25    6.00    6.40    6.50    6.67    6.90    7.00    7.80    8.00\n",
            "  [28]    8.34    8.43    9.00    9.14    9.67    9.71   10.00   10.50   10.80\n",
            "  [37]   11.53   11.75   12.00   12.50   13.00   14.00   15.00   16.00   16.92\n",
            "  [46]   17.50   17.60   18.00   18.50   18.60   19.00   19.09   19.15   19.35\n",
            "  [55]   20.00   20.88   21.00   21.37   21.50   22.00   22.11   22.40   22.50\n",
            "  [64]   22.86   23.00   23.50   23.60   23.70   23.93   24.00   24.50   24.70\n",
            "  [73]   24.79   24.80   24.83   24.87   24.94   24.95   25.00   25.11   25.42\n",
            "  [82]   25.50   25.64   25.65   25.92   26.00   26.10   26.23   26.26   26.33\n",
            "  [91]   26.35   26.50   26.64   26.93   26.95   26.99   27.00   27.07   27.35\n",
            " [100]   27.36   27.43   27.50   27.53   27.54   27.56   27.60   27.69   27.81\n",
            " [109]   27.90   28.00   28.10   28.30   28.33   28.50   28.64   28.71   28.79\n",
            " [118]   28.80   29.00   29.01   29.06   29.11   29.16   29.30   29.34   29.41\n",
            " [127]   29.60   29.72   29.73   29.75   29.78   29.80   29.96   29.97   30.00\n",
            " [136]   30.03   30.24   30.30   30.40   30.43   30.50   30.60   30.67   30.71\n",
            " [145]   30.80   30.86   30.90   30.96   30.99   31.00   31.05   31.12   31.16\n",
            " [154]   31.18   31.20   31.21   31.40   31.41   31.45   31.50   31.59   31.60\n",
            " [163]   31.63   31.64   31.65   31.67   31.71   31.80   31.88   31.95   32.00\n",
            " [172]   32.01   32.02   32.10   32.22   32.23   32.24   32.30   32.31   32.34\n",
            " [181]   32.40   32.50   32.60   32.62   32.71   32.77   32.80   32.83   32.85\n",
            " [190]   32.95   33.00   33.05   33.08   33.11   33.15   33.26   33.27   33.30\n",
            " [199]   33.31   33.35   33.45   33.58   33.60   33.65   33.68   33.71   33.84\n",
            " [208]   33.88   33.94   34.00   34.02   34.11   34.19   34.20   34.24   34.30\n",
            " [217]   34.33   34.40   34.43   34.44   34.50   34.51   34.56   34.57   34.63\n",
            " [226]   34.65   34.73   34.79   34.80   34.82   34.85   34.86   34.97   35.00\n",
            " [235]   35.05   35.10   35.11   35.12   35.14   35.15   35.16   35.20   35.24\n",
            " [244]   35.25   35.27   35.28   35.33   35.34   35.40   35.45   35.46   35.47\n",
            " [253]   35.50   35.60   35.63   35.64   35.65   35.67   35.70   35.71   35.72\n",
            " [262]   35.81   35.95   35.99   36.00   36.04   36.05   36.10   36.12   36.13\n",
            " [271]   36.14   36.20   36.22   36.24   36.25   36.26   36.29   36.32   36.38\n",
            " [280]   36.40   36.43   36.45   36.50   36.53   36.55   36.60   36.61   36.64\n",
            " [289]   36.72   36.74   36.75   36.80   36.84   36.86   36.90   36.93   36.96\n",
            " [298]   37.00   37.01   37.05   37.07   37.10   37.14   37.15   37.20   37.25\n",
            " [307]   37.29   37.30   37.31   37.33   37.37   37.40   37.43   37.44   37.45\n",
            " [316]   37.50   37.53   37.54   37.56   37.60   37.67   37.70   37.71   37.73\n",
            " [325]   37.80   37.83   37.86   37.94   37.95   38.00   38.03   38.04   38.07\n",
            " [334]   38.10   38.11   38.12   38.13   38.22   38.25   38.29   38.32   38.33\n",
            " [343]   38.40   38.46   38.47   38.50   38.55   38.57   38.62   38.67   38.68\n",
            " [352]   38.70   38.77   38.81   38.83   38.86   38.88   38.92   38.93   38.96\n",
            " [361]   39.00   39.04   39.06   39.10   39.13   39.14   39.15   39.20   39.21\n",
            " [370]   39.24   39.26   39.27   39.30   39.33   39.38   39.40   39.41   39.42\n",
            " [379]   39.44   39.50   39.51   39.60   39.67   39.68   39.69   39.70   39.74\n",
            " [388]   39.76   39.79   39.80   39.83   39.84   39.90   39.91   39.93   39.95\n",
            " [397]   39.96   39.99   40.00   40.03   40.05   40.07   40.10   40.11   40.14\n",
            " [406]   40.19   40.23   40.24   40.25   40.29   40.31   40.32   40.39   40.40\n",
            " [415]   40.50   40.54   40.65   40.66   40.67   40.68   40.70   40.75   40.76\n",
            " [424]   40.79   40.80   40.81   40.83   40.85   40.93   40.94   40.95   40.96\n",
            " [433]   41.00   41.04   41.09   41.10   41.11   41.18   41.20   41.25   41.27\n",
            " [442]   41.29   41.30   41.33   41.35   41.37   41.40   41.43   41.45   41.46\n",
            " [451]   41.47   41.48   41.50   41.51   41.52   41.53   41.57   41.58   41.60\n",
            " [460]   41.62   41.65   41.71   41.75   41.76   41.84   41.85   41.87   41.88\n",
            " [469]   41.89   41.93   41.94   41.96   41.97   41.98   42.00   42.04   42.05\n",
            " [478]   42.08   42.10   42.11   42.12   42.14   42.17   42.19   42.23   42.24\n",
            " [487]   42.25   42.28   42.29   42.30   42.35   42.36   42.38   42.40   42.43\n",
            " [496]   42.45   42.50   42.51   42.55   42.56   42.57   42.60   42.65   42.66\n",
            " [505]   42.67   42.69   42.70   42.75   42.81   42.83   42.86   42.90   42.95\n",
            " [514]   42.97   43.00   43.03   43.08   43.11   43.12   43.14   43.16   43.19\n",
            " [523]   43.20   43.25   43.26   43.30   43.33   43.38   43.40   43.41   43.43\n",
            " [532]   43.47   43.50   43.53   43.57   43.60   43.65   43.66   43.67   43.70\n",
            " [541]   43.71   43.73   43.74   43.75   43.76   43.78   43.80   43.88   43.89\n",
            " [550]   43.90   43.92   43.93   43.96   43.97   44.00   44.04   44.07   44.10\n",
            " [559]   44.11   44.14   44.15   44.16   44.18   44.27   44.28   44.30   44.33\n",
            " [568]   44.36   44.38   44.40   44.41   44.43   44.45   44.46   44.49   44.50\n",
            " [577]   44.53   44.56   44.60   44.64   44.66   44.67   44.70   44.71   44.77\n",
            " [586]   44.80   44.81   44.87   44.88   44.95   44.97   44.99   45.00   45.05\n",
            " [595]   45.10   45.14   45.20   45.29   45.33   45.35   45.36   45.37   45.45\n",
            " [604]   45.50   45.51   45.55   45.56   45.60   45.64   45.65   45.66   45.67\n",
            " [613]   45.69   45.72   45.77   45.80   45.82   45.86   45.87   45.89   45.90\n",
            " [622]   45.93   46.00   46.07   46.08   46.10   46.14   46.16   46.17   46.18\n",
            " [631]   46.20   46.22   46.24   46.27   46.33   46.35   46.36   46.40   46.43\n",
            " [640]   46.44   46.50   46.51   46.54   46.57   46.63   46.64   46.65   46.66\n",
            " [649]   46.67   46.69   46.70   46.75   46.76   46.80   46.83   46.88   46.90\n",
            " [658]   46.93   46.96   46.98   47.00   47.04   47.05   47.06   47.07   47.12\n",
            " [667]   47.13   47.14   47.20   47.23   47.24   47.25   47.33   47.36   47.40\n",
            " [676]   47.43   47.44   47.45   47.46   47.50   47.53   47.54   47.55   47.56\n",
            " [685]   47.57   47.60   47.67   47.70   47.72   47.74   47.76   47.78   47.79\n",
            " [694]   47.80   47.83   47.85   47.86   47.90   47.92   47.97   47.98   48.00\n",
            " [703]   48.03   48.05   48.06   48.08   48.10   48.12   48.14   48.18   48.19\n",
            " [712]   48.20   48.25   48.27   48.30   48.32   48.33   48.38   48.40   48.42\n",
            " [721]   48.43   48.47   48.50   48.51   48.54   48.57   48.60   48.61   48.67\n",
            " [730]   48.70   48.71   48.72   48.74   48.75   48.76   48.78   48.80   48.86\n",
            " [739]   48.88   48.90   48.95   48.96   48.98   49.00   49.01   49.02   49.07\n",
            " [748]   49.09   49.10   49.11   49.16   49.17   49.18   49.20   49.22   49.25\n",
            " [757]   49.30   49.37   49.40   49.43   49.44   49.50   49.51   49.57   49.58\n",
            " [766]   49.59   49.60   49.66   49.67   49.68   49.70   49.71   49.74   49.75\n",
            " [775]   49.78   49.80   49.90   49.92   49.94   49.95   49.99   50.00   50.02\n",
            " [784]   50.03   50.05   50.06   50.10   50.13   50.15   50.16   50.17   50.18\n",
            " [793]   50.19   50.20   50.22   50.24   50.30   50.33   50.36   50.40   50.43\n",
            " [802]   50.44   50.46   50.48   50.50   50.51   50.54   50.55   50.57   50.59\n",
            " [811]   50.60   50.63   50.66   50.67   50.68   50.77   50.80   50.83   50.84\n",
            " [820]   50.85   50.86   50.87   50.88   50.91   50.93   50.95   50.96   50.97\n",
            " [829]   50.98   51.00   51.02   51.04   51.05   51.09   51.12   51.13   51.18\n",
            " [838]   51.19   51.20   51.21   51.22   51.25   51.27   51.28   51.29   51.30\n",
            " [847]   51.33   51.35   51.36   51.37   51.40   51.43   51.47   51.49   51.50\n",
            " [856]   51.59   51.60   51.66   51.67   51.68   51.69   51.70   51.71   51.75\n",
            " [865]   51.76   51.80   51.84   51.85   51.87   51.89   51.90   51.92   51.94\n",
            " [874]   51.95   51.96   51.97   51.98   51.99   52.00   52.02   52.14   52.15\n",
            " [883]   52.18   52.20   52.23   52.25   52.27   52.33   52.35   52.36   52.39\n",
            " [892]   52.40   52.43   52.46   52.50   52.51   52.55   52.56   52.58   52.59\n",
            " [901]   52.60   52.65   52.66   52.67   52.68   52.70   52.71   52.73   52.75\n",
            " [910]   52.80   52.83   52.85   52.86   52.90   52.95   52.97   52.98   53.00\n",
            " [919]   53.01   53.04   53.06   53.10   53.12   53.13   53.14   53.19   53.20\n",
            " [928]   53.24   53.25   53.27   53.28   53.30   53.32   53.33   53.37   53.38\n",
            " [937]   53.39   53.40   53.41   53.44   53.45   53.46   53.47   53.50   53.52\n",
            " [946]   53.54   53.55   53.56   53.57   53.58   53.60   53.63   53.67   53.68\n",
            " [955]   53.69   53.70   53.71   53.72   53.79   53.80   53.82   53.83   53.84\n",
            " [964]   53.85   53.86   53.87   53.90   53.94   53.95   53.97   53.99   54.00\n",
            " [973]   54.02   54.05   54.06   54.08   54.09   54.15   54.20   54.21   54.24\n",
            " [982]   54.25   54.27   54.29   54.31   54.32   54.33   54.35   54.40   54.41\n",
            " [991]   54.43   54.46   54.47   54.50   54.56   54.60   54.63   54.64   54.67\n",
            "[1000]   54.68   54.70   54.71   54.72   54.74   54.75   54.77   54.80   54.84\n",
            "[1009]   54.86   54.88   54.90   54.97   54.98   54.99   55.00   55.04   55.06\n",
            "[1018]   55.07   55.08   55.09   55.10   55.11   55.13   55.14   55.19   55.20\n",
            "[1027]   55.24   55.25   55.28   55.30   55.32   55.33   55.35   55.38   55.39\n",
            "[1036]   55.40   55.41   55.43   55.44   55.46   55.48   55.49   55.50   55.53\n",
            "[1045]   55.56   55.57   55.59   55.60   55.63   55.64   55.65   55.68   55.69\n",
            "[1054]   55.71   55.72   55.73   55.74   55.76   55.78   55.79   55.80   55.83\n",
            "[1063]   55.86   55.87   55.89   55.90   55.92   55.95   55.96   56.00   56.01\n",
            "[1072]   56.02   56.05   56.10   56.11   56.16   56.17   56.20   56.21   56.24\n",
            "[1081]   56.25   56.27   56.29   56.33   56.37   56.38   56.40   56.42   56.45\n",
            "[1090]   56.47   56.48   56.50   56.51   56.52   56.57   56.58   56.59   56.60\n",
            "[1099]   56.62   56.63   56.67   56.70   56.71   56.72   56.73   56.80   56.82\n",
            "[1108]   56.83   56.85   56.86   56.88   56.89   56.90   56.93   56.94   56.95\n",
            "[1117]   56.96   56.98   57.00   57.04   57.05   57.06   57.09   57.10   57.11\n",
            "[1126]   57.14   57.15   57.20   57.22   57.23   57.25   57.28   57.29   57.30\n",
            "[1135]   57.33   57.34   57.39   57.40   57.43   57.44   57.47   57.50   57.51\n",
            "[1144]   57.52   57.53   57.54   57.55   57.59   57.60   57.61   57.64   57.65\n",
            "[1153]   57.67   57.68   57.70   57.72   57.73   57.74   57.75   57.76   57.80\n",
            "[1162]   57.83   57.85   57.88   57.90   57.92   57.93   57.96   57.97   57.98\n",
            "[1171]   58.00   58.02   58.04   58.05   58.10   58.13   58.14   58.16   58.17\n",
            "[1180]   58.20   58.22   58.23   58.24   58.25   58.30   58.31   58.32   58.33\n",
            "[1189]   58.35   58.36   58.37   58.38   58.40   58.41   58.43   58.45   58.47\n",
            "[1198]   58.50   58.52   58.55   58.56   58.57   58.60   58.61   58.63   58.65\n",
            "[1207]   58.67   58.68   58.70   58.71   58.72   58.74   58.75   58.76   58.80\n",
            "[1216]   58.88   58.90   58.91   58.92   58.93   58.94   58.95   58.98   59.00\n",
            "[1225]   59.02   59.03   59.04   59.06   59.07   59.08   59.09   59.10   59.12\n",
            "[1234]   59.13   59.14   59.16   59.18   59.20   59.21   59.22   59.24   59.26\n",
            "[1243]   59.28   59.29   59.30   59.31   59.32   59.33   59.37   59.38   59.40\n",
            "[1252]   59.48   59.50   59.51   59.56   59.60   59.62   59.64   59.65   59.66\n",
            "[1261]   59.67   59.71   59.72   59.73   59.75   59.78   59.79   59.80   59.84\n",
            "[1270]   59.85   59.89   59.90   59.91   59.93   59.94   59.95   60.00   60.06\n",
            "[1279]   60.07   60.10   60.13   60.15   60.16   60.18   60.19   60.20   60.21\n",
            "[1288]   60.24   60.25   60.27   60.29   60.30   60.35   60.36   60.40   60.43\n",
            "[1297]   60.44   60.46   60.48   60.50   60.51   60.56   60.59   60.60   60.61\n",
            "[1306]   60.63   60.64   60.65   60.67   60.70   60.71   60.74   60.75   60.80\n",
            "[1315]   60.82   60.83   60.84   60.87   60.90   60.92   60.94   60.96   60.97\n",
            "[1324]   60.98   61.00   61.02   61.06   61.07   61.08   61.09   61.11   61.15\n",
            "[1333]   61.16   61.19   61.20   61.21   61.25   61.28   61.33   61.35   61.38\n",
            "[1342]   61.39   61.40   61.41   61.43   61.50   61.52   61.53   61.56   61.58\n",
            "[1351]   61.60   61.61   61.64   61.65   61.67   61.68   61.70   61.71   61.73\n",
            "[1360]   61.75   61.80   61.86   61.87   61.88   61.92   61.93   62.00   62.03\n",
            "[1369]   62.04   62.05   62.10   62.12   62.16   62.17   62.18   62.20   62.21\n",
            "[1378]   62.25   62.28   62.29   62.30   62.32   62.34   62.37   62.38   62.40\n",
            "[1387]   62.43   62.45   62.47   62.48   62.50   62.53   62.54   62.56   62.57\n",
            "[1396]   62.58   62.60   62.63   62.64   62.67   62.69   62.70   62.71   62.73\n",
            "[1405]   62.75   62.80   62.81   62.82   62.83   62.86   62.88   62.90   62.91\n",
            "[1414]   62.95   63.00   63.01   63.03   63.05   63.06   63.07   63.08   63.10\n",
            "[1423]   63.11   63.12   63.13   63.14   63.17   63.20   63.21   63.22   63.26\n",
            "[1432]   63.27   63.28   63.29   63.30   63.31   63.32   63.33   63.36   63.37\n",
            "[1441]   63.40   63.42   63.45   63.46   63.47   63.49   63.50   63.55   63.56\n",
            "[1450]   63.57   63.58   63.60   63.61   63.65   63.66   63.67   63.68   63.71\n",
            "[1459]   63.72   63.75   63.76   63.79   63.80   63.82   63.84   63.86   63.87\n",
            "[1468]   63.88   63.90   63.91   63.92   63.95   64.00   64.03   64.05   64.08\n",
            "[1477]   64.09   64.10   64.12   64.14   64.15   64.17   64.18   64.21   64.22\n",
            "[1486]   64.24   64.25   64.26   64.28   64.29   64.31   64.33   64.35   64.37\n",
            "[1495]   64.40   64.42   64.44   64.45   64.46   64.49   64.50   64.52   64.54\n",
            "[1504]   64.56   64.60   64.64   64.67   64.68   64.70   64.71   64.72   64.75\n",
            "[1513]   64.76   64.78   64.79   64.80   64.83   64.85   64.88   64.90   64.94\n",
            "[1522]   64.95   64.96   64.98   65.00   65.02   65.04   65.05   65.06   65.07\n",
            "[1531]   65.09   65.10   65.11   65.12   65.13   65.14   65.16   65.18   65.19\n",
            "[1540]   65.20   65.23   65.25   65.27   65.29   65.30   65.31   65.32   65.33\n",
            "[1549]   65.35   65.36   65.37   65.40   65.42   65.43   65.44   65.45   65.46\n",
            "[1558]   65.49   65.50   65.52   65.54   65.55   65.57   65.58   65.60   65.61\n",
            "[1567]   65.64   65.65   65.66   65.67   65.70   65.73   65.75   65.76   65.77\n",
            "[1576]   65.79   65.80   65.83   65.84   65.85   65.86   65.87   65.89   65.90\n",
            "[1585]   65.91   65.96   66.00   66.02   66.06   66.13   66.14   66.15   66.16\n",
            "[1594]   66.18   66.20   66.21   66.22   66.23   66.24   66.25   66.28   66.29\n",
            "[1603]   66.30   66.31   66.32   66.34   66.37   66.38   66.40   66.42   66.43\n",
            "[1612]   66.44   66.45   66.48   66.49   66.50   66.51   66.53   66.57   66.58\n",
            "[1621]   66.59   66.60   66.63   66.64   66.67   66.70   66.71   66.72   66.75\n",
            "[1630]   66.76   66.80   66.81   66.83   66.84   66.88   66.98   66.99   67.00\n",
            "[1639]   67.05   67.09   67.13   67.14   67.15   67.19   67.20   67.22   67.24\n",
            "[1648]   67.25   67.26   67.30   67.31   67.32   67.33   67.35   67.37   67.38\n",
            "[1657]   67.40   67.41   67.42   67.43   67.44   67.45   67.49   67.50   67.52\n",
            "[1666]   67.54   67.56   67.57   67.58   67.59   67.60   67.66   67.67   67.68\n",
            "[1675]   67.70   67.71   67.75   67.76   67.77   67.78   67.79   67.80   67.81\n",
            "[1684]   67.82   67.83   67.85   67.86   67.87   67.88   67.89   67.90   67.91\n",
            "[1693]   67.92   67.93   67.94   67.95   67.99   68.00   68.03   68.04   68.06\n",
            "[1702]   68.07   68.08   68.14   68.15   68.16   68.17   68.18   68.20   68.22\n",
            "[1711]   68.23   68.25   68.26   68.30   68.33   68.34   68.35   68.40   68.42\n",
            "[1720]   68.43   68.45   68.47   68.49   68.50   68.51   68.53   68.54   68.55\n",
            "[1729]   68.56   68.57   68.60   68.61   68.64   68.65   68.66   68.67   68.68\n",
            "[1738]   68.69   68.70   68.71   68.72   68.74   68.75   68.76   68.77   68.79\n",
            "[1747]   68.80   68.81   68.83   68.84   68.85   68.86   68.88   68.92   68.95\n",
            "[1756]   68.99   69.00   69.01   69.02   69.03   69.04   69.05   69.09   69.10\n",
            "[1765]   69.11   69.12   69.13   69.17   69.20   69.21   69.22   69.24   69.25\n",
            "[1774]   69.29   69.30   69.33   69.35   69.36   69.37   69.38   69.40   69.42\n",
            "[1783]   69.43   69.44   69.49   69.50   69.52   69.53   69.54   69.56   69.57\n",
            "[1792]   69.58   69.60   69.64   69.66   69.67   69.68   69.70   69.71   69.74\n",
            "[1801]   69.75   69.76   69.77   69.82   69.83   69.84   69.85   69.86   69.90\n",
            "[1810]   69.91   69.92   69.93   69.94   69.95   69.96   69.98   69.99   70.00\n",
            "[1819]   70.03   70.04   70.05   70.07   70.11   70.12   70.13   70.14   70.15\n",
            "[1828]   70.16   70.17   70.20   70.22   70.25   70.26   70.29   70.30   70.31\n",
            "[1837]   70.33   70.38   70.39   70.40   70.41   70.42   70.43   70.44   70.45\n",
            "[1846]   70.46   70.47   70.48   70.50   70.53   70.55   70.56   70.60   70.64\n",
            "[1855]   70.66   70.67   70.68   70.69   70.71   70.72   70.73   70.75   70.78\n",
            "[1864]   70.80   70.82   70.83   70.84   70.85   70.86   70.87   70.88   70.91\n",
            "[1873]   70.92   70.95   70.97   70.98   70.99   71.00   71.04   71.05   71.10\n",
            "[1882]   71.11   71.14   71.17   71.18   71.19   71.20   71.21   71.22   71.23\n",
            "[1891]   71.25   71.26   71.28   71.29   71.30   71.33   71.36   71.37   71.38\n",
            "[1900]   71.39   71.40   71.41   71.42   71.43   71.44   71.45   71.46   71.48\n",
            "[1909]   71.50   71.52   71.53   71.55   71.56   71.57   71.60   71.61   71.64\n",
            "[1918]   71.65   71.66   71.67   71.69   71.70   71.71   71.72   71.73   71.74\n",
            "[1927]   71.76   71.80   71.81   71.82   71.83   71.84   71.85   71.86   71.87\n",
            "[1936]   71.88   71.89   71.90   71.91   71.93   71.94   71.96   72.00   72.05\n",
            "[1945]   72.06   72.07   72.08   72.09   72.10   72.12   72.13   72.14   72.15\n",
            "[1954]   72.16   72.18   72.20   72.21   72.22   72.24   72.25   72.26   72.29\n",
            "[1963]   72.31   72.33   72.36   72.37   72.38   72.39   72.40   72.41   72.42\n",
            "[1972]   72.43   72.45   72.47   72.49   72.50   72.55   72.56   72.58   72.60\n",
            "[1981]   72.63   72.64   72.65   72.66   72.67   72.68   72.69   72.71   72.72\n",
            "[1990]   72.75   72.76   72.77   72.80   72.83   72.84   72.86   72.88   72.89\n",
            "[1999]   72.90   72.91   72.93   72.94   72.95   72.96   72.97   72.98   73.00\n",
            "[2008]   73.03   73.05   73.06   73.07   73.08   73.10   73.12   73.14   73.15\n",
            "[2017]   73.18   73.20   73.21   73.22   73.23   73.25   73.28   73.29   73.30\n",
            "[2026]   73.32   73.33   73.35   73.36   73.37   73.38   73.39   73.40   73.41\n",
            "[2035]   73.42   73.43   73.44   73.45   73.46   73.47   73.49   73.50   73.51\n",
            "[2044]   73.56   73.57   73.60   73.61   73.63   73.64   73.65   73.66   73.67\n",
            "[2053]   73.68   73.69   73.70   73.71   73.73   73.74   73.75   73.76   73.77\n",
            "[2062]   73.79   73.80   73.81   73.83   73.86   73.87   73.88   73.89   73.90\n",
            "[2071]   73.92   73.94   73.95   73.96   73.98   74.00   74.03   74.04   74.05\n",
            "[2080]   74.06   74.07   74.08   74.10   74.12   74.13   74.14   74.15   74.17\n",
            "[2089]   74.18   74.20   74.23   74.25   74.28   74.29   74.31   74.33   74.37\n",
            "[2098]   74.38   74.39   74.40   74.42   74.43   74.44   74.45   74.46   74.48\n",
            "[2107]   74.49   74.50   74.53   74.54   74.57   74.60   74.61   74.62   74.63\n",
            "[2116]   74.64   74.65   74.67   74.68   74.69   74.70   74.72   74.75   74.76\n",
            "[2125]   74.80   74.82   74.83   74.84   74.86   74.88   74.89   74.90   74.91\n",
            "[2134]   74.93   74.94   74.95   75.00   75.03   75.05   75.07   75.08   75.09\n",
            "[2143]   75.10   75.14   75.15   75.16   75.18   75.20   75.23   75.24   75.25\n",
            "[2152]   75.26   75.27   75.28   75.30   75.33   75.34   75.35   75.36   75.38\n",
            "[2161]   75.40   75.42   75.43   75.44   75.46   75.47   75.48   75.50   75.51\n",
            "[2170]   75.52   75.53   75.54   75.56   75.57   75.60   75.65   75.66   75.68\n",
            "[2179]   75.70   75.71   75.75   75.76   75.77   75.79   75.80   75.81   75.82\n",
            "[2188]   75.83   75.86   75.88   75.89   75.90   75.92   75.93   75.95   75.96\n",
            "[2197]   75.99   76.00   76.03   76.05   76.08   76.10   76.11   76.12   76.13\n",
            "[2206]   76.14   76.16   76.19   76.20   76.22   76.23   76.24   76.25   76.27\n",
            "[2215]   76.29   76.30   76.32   76.33   76.35   76.36   76.38   76.40   76.42\n",
            "[2224]   76.43   76.44   76.46   76.47   76.48   76.50   76.55   76.56   76.57\n",
            "[2233]   76.58   76.59   76.60   76.61   76.64   76.67   76.69   76.70   76.71\n",
            "[2242]   76.72   76.75   76.76   76.77   76.78   76.80   76.81   76.83   76.84\n",
            "[2251]   76.85   76.86   76.89   76.90   76.91   76.92   76.93   76.94   76.95\n",
            "[2260]   76.96   76.97   77.00   77.01   77.03   77.04   77.10   77.11   77.14\n",
            "[2269]   77.18   77.19   77.20   77.21   77.22   77.23   77.25   77.29   77.30\n",
            "[2278]   77.33   77.35   77.36   77.38   77.39   77.40   77.43   77.44   77.45\n",
            "[2287]   77.47   77.49   77.50   77.51   77.52   77.53   77.54   77.55   77.56\n",
            "[2296]   77.57   77.58   77.60   77.61   77.62   77.63   77.64   77.65   77.66\n",
            "[2305]   77.68   77.69   77.70   77.71   77.73   77.75   77.76   77.77   77.78\n",
            "[2314]   77.79   77.80   77.83   77.84   77.85   77.86   77.87   77.88   77.89\n",
            "[2323]   77.90   77.92   77.93   77.96   77.99   78.00   78.03   78.08   78.10\n",
            "[2332]   78.15   78.17   78.18   78.19   78.20   78.23   78.25   78.26   78.30\n",
            "[2341]   78.31   78.33   78.35   78.36   78.40   78.41   78.42   78.43   78.44\n",
            "[2350]   78.45   78.48   78.49   78.50   78.52   78.53   78.54   78.55   78.56\n",
            "[2359]   78.57   78.60   78.61   78.63   78.65   78.66   78.67   78.69   78.71\n",
            "[2368]   78.75   78.76   78.77   78.80   78.81   78.84   78.85   78.86   78.87\n",
            "[2377]   78.88   78.90   78.93   78.94   78.95   78.96   78.98   78.99   79.00\n",
            "[2386]   79.02   79.03   79.05   79.06   79.09   79.11   79.13   79.14   79.15\n",
            "[2395]   79.17   79.20   79.22   79.23   79.25   79.26   79.27   79.29   79.30\n",
            "[2404]   79.31   79.33   79.35   79.36   79.38   79.39   79.40   79.41   79.42\n",
            "[2413]   79.43   79.46   79.47   79.48   79.49   79.50   79.53   79.54   79.56\n",
            "[2422]   79.57   79.59   79.60   79.62   79.63   79.64   79.65   79.66   79.67\n",
            "[2431]   79.69   79.70   79.72   79.73   79.74   79.75   79.77   79.80   79.82\n",
            "[2440]   79.83   79.84   79.85   79.86   79.88   79.90   79.92   79.97   80.00\n",
            "[2449]   80.01   80.02   80.03   80.04   80.07   80.08   80.09   80.10   80.14\n",
            "[2458]   80.16   80.19   80.20   80.22   80.23   80.24   80.25   80.26   80.27\n",
            "[2467]   80.30   80.32   80.33   80.35   80.39   80.40   80.41   80.42   80.43\n",
            "[2476]   80.44   80.45   80.46   80.47   80.50   80.54   80.55   80.56   80.57\n",
            "[2485]   80.60   80.61   80.62   80.63   80.66   80.67   80.70   80.71   80.74\n",
            "[2494]   80.75   80.76   80.79   80.80   80.81   80.82   80.85   80.86   80.87\n",
            "[2503]   80.88   80.92   80.94   80.95   80.99   81.00   81.01   81.02   81.05\n",
            "[2512]   81.07   81.08   81.09   81.10   81.16   81.18   81.19   81.20   81.23\n",
            "[2521]   81.24   81.25   81.26   81.28   81.29   81.30   81.31   81.33   81.34\n",
            "[2530]   81.35   81.36   81.39   81.40   81.43   81.44   81.45   81.47   81.50\n",
            "[2539]   81.51   81.53   81.54   81.55   81.56   81.57   81.60   81.62   81.66\n",
            "[2548]   81.67   81.68   81.69   81.70   81.71   81.73   81.75   81.76   81.77\n",
            "[2557]   81.79   81.80   81.81   81.82   81.85   81.86   81.88   81.90   81.95\n",
            "[2566]   81.96   81.98   81.99   82.00   82.02   82.03   82.07   82.08   82.10\n",
            "[2575]   82.11   82.12   82.13   82.15   82.17   82.18   82.19   82.20   82.23\n",
            "[2584]   82.24   82.25   82.28   82.29   82.30   82.31   82.33   82.35   82.39\n",
            "[2593]   82.40   82.42   82.44   82.45   82.47   82.49   82.50   82.51   82.57\n",
            "[2602]   82.59   82.61   82.62   82.63   82.65   82.66   82.67   82.68   82.69\n",
            "[2611]   82.70   82.71   82.72   82.73   82.74   82.75   82.76   82.79   82.80\n",
            "[2620]   82.83   82.84   82.85   82.86   82.87   82.88   82.90   82.92   82.94\n",
            "[2629]   82.95   82.96   82.98   82.99   83.00   83.01   83.03   83.04   83.05\n",
            "[2638]   83.06   83.09   83.10   83.12   83.13   83.15   83.16   83.18   83.20\n",
            "[2647]   83.22   83.23   83.25   83.26   83.30   83.31   83.33   83.38   83.39\n",
            "[2656]   83.40   83.43   83.47   83.48   83.50   83.52   83.55   83.57   83.58\n",
            "[2665]   83.59   83.60   83.61   83.62   83.64   83.66   83.67   83.70   83.71\n",
            "[2674]   83.73   83.75   83.76   83.78   83.79   83.80   83.81   83.83   83.84\n",
            "[2683]   83.85   83.86   83.87   83.90   83.92   83.93   83.94   83.96   84.00\n",
            "[2692]   84.01   84.02   84.03   84.05   84.07   84.08   84.12   84.13   84.14\n",
            "[2701]   84.15   84.17   84.20   84.21   84.23   84.24   84.25   84.28   84.29\n",
            "[2710]   84.30   84.31   84.32   84.33   84.35   84.37   84.38   84.39   84.40\n",
            "[2719]   84.42   84.43   84.45   84.47   84.49   84.50   84.51   84.52   84.55\n",
            "[2728]   84.56   84.57   84.58   84.60   84.65   84.67   84.69   84.70   84.71\n",
            "[2737]   84.72   84.73   84.76   84.80   84.82   84.83   84.85   84.90   84.92\n",
            "[2746]   84.93   84.95   84.96   85.00   85.01   85.03   85.05   85.07   85.08\n",
            "[2755]   85.10   85.11   85.14   85.16   85.17   85.20   85.21   85.24   85.25\n",
            "[2764]   85.27   85.28   85.29   85.30   85.32   85.33   85.35   85.38   85.40\n",
            "[2773]   85.42   85.43   85.46   85.47   85.50   85.51   85.52   85.55   85.57\n",
            "[2782]   85.59   85.60   85.61   85.62   85.63   85.67   85.68   85.70   85.72\n",
            "[2791]   85.73   85.74   85.75   85.77   85.78   85.80   85.84   85.85   85.86\n",
            "[2800]   85.87   85.88   85.91   85.92   85.93   85.96   85.98   86.00   86.05\n",
            "[2809]   86.06   86.07   86.09   86.10   86.12   86.13   86.14   86.15   86.16\n",
            "[2818]   86.17   86.20   86.21   86.22   86.23   86.24   86.25   86.28   86.29\n",
            "[2827]   86.30   86.32   86.33   86.35   86.36   86.38   86.39   86.40   86.41\n",
            "[2836]   86.43   86.45   86.46   86.47   86.49   86.50   86.53   86.55   86.57\n",
            "[2845]   86.58   86.60   86.61   86.62   86.63   86.67   86.69   86.70   86.71\n",
            "[2854]   86.72   86.75   86.76   86.78   86.79   86.80   86.82   86.83   86.85\n",
            "[2863]   86.86   86.88   86.90   86.91   86.92   86.93   86.95   86.98   87.00\n",
            "[2872]   87.01   87.03   87.04   87.05   87.07   87.08   87.09   87.12   87.13\n",
            "[2881]   87.18   87.19   87.20   87.21   87.24   87.27   87.30   87.31   87.32\n",
            "[2890]   87.33   87.34   87.35   87.40   87.41   87.43   87.45   87.46   87.48\n",
            "[2899]   87.49   87.50   87.53   87.54   87.55   87.58   87.59   87.60   87.63\n",
            "[2908]   87.64   87.65   87.67   87.68   87.69   87.70   87.71   87.72   87.74\n",
            "[2917]   87.75   87.76   87.78   87.79   87.80   87.82   87.84   87.85   87.86\n",
            "[2926]   87.89   87.90   87.91   87.95   87.97   87.98   87.99   88.00   88.01\n",
            "[2935]   88.11   88.12   88.14   88.15   88.17   88.20   88.22   88.23   88.25\n",
            "[2944]   88.26   88.27   88.29   88.30   88.33   88.35   88.38   88.39   88.40\n",
            "[2953]   88.41   88.43   88.46   88.50   88.51   88.52   88.53   88.54   88.55\n",
            "[2962]   88.56   88.57   88.60   88.61   88.63   88.65   88.67   88.68   88.69\n",
            "[2971]   88.70   88.71   88.73   88.74   88.75   88.76   88.77   88.80   88.83\n",
            "[2980]   88.84   88.85   88.86   88.88   88.90   88.91   88.92   88.94   88.95\n",
            "[2989]   88.96   88.98   89.00   89.06   89.08   89.10   89.12   89.13   89.14\n",
            "[2998]   89.17   89.18   89.20   89.22   89.24   89.25   89.26   89.27   89.28\n",
            "[3007]   89.29   89.30   89.31   89.32   89.33   89.34   89.38   89.39   89.40\n",
            "[3016]   89.43   89.44   89.45   89.46   89.49   89.50   89.53   89.54   89.55\n",
            "[3025]   89.59   89.60   89.61   89.64   89.67   89.68   89.70   89.71   89.73\n",
            "[3034]   89.74   89.75   89.76   89.77   89.78   89.79   89.80   89.81   89.83\n",
            "[3043]   89.84   89.85   89.87   89.88   89.89   89.90   89.91   89.92   89.93\n",
            "[3052]   89.96   89.97   89.98   90.00   90.03   90.05   90.06   90.07   90.08\n",
            "[3061]   90.09   90.10   90.12   90.14   90.17   90.18   90.20   90.23   90.24\n",
            "[3070]   90.25   90.27   90.30   90.32   90.33   90.34   90.35   90.38   90.39\n",
            "[3079]   90.40   90.43   90.44   90.45   90.46   90.47   90.49   90.50   90.51\n",
            "[3088]   90.52   90.53   90.54   90.55   90.56   90.60   90.61   90.63   90.64\n",
            "[3097]   90.65   90.67   90.68   90.70   90.71   90.72   90.74   90.75   90.76\n",
            "[3106]   90.78   90.79   90.80   90.84   90.86   90.88   90.90   90.93   90.95\n",
            "[3115]   90.96   90.97   90.98   91.00   91.02   91.04   91.05   91.06   91.08\n",
            "[3124]   91.09   91.10   91.12   91.13   91.14   91.15   91.16   91.18   91.20\n",
            "[3133]   91.23   91.25   91.26   91.29   91.30   91.31   91.32   91.33   91.35\n",
            "[3142]   91.36   91.37   91.38   91.40   91.43   91.44   91.45   91.46   91.47\n",
            "[3151]   91.48   91.49   91.50   91.51   91.54   91.55   91.56   91.58   91.59\n",
            "[3160]   91.60   91.63   91.67   91.68   91.69   91.70   91.73   91.75   91.76\n",
            "[3169]   91.77   91.79   91.80   91.81   91.82   91.83   91.85   91.86   91.88\n",
            "[3178]   91.89   91.90   91.92   91.93   91.94   91.95   91.96   91.98   92.00\n",
            "[3187]   92.01   92.02   92.03   92.08   92.09   92.10   92.11   92.12   92.14\n",
            "[3196]   92.16   92.17   92.18   92.19   92.20   92.21   92.23   92.25   92.28\n",
            "[3205]   92.29   92.31   92.33   92.34   92.35   92.36   92.40   92.42   92.43\n",
            "[3214]   92.45   92.48   92.50   92.51   92.53   92.54   92.55   92.57   92.58\n",
            "[3223]   92.60   92.63   92.65   92.66   92.67   92.70   92.71   92.72   92.75\n",
            "[3232]   92.76   92.78   92.80   92.82   92.83   92.85   92.86   92.87   92.88\n",
            "[3241]   92.89   92.90   92.91   92.93   92.94   92.95   92.98   92.99   93.00\n",
            "[3250]   93.01   93.03   93.06   93.08   93.09   93.12   93.13   93.15   93.16\n",
            "[3259]   93.17   93.18   93.20   93.21   93.22   93.25   93.29   93.30   93.33\n",
            "[3268]   93.34   93.36   93.38   93.39   93.40   93.42   93.43   93.44   93.45\n",
            "[3277]   93.48   93.50   93.52   93.54   93.55   93.56   93.57   93.58   93.60\n",
            "[3286]   93.62   93.63   93.64   93.65   93.67   93.68   93.69   93.70   93.73\n",
            "[3295]   93.75   93.77   93.78   93.80   93.81   93.82   93.84   93.86   93.88\n",
            "[3304]   93.90   93.93   93.94   93.96   94.00   94.05   94.07   94.10   94.11\n",
            "[3313]   94.12   94.14   94.16   94.17   94.18   94.20   94.21   94.23   94.24\n",
            "[3322]   94.25   94.26   94.29   94.30   94.32   94.33   94.35   94.36   94.37\n",
            "[3331]   94.40   94.41   94.48   94.49   94.50   94.51   94.52   94.56   94.59\n",
            "[3340]   94.60   94.62   94.63   94.64   94.67   94.70   94.71   94.72   94.73\n",
            "[3349]   94.75   94.78   94.80   94.81   94.86   94.88   94.89   94.90   94.91\n",
            "[3358]   94.93   94.94   94.95   94.96   94.97   94.99   95.00   95.02   95.03\n",
            "[3367]   95.04   95.07   95.09   95.10   95.12   95.13   95.14   95.16   95.17\n",
            "[3376]   95.19   95.20   95.24   95.25   95.27   95.29   95.30   95.31   95.33\n",
            "[3385]   95.36   95.37   95.38   95.40   95.46   95.47   95.48   95.49   95.50\n",
            "[3394]   95.52   95.53   95.56   95.57   95.58   95.59   95.60   95.62   95.63\n",
            "[3403]   95.64   95.65   95.66   95.67   95.69   95.70   95.71   95.73   95.74\n",
            "[3412]   95.75   95.76   95.79   95.80   95.81   95.82   95.83   95.85   95.86\n",
            "[3421]   95.88   95.90   95.91   95.93   95.94   95.95   95.96   95.98   95.99\n",
            "[3430]   96.00   96.02   96.05   96.08   96.09   96.10   96.12   96.13   96.14\n",
            "[3439]   96.16   96.17   96.20   96.21   96.23   96.25   96.26   96.27   96.30\n",
            "[3448]   96.32   96.33   96.36   96.39   96.40   96.41   96.43   96.48   96.49\n",
            "[3457]   96.50   96.53   96.55   96.56   96.60   96.62   96.67   96.73   96.75\n",
            "[3466]   96.76   96.78   96.79   96.80   96.83   96.84   96.88   96.90   96.91\n",
            "[3475]   96.92   96.94   96.95   96.98   96.99   97.00   97.01   97.02   97.07\n",
            "[3484]   97.10   97.12   97.13   97.14   97.16   97.18   97.20   97.21   97.23\n",
            "[3493]   97.25   97.28   97.29   97.30   97.32   97.33   97.35   97.36   97.39\n",
            "[3502]   97.40   97.41   97.42   97.43   97.46   97.47   97.50   97.53   97.54\n",
            "[3511]   97.55   97.56   97.58   97.59   97.60   97.63   97.65   97.67   97.70\n",
            "[3520]   97.71   97.74   97.75   97.76   97.77   97.79   97.80   97.82   97.85\n",
            "[3529]   97.87   97.88   97.92   97.93   97.96   97.98   97.99   98.00   98.02\n",
            "[3538]   98.03   98.04   98.05   98.06   98.09   98.10   98.11   98.12   98.13\n",
            "[3547]   98.14   98.17   98.18   98.20   98.21   98.24   98.25   98.26   98.28\n",
            "[3556]   98.29   98.30   98.32   98.33   98.35   98.36   98.39   98.40   98.41\n",
            "[3565]   98.44   98.48   98.49   98.50   98.55   98.56   98.57   98.60   98.62\n",
            "[3574]   98.63   98.64   98.67   98.68   98.69   98.70   98.72   98.74   98.75\n",
            "[3583]   98.76   98.80   98.82   98.83   98.85   98.87   98.88   98.90   98.93\n",
            "[3592]   98.94   98.98   98.99   99.00   99.02   99.03   99.06   99.07   99.10\n",
            "[3601]   99.13   99.14   99.15   99.17   99.18   99.20   99.21   99.22   99.24\n",
            "[3610]   99.25   99.28   99.29   99.30   99.32   99.33   99.36   99.38   99.40\n",
            "[3619]   99.41   99.43   99.45   99.46   99.48   99.49   99.50   99.51   99.52\n",
            "[3628]   99.57   99.60   99.63   99.64   99.66   99.67   99.68   99.70   99.71\n",
            "[3637]   99.72   99.73   99.75   99.78   99.79   99.80   99.81   99.85   99.86\n",
            "[3646]   99.87   99.88   99.90   99.95   99.96  100.00  100.02  100.03  100.05\n",
            "[3655]  100.07  100.08  100.09  100.10  100.12  100.13  100.16  100.18  100.20\n",
            "[3664]  100.21  100.25  100.27  100.28  100.29  100.30  100.33  100.35  100.37\n",
            "[3673]  100.38  100.40  100.42  100.43  100.44  100.47  100.48  100.50  100.51\n",
            "[3682]  100.54  100.55  100.58  100.60  100.62  100.63  100.64  100.66  100.67\n",
            "[3691]  100.70  100.71  100.72  100.73  100.74  100.75  100.80  100.81  100.84\n",
            "[3700]  100.85  100.86  100.87  100.88  100.89  100.90  100.91  100.92  100.93\n",
            "[3709]  100.94  100.95  100.97  101.00  101.03  101.05  101.07  101.08  101.09\n",
            "[3718]  101.10  101.13  101.15  101.16  101.17  101.18  101.20  101.21  101.22\n",
            "[3727]  101.24  101.25  101.27  101.28  101.29  101.30  101.31  101.33  101.34\n",
            "[3736]  101.35  101.36  101.37  101.38  101.40  101.41  101.43  101.44  101.45\n",
            "[3745]  101.46  101.47  101.49  101.50  101.51  101.52  101.53  101.54  101.55\n",
            "[3754]  101.58  101.60  101.65  101.66  101.67  101.68  101.70  101.71  101.72\n",
            "[3763]  101.73  101.75  101.77  101.78  101.79  101.80  101.83  101.86  101.87\n",
            "[3772]  101.88  101.95  101.98  101.99  102.00  102.04  102.05  102.06  102.08\n",
            "[3781]  102.09  102.10  102.13  102.15  102.20  102.21  102.24  102.25  102.28\n",
            "[3790]  102.30  102.31  102.32  102.33  102.34  102.35  102.37  102.38  102.39\n",
            "[3799]  102.40  102.41  102.43  102.45  102.47  102.49  102.50  102.51  102.55\n",
            "[3808]  102.56  102.58  102.60  102.65  102.66  102.67  102.68  102.70  102.71\n",
            "[3817]  102.72  102.73  102.74  102.75  102.76  102.79  102.80  102.81  102.83\n",
            "[3826]  102.85  102.86  102.88  102.90  102.93  102.97  102.99  103.00  103.05\n",
            "[3835]  103.06  103.07  103.09  103.10  103.11  103.13  103.14  103.15  103.17\n",
            "[3844]  103.18  103.19  103.20  103.21  103.22  103.25  103.26  103.28  103.29\n",
            "[3853]  103.30  103.31  103.32  103.33  103.35  103.36  103.37  103.38  103.39\n",
            "[3862]  103.40  103.41  103.42  103.44  103.46  103.50  103.51  103.52  103.53\n",
            "[3871]  103.55  103.56  103.57  103.59  103.60  103.61  103.62  103.64  103.67\n",
            "[3880]  103.68  103.69  103.70  103.71  103.72  103.75  103.76  103.77  103.78\n",
            "[3889]  103.79  103.80  103.81  103.84  103.85  103.86  103.87  103.89  103.95\n",
            "[3898]  103.97  104.00  104.02  104.04  104.05  104.06  104.08  104.10  104.11\n",
            "[3907]  104.13  104.14  104.16  104.17  104.18  104.20  104.21  104.22  104.23\n",
            "[3916]  104.25  104.30  104.31  104.32  104.33  104.39  104.40  104.42  104.43\n",
            "[3925]  104.48  104.49  104.50  104.52  104.53  104.55  104.58  104.60  104.61\n",
            "[3934]  104.62  104.63  104.64  104.65  104.66  104.67  104.68  104.70  104.71\n",
            "[3943]  104.72  104.73  104.75  104.76  104.77  104.79  104.80  104.81  104.85\n",
            "[3952]  104.86  104.88  104.91  104.92  104.94  104.96  104.97  104.98  104.99\n",
            "[3961]  105.00  105.02  105.04  105.08  105.10  105.11  105.12  105.13  105.20\n",
            "[3970]  105.21  105.22  105.25  105.26  105.28  105.30  105.31  105.33  105.34\n",
            "[3979]  105.37  105.40  105.47  105.48  105.49  105.50  105.52  105.54  105.55\n",
            "[3988]  105.56  105.60  105.61  105.62  105.64  105.65  105.66  105.67  105.68\n",
            "[3997]  105.69  105.70  105.71  105.74  105.75  105.77  105.78  105.79  105.80\n",
            "[4006]  105.81  105.82  105.83  105.84  105.90  105.91  105.93  105.95  105.96\n",
            "[4015]  106.00  106.02  106.03  106.06  106.07  106.08  106.09  106.10  106.13\n",
            "[4024]  106.14  106.15  106.16  106.17  106.20  106.21  106.24  106.25  106.26\n",
            "[4033]  106.28  106.30  106.31  106.32  106.33  106.34  106.35  106.36  106.38\n",
            "[4042]  106.40  106.43  106.47  106.48  106.50  106.53  106.54  106.55  106.56\n",
            "[4051]  106.57  106.59  106.60  106.64  106.65  106.67  106.68  106.70  106.71\n",
            "[4060]  106.72  106.74  106.75  106.77  106.80  106.83  106.84  106.85  106.86\n",
            "[4069]  106.88  106.89  106.90  106.92  106.93  106.95  107.00  107.03  107.05\n",
            "[4078]  107.08  107.09  107.10  107.17  107.18  107.19  107.20  107.22  107.23\n",
            "[4087]  107.25  107.28  107.29  107.30  107.33  107.38  107.40  107.41  107.42\n",
            "[4096]  107.43  107.44  107.45  107.46  107.50  107.53  107.55  107.56  107.57\n",
            "[4105]  107.58  107.59  107.60  107.61  107.63  107.64  107.65  107.67  107.69\n",
            "[4114]  107.70  107.71  107.73  107.75  107.78  107.80  107.82  107.83  107.87\n",
            "[4123]  107.88  107.92  107.95  107.99  108.00  108.02  108.04  108.05  108.06\n",
            "[4132]  108.07  108.08  108.09  108.10  108.11  108.12  108.15  108.16  108.17\n",
            "[4141]  108.19  108.20  108.23  108.24  108.26  108.29  108.30  108.31  108.33\n",
            "[4150]  108.34  108.35  108.36  108.38  108.40  108.42  108.43  108.45  108.49\n",
            "[4159]  108.50  108.51  108.53  108.54  108.56  108.57  108.58  108.59  108.60\n",
            "[4168]  108.65  108.66  108.67  108.68  108.70  108.71  108.72  108.73  108.75\n",
            "[4177]  108.79  108.80  108.83  108.85  108.86  108.88  108.90  108.91  108.92\n",
            "[4186]  108.95  108.97  108.99  109.00  109.03  109.05  109.07  109.08  109.10\n",
            "[4195]  109.13  109.16  109.18  109.20  109.23  109.25  109.28  109.29  109.30\n",
            "[4204]  109.31  109.33  109.34  109.35  109.36  109.37  109.38  109.39  109.40\n",
            "[4213]  109.41  109.44  109.45  109.49  109.50  109.51  109.53  109.55  109.58\n",
            "[4222]  109.60  109.61  109.63  109.65  109.66  109.67  109.68  109.70  109.71\n",
            "[4231]  109.73  109.75  109.77  109.80  109.81  109.82  109.83  109.85  109.86\n",
            "[4240]  109.87  109.90  109.93  109.95  109.96  109.98  110.00  110.01  110.05\n",
            "[4249]  110.08  110.09  110.10  110.11  110.12  110.13  110.15  110.16  110.17\n",
            "[4258]  110.18  110.19  110.20  110.21  110.22  110.24  110.25  110.30  110.31\n",
            "[4267]  110.32  110.33  110.34  110.36  110.37  110.40  110.43  110.44  110.45\n",
            "[4276]  110.46  110.50  110.53  110.57  110.58  110.59  110.60  110.64  110.65\n",
            "[4285]  110.67  110.68  110.70  110.71  110.72  110.74  110.75  110.77  110.78\n",
            "[4294]  110.79  110.80  110.83  110.84  110.86  110.88  110.90  110.93  110.94\n",
            "[4303]  110.97  110.99  111.00  111.06  111.11  111.14  111.15  111.19  111.20\n",
            "[4312]  111.25  111.27  111.30  111.31  111.33  111.34  111.35  111.40  111.42\n",
            "[4321]  111.44  111.47  111.50  111.52  111.59  111.60  111.65  111.67  111.68\n",
            "[4330]  111.69  111.70  111.71  111.72  111.73  111.75  111.76  111.78  111.80\n",
            "[4339]  111.83  111.85  111.88  111.90  111.92  111.94  111.96  112.00  112.01\n",
            "[4348]  112.03  112.05  112.10  112.12  112.14  112.16  112.20  112.22  112.24\n",
            "[4357]  112.25  112.28  112.29  112.32  112.33  112.34  112.36  112.40  112.41\n",
            "[4366]  112.42  112.45  112.48  112.50  112.55  112.56  112.57  112.58  112.59\n",
            "[4375]  112.60  112.63  112.65  112.67  112.68  112.69  112.70  112.71  112.72\n",
            "[4384]  112.75  112.76  112.79  112.80  112.81  112.84  112.85  112.86  112.87\n",
            "[4393]  112.88  112.90  112.91  112.92  112.95  112.96  113.00  113.01  113.04\n",
            "[4402]  113.05  113.09  113.10  113.14  113.19  113.20  113.23  113.24  113.25\n",
            "[4411]  113.26  113.29  113.30  113.31  113.32  113.33  113.34  113.35  113.39\n",
            "[4420]  113.40  113.41  113.43  113.46  113.47  113.48  113.50  113.52  113.53\n",
            "[4429]  113.55  113.56  113.57  113.58  113.60  113.62  113.63  113.64  113.65\n",
            "[4438]  113.67  113.68  113.69  113.70  113.71  113.72  113.75  113.76  113.78\n",
            "[4447]  113.79  113.80  113.81  113.85  113.87  113.88  113.90  113.91  113.96\n",
            "[4456]  113.98  114.00  114.04  114.07  114.08  114.09  114.10  114.13  114.14\n",
            "[4465]  114.15  114.19  114.20  114.21  114.25  114.28  114.29  114.30  114.32\n",
            "[4474]  114.33  114.34  114.36  114.37  114.39  114.40  114.41  114.43  114.48\n",
            "[4483]  114.50  114.51  114.53  114.55  114.56  114.57  114.58  114.60  114.63\n",
            "[4492]  114.65  114.66  114.67  114.69  114.71  114.73  114.75  114.76  114.78\n",
            "[4501]  114.80  114.83  114.84  114.85  114.87  114.88  114.90  114.92  114.95\n",
            "[4510]  114.96  114.98  115.00  115.02  115.03  115.04  115.05  115.09  115.10\n",
            "[4519]  115.11  115.12  115.14  115.19  115.20  115.21  115.23  115.25  115.30\n",
            "[4528]  115.32  115.33  115.37  115.40  115.42  115.50  115.51  115.52  115.55\n",
            "[4537]  115.56  115.57  115.58  115.60  115.61  115.63  115.65  115.67  115.68\n",
            "[4546]  115.70  115.74  115.75  115.76  115.77  115.80  115.82  115.84  115.85\n",
            "[4555]  115.89  115.90  115.92  115.93  115.94  116.00  116.03  116.04  116.05\n",
            "[4564]  116.07  116.09  116.10  116.11  116.15  116.17  116.18  116.20  116.23\n",
            "[4573]  116.25  116.26  116.27  116.28  116.30  116.31  116.32  116.33  116.36\n",
            "[4582]  116.38  116.40  116.42  116.43  116.45  116.47  116.49  116.50  116.53\n",
            "[4591]  116.55  116.56  116.57  116.59  116.60  116.61  116.62  116.64  116.65\n",
            "[4600]  116.67  116.70  116.71  116.72  116.73  116.75  116.77  116.78  116.79\n",
            "[4609]  116.80  116.82  116.85  116.88  116.90  116.93  116.94  116.95  116.96\n",
            "[4618]  116.99  117.00  117.04  117.05  117.06  117.10  117.11  117.12  117.15\n",
            "[4627]  117.18  117.19  117.20  117.21  117.22  117.25  117.26  117.28  117.29\n",
            "[4636]  117.30  117.33  117.36  117.37  117.41  117.42  117.43  117.45  117.48\n",
            "[4645]  117.50  117.51  117.53  117.55  117.60  117.63  117.64  117.65  117.66\n",
            "[4654]  117.67  117.68  117.71  117.72  117.73  117.74  117.75  117.76  117.79\n",
            "[4663]  117.80  117.81  117.82  117.83  117.84  117.85  117.87  117.88  117.90\n",
            "[4672]  117.91  117.98  118.00  118.02  118.03  118.06  118.07  118.08  118.09\n",
            "[4681]  118.10  118.13  118.14  118.15  118.16  118.17  118.19  118.20  118.24\n",
            "[4690]  118.25  118.26  118.27  118.29  118.30  118.32  118.33  118.35  118.40\n",
            "[4699]  118.43  118.46  118.50  118.51  118.57  118.58  118.60  118.62  118.65\n",
            "[4708]  118.66  118.67  118.70  118.71  118.75  118.76  118.80  118.84  118.85\n",
            "[4717]  118.86  118.88  118.90  118.95  118.96  118.98  118.99  119.00  119.03\n",
            "[4726]  119.04  119.07  119.08  119.10  119.12  119.15  119.16  119.17  119.20\n",
            "[4735]  119.22  119.24  119.25  119.28  119.29  119.33  119.34  119.35  119.36\n",
            "[4744]  119.38  119.39  119.40  119.41  119.43  119.44  119.49  119.50  119.51\n",
            "[4753]  119.52  119.57  119.58  119.60  119.64  119.65  119.67  119.68  119.69\n",
            "[4762]  119.70  119.71  119.72  119.75  119.76  119.77  119.80  119.81  119.82\n",
            "[4771]  119.83  119.85  119.87  119.88  119.90  119.97  120.00  120.02  120.03\n",
            "[4780]  120.06  120.08  120.10  120.12  120.14  120.15  120.16  120.18  120.20\n",
            "[4789]  120.24  120.25  120.27  120.28  120.30  120.31  120.33  120.34  120.35\n",
            "[4798]  120.36  120.38  120.40  120.42  120.43  120.45  120.47  120.48  120.49\n",
            "[4807]  120.50  120.51  120.52  120.53  120.55  120.57  120.58  120.60  120.63\n",
            "[4816]  120.65  120.67  120.69  120.70  120.71  120.75  120.78  120.79  120.80\n",
            "[4825]  120.82  120.83  120.86  120.88  120.90  120.91  120.95  120.96  121.00\n",
            "[4834]  121.01  121.03  121.05  121.10  121.13  121.14  121.17  121.20  121.21\n",
            "[4843]  121.25  121.27  121.28  121.33  121.35  121.37  121.39  121.40  121.43\n",
            "[4852]  121.47  121.48  121.50  121.55  121.56  121.59  121.60  121.61  121.63\n",
            "[4861]  121.64  121.66  121.67  121.68  121.70  121.72  121.73  121.75  121.77\n",
            "[4870]  121.78  121.80  121.83  121.85  121.88  121.90  121.93  121.95  121.98\n",
            "[4879]  122.00  122.04  122.07  122.08  122.10  122.11  122.13  122.14  122.16\n",
            "[4888]  122.19  122.20  122.22  122.23  122.24  122.25  122.29  122.30  122.31\n",
            "[4897]  122.33  122.34  122.40  122.43  122.45  122.48  122.50  122.53  122.55\n",
            "[4906]  122.57  122.60  122.61  122.63  122.65  122.66  122.67  122.70  122.72\n",
            "[4915]  122.74  122.75  122.76  122.80  122.83  122.84  122.85  122.86  122.88\n",
            "[4924]  122.89  122.90  122.91  122.94  122.96  123.00  123.02  123.04  123.05\n",
            "[4933]  123.08  123.10  123.11  123.12  123.13  123.15  123.17  123.20  123.21\n",
            "[4942]  123.23  123.25  123.28  123.30  123.33  123.38  123.40  123.41  123.43\n",
            "[4951]  123.45  123.46  123.47  123.50  123.53  123.55  123.56  123.57  123.60\n",
            "[4960]  123.62  123.64  123.66  123.67  123.68  123.69  123.70  123.71  123.74\n",
            "[4969]  123.75  123.77  123.80  123.81  123.82  123.83  123.84  123.88  123.90\n",
            "[4978]  123.93  123.96  123.97  123.98  124.00  124.04  124.10  124.13  124.14\n",
            "[4987]  124.16  124.20  124.22  124.25  124.30  124.33  124.35  124.36  124.38\n",
            "[4996]  124.39  124.40  124.44  124.45  124.46  124.50  124.52  124.53  124.54\n",
            "[5005]  124.55  124.58  124.59  124.60  124.63  124.65  124.67  124.70  124.71\n",
            "[5014]  124.74  124.75  124.79  124.80  124.82  124.90  124.95  125.00  125.02\n",
            "[5023]  125.08  125.09  125.10  125.12  125.16  125.17  125.20  125.22  125.25\n",
            "[5032]  125.27  125.28  125.29  125.30  125.33  125.34  125.38  125.40  125.43\n",
            "[5041]  125.44  125.45  125.46  125.50  125.51  125.52  125.53  125.54  125.55\n",
            "[5050]  125.57  125.58  125.60  125.62  125.63  125.66  125.67  125.70  125.71\n",
            "[5059]  125.77  125.80  125.82  125.83  125.85  125.89  125.90  125.96  125.97\n",
            "[5068]  125.99  126.00  126.01  126.04  126.10  126.12  126.13  126.14  126.15\n",
            "[5077]  126.19  126.20  126.23  126.25  126.26  126.27  126.28  126.29  126.30\n",
            "[5086]  126.31  126.33  126.36  126.38  126.40  126.41  126.44  126.45  126.48\n",
            "[5095]  126.50  126.51  126.54  126.57  126.60  126.63  126.64  126.65  126.66\n",
            "[5104]  126.67  126.69  126.71  126.72  126.73  126.74  126.75  126.77  126.80\n",
            "[5113]  126.86  126.88  126.90  127.00  127.01  127.03  127.05  127.08  127.10\n",
            "[5122]  127.13  127.14  127.15  127.16  127.19  127.20  127.22  127.24  127.25\n",
            "[5131]  127.26  127.27  127.28  127.30  127.31  127.33  127.37  127.38  127.39\n",
            "[5140]  127.40  127.44  127.45  127.47  127.48  127.50  127.51  127.58  127.59\n",
            "[5149]  127.60  127.62  127.65  127.67  127.71  127.72  127.75  127.79  127.80\n",
            "[5158]  127.82  127.83  127.88  127.90  127.92  127.93  127.94  127.97  127.98\n",
            "[5167]  127.99  128.00  128.01  128.04  128.05  128.06  128.07  128.10  128.14\n",
            "[5176]  128.16  128.18  128.20  128.21  128.22  128.25  128.27  128.28  128.29\n",
            "[5185]  128.33  128.34  128.35  128.38  128.40  128.42  128.43  128.44  128.47\n",
            "[5194]  128.49  128.50  128.52  128.56  128.57  128.59  128.60  128.63  128.65\n",
            "[5203]  128.67  128.69  128.70  128.71  128.74  128.75  128.76  128.78  128.79\n",
            "[5212]  128.80  128.83  128.84  128.85  128.86  128.88  128.90  128.92  128.99\n",
            "[5221]  129.00  129.02  129.09  129.10  129.15  129.16  129.18  129.20  129.25\n",
            "[5230]  129.26  129.27  129.29  129.30  129.33  129.34  129.40  129.41  129.44\n",
            "[5239]  129.45  129.48  129.50  129.51  129.54  129.55  129.56  129.57  129.58\n",
            "[5248]  129.59  129.60  129.63  129.65  129.67  129.70  129.72  129.73  129.75\n",
            "[5257]  129.77  129.78  129.80  129.81  129.83  129.86  129.87  129.88  129.90\n",
            "[5266]  129.92  129.95  129.96  129.97  129.99  130.00  130.01  130.03  130.05\n",
            "[5275]  130.06  130.07  130.10  130.13  130.14  130.15  130.17  130.20  130.22\n",
            "[5284]  130.23  130.25  130.28  130.29  130.32  130.33  130.34  130.35  130.36\n",
            "[5293]  130.38  130.40  130.42  130.43  130.48  130.50  130.55  130.56  130.58\n",
            "[5302]  130.60  130.61  130.63  130.66  130.67  130.68  130.70  130.75  130.78\n",
            "[5311]  130.80  130.82  130.86  130.87  130.90  130.92  130.94  130.95  130.99\n",
            "[5320]  131.00  131.01  131.03  131.06  131.07  131.08  131.10  131.13  131.14\n",
            "[5329]  131.15  131.16  131.18  131.20  131.25  131.26  131.29  131.31  131.33\n",
            "[5338]  131.35  131.36  131.37  131.40  131.43  131.44  131.47  131.48  131.49\n",
            "[5347]  131.50  131.51  131.52  131.55  131.57  131.58  131.59  131.60  131.63\n",
            "[5356]  131.66  131.67  131.70  131.72  131.74  131.75  131.78  131.80  131.83\n",
            "[5365]  131.85  131.86  131.88  131.89  131.93  131.97  131.98  132.00  132.05\n",
            "[5374]  132.08  132.11  132.13  132.16  132.17  132.18  132.19  132.24  132.25\n",
            "[5383]  132.29  132.30  132.33  132.36  132.39  132.40  132.43  132.44  132.45\n",
            "[5392]  132.48  132.50  132.53  132.55  132.56  132.60  132.67  132.70  132.72\n",
            "[5401]  132.75  132.77  132.80  132.84  132.85  132.86  132.87  132.88  132.89\n",
            "[5410]  132.90  132.91  132.92  132.96  133.00  133.03  133.04  133.06  133.07\n",
            "[5419]  133.10  133.11  133.13  133.14  133.16  133.17  133.20  133.21  133.25\n",
            "[5428]  133.29  133.30  133.33  133.36  133.38  133.40  133.41  133.43  133.44\n",
            "[5437]  133.45  133.46  133.47  133.48  133.50  133.55  133.58  133.60  133.61\n",
            "[5446]  133.65  133.67  133.69  133.71  133.73  133.74  133.75  133.76  133.80\n",
            "[5455]  133.83  133.85  133.88  133.95  133.98  134.00  134.06  134.10  134.13\n",
            "[5464]  134.14  134.16  134.17  134.18  134.24  134.25  134.30  134.31  134.33\n",
            "[5473]  134.36  134.37  134.40  134.42  134.43  134.44  134.45  134.46  134.47\n",
            "[5482]  134.50  134.51  134.52  134.53  134.55  134.57  134.58  134.62  134.67\n",
            "[5491]  134.70  134.73  134.75  134.78  134.80  134.82  134.83  134.85  134.86\n",
            "[5500]  134.87  134.93  134.98  135.00  135.01  135.10  135.13  135.14  135.15\n",
            "[5509]  135.20  135.22  135.25  135.27  135.28  135.29  135.30  135.31  135.33\n",
            "[5518]  135.36  135.39  135.40  135.43  135.44  135.45  135.49  135.50  135.51\n",
            "[5527]  135.52  135.53  135.56  135.57  135.58  135.60  135.63  135.64  135.65\n",
            "[5536]  135.67  135.70  135.72  135.75  135.76  135.80  135.83  135.87  135.89\n",
            "[5545]  135.90  135.91  135.96  135.99  136.00  136.02  136.06  136.08  136.10\n",
            "[5554]  136.12  136.13  136.14  136.17  136.18  136.19  136.20  136.22  136.23\n",
            "[5563]  136.25  136.29  136.30  136.32  136.33  136.34  136.35  136.43  136.44\n",
            "[5572]  136.45  136.46  136.50  136.52  136.60  136.62  136.67  136.68  136.70\n",
            "[5581]  136.71  136.72  136.73  136.75  136.80  136.82  136.85  136.89  137.00\n",
            "[5590]  137.03  137.10  137.13  137.14  137.16  137.19  137.20  137.21  137.25\n",
            "[5599]  137.28  137.29  137.30  137.33  137.34  137.38  137.40  137.43  137.44\n",
            "[5608]  137.50  137.52  137.53  137.57  137.60  137.63  137.65  137.67  137.70\n",
            "[5617]  137.71  137.75  137.76  137.80  137.83  137.85  137.89  137.90  137.91\n",
            "[5626]  137.94  137.96  138.00  138.01  138.02  138.05  138.06  138.09  138.13\n",
            "[5635]  138.14  138.15  138.17  138.20  138.21  138.24  138.25  138.26  138.29\n",
            "[5644]  138.30  138.33  138.38  138.40  138.42  138.47  138.50  138.54  138.55\n",
            "[5653]  138.56  138.57  138.60  138.64  138.66  138.67  138.70  138.71  138.75\n",
            "[5662]  138.76  138.77  138.79  138.80  138.83  138.86  138.90  138.93  138.99\n",
            "[5671]  139.00  139.02  139.05  139.10  139.11  139.13  139.14  139.17  139.18\n",
            "[5680]  139.20  139.24  139.28  139.30  139.33  139.34  139.35  139.40  139.48\n",
            "[5689]  139.50  139.51  139.52  139.54  139.57  139.60  139.67  139.68  139.70\n",
            "[5698]  139.72  139.75  139.78  139.80  139.86  139.87  139.88  139.90  139.95\n",
            "[5707]  139.99  140.00  140.05  140.08  140.10  140.12  140.13  140.14  140.15\n",
            "[5716]  140.16  140.17  140.18  140.20  140.21  140.25  140.27  140.30  140.31\n",
            "[5725]  140.33  140.37  140.38  140.40  140.43  140.44  140.50  140.53  140.57\n",
            "[5734]  140.58  140.59  140.60  140.62  140.63  140.64  140.67  140.70  140.71\n",
            "[5743]  140.75  140.76  140.80  140.85  140.88  140.90  140.91  140.94  140.98\n",
            "[5752]  141.00  141.01  141.04  141.05  141.10  141.12  141.14  141.18  141.20\n",
            "[5761]  141.30  141.32  141.33  141.36  141.40  141.43  141.46  141.49  141.50\n",
            "[5770]  141.53  141.55  141.56  141.57  141.60  141.65  141.67  141.68  141.69\n",
            "[5779]  141.70  141.71  141.75  141.78  141.83  141.84  141.88  141.90  141.91\n",
            "[5788]  141.95  142.00  142.03  142.07  142.09  142.10  142.12  142.13  142.17\n",
            "[5797]  142.19  142.20  142.21  142.22  142.25  142.26  142.29  142.30  142.33\n",
            "[5806]  142.36  142.38  142.40  142.41  142.43  142.45  142.48  142.50  142.53\n",
            "[5815]  142.54  142.55  142.56  142.58  142.60  142.61  142.63  142.64  142.65\n",
            "[5824]  142.67  142.68  142.70  142.71  142.72  142.76  142.78  142.80  142.83\n",
            "[5833]  142.86  142.88  142.92  142.94  142.97  143.00  143.03  143.05  143.07\n",
            "[5842]  143.10  143.14  143.18  143.20  143.22  143.23  143.25  143.28  143.29\n",
            "[5851]  143.30  143.33  143.34  143.38  143.40  143.41  143.43  143.44  143.45\n",
            "[5860]  143.48  143.50  143.52  143.54  143.55  143.57  143.60  143.65  143.70\n",
            "[5869]  143.71  143.73  143.79  143.84  143.86  143.89  143.94  143.97  143.99\n",
            "[5878]  144.00  144.10  144.13  144.14  144.20  144.23  144.29  144.33  144.37\n",
            "[5887]  144.38  144.40  144.43  144.45  144.50  144.53  144.55  144.57  144.60\n",
            "[5896]  144.61  144.63  144.64  144.65  144.67  144.68  144.74  144.75  144.76\n",
            "[5905]  144.80  144.84  144.86  144.88  144.90  144.97  144.98  145.00  145.02\n",
            "[5914]  145.08  145.10  145.11  145.14  145.20  145.23  145.24  145.25  145.28\n",
            "[5923]  145.30  145.33  145.35  145.40  145.41  145.43  145.44  145.50  145.52\n",
            "[5932]  145.53  145.55  145.56  145.60  145.61  145.67  145.69  145.70  145.71\n",
            "[5941]  145.75  145.80  145.84  145.85  145.87  145.88  145.90  145.93  145.96\n",
            "[5950]  145.98  146.00  146.03  146.10  146.11  146.16  146.17  146.20  146.22\n",
            "[5959]  146.25  146.29  146.30  146.33  146.36  146.37  146.38  146.40  146.46\n",
            "[5968]  146.50  146.51  146.53  146.56  146.57  146.59  146.60  146.61  146.67\n",
            "[5977]  146.68  146.70  146.71  146.75  146.78  146.80  146.92  146.93  146.94\n",
            "[5986]  146.95  146.96  146.98  147.00  147.01  147.02  147.05  147.06  147.07\n",
            "[5995]  147.09  147.10  147.13  147.15  147.20  147.24  147.25  147.30  147.33\n",
            "[6004]  147.36  147.42  147.43  147.45  147.46  147.50  147.56  147.59  147.60\n",
            "[6013]  147.67  147.68  147.69  147.70  147.71  147.72  147.73  147.74  147.75\n",
            "[6022]  147.78  147.84  147.86  147.87  147.88  147.90  147.93  147.94  147.99\n",
            "[6031]  148.00  148.04  148.05  148.07  148.10  148.11  148.12  148.13  148.14\n",
            "[6040]  148.15  148.16  148.17  148.20  148.23  148.25  148.26  148.28  148.29\n",
            "[6049]  148.30  148.31  148.33  148.34  148.37  148.38  148.39  148.40  148.50\n",
            "[6058]  148.57  148.58  148.60  148.63  148.67  148.69  148.70  148.71  148.74\n",
            "[6067]  148.75  148.79  148.80  148.86  148.90  148.91  148.95  149.00  149.06\n",
            "[6076]  149.10  149.12  149.14  149.15  149.18  149.20  149.25  149.29  149.30\n",
            "[6085]  149.32  149.33  149.38  149.40  149.45  149.48  149.50  149.52  149.57\n",
            "[6094]  149.58  149.60  149.63  149.67  149.68  149.70  149.71  149.74  149.75\n",
            "[6103]  149.76  149.77  149.79  149.81  149.85  149.88  149.94  150.00  150.02\n",
            "[6112]  150.06  150.07  150.11  150.12  150.15  150.17  150.18  150.20  150.22\n",
            "[6121]  150.24  150.25  150.30  150.33  150.35  150.40  150.42  150.43  150.45\n",
            "[6130]  150.48  150.50  150.53  150.55  150.56  150.57  150.58  150.60  150.61\n",
            "[6139]  150.63  150.67  150.69  150.70  150.71  150.75  150.79  150.80  150.81\n",
            "[6148]  150.82  150.83  150.86  150.90  150.92  150.98  151.00  151.06  151.07\n",
            "[6157]  151.10  151.14  151.17  151.19  151.20  151.23  151.25  151.29  151.30\n",
            "[6166]  151.33  151.37  151.40  151.43  151.47  151.50  151.56  151.58  151.59\n",
            "[6175]  151.64  151.67  151.70  151.71  151.75  151.76  151.80  151.83  151.84\n",
            "[6184]  151.85  151.86  151.87  151.88  151.89  151.94  151.95  151.99  152.00\n",
            "[6193]  152.05  152.08  152.10  152.15  152.16  152.20  152.25  152.28  152.30\n",
            "[6202]  152.33  152.38  152.40  152.43  152.45  152.46  152.50  152.53  152.55\n",
            "[6211]  152.60  152.63  152.67  152.70  152.71  152.76  152.78  152.80  152.81\n",
            "[6220]  152.84  152.85  152.86  152.87  152.90  152.98  152.99  153.00  153.03\n",
            "[6229]  153.05  153.07  153.09  153.10  153.13  153.15  153.18  153.20  153.23\n",
            "[6238]  153.24  153.25  153.29  153.30  153.33  153.37  153.38  153.39  153.40\n",
            "[6247]  153.42  153.49  153.50  153.51  153.55  153.57  153.60  153.61  153.62\n",
            "[6256]  153.67  153.68  153.71  153.72  153.73  153.75  153.77  153.79  153.80\n",
            "[6265]  153.85  153.87  153.90  153.96  154.00  154.07  154.08  154.10  154.14\n",
            "[6274]  154.16  154.21  154.25  154.29  154.30  154.32  154.33  154.35  154.38\n",
            "[6283]  154.40  154.44  154.50  154.54  154.58  154.60  154.64  154.67  154.69\n",
            "[6292]  154.70  154.71  154.75  154.76  154.77  154.79  154.80  154.85  154.88\n",
            "[6301]  154.93  154.95  154.98  155.00  155.03  155.06  155.08  155.10  155.11\n",
            "[6310]  155.13  155.20  155.25  155.33  155.40  155.43  155.45  155.49  155.50\n",
            "[6319]  155.52  155.54  155.57  155.60  155.61  155.64  155.65  155.67  155.68\n",
            "[6328]  155.69  155.70  155.71  155.72  155.73  155.75  155.76  155.77  155.79\n",
            "[6337]  155.80  155.81  155.82  155.83  155.86  156.00  156.06  156.10  156.12\n",
            "[6346]  156.14  156.15  156.22  156.24  156.25  156.30  156.33  156.34  156.38\n",
            "[6355]  156.40  156.42  156.43  156.45  156.48  156.50  156.51  156.54  156.60\n",
            "[6364]  156.61  156.67  156.70  156.73  156.75  156.76  156.80  156.83  156.85\n",
            "[6373]  156.90  156.92  156.93  156.95  156.96  157.00  157.05  157.08  157.10\n",
            "[6382]  157.14  157.17  157.20  157.25  157.27  157.28  157.31  157.33  157.37\n",
            "[6391]  157.40  157.42  157.44  157.45  157.46  157.48  157.50  157.52  157.53\n",
            "[6400]  157.59  157.60  157.61  157.67  157.68  157.70  157.71  157.76  157.80\n",
            "[6409]  157.82  157.85  157.86  157.87  157.90  157.94  157.95  157.99  158.00\n",
            "[6418]  158.10  158.16  158.20  158.22  158.30  158.33  158.34  158.35  158.38\n",
            "[6427]  158.40  158.43  158.50  158.53  158.56  158.57  158.58  158.60  158.63\n",
            "[6436]  158.66  158.67  158.70  158.73  158.75  158.77  158.78  158.83  158.85\n",
            "[6445]  158.86  158.90  158.93  158.95  159.00  159.07  159.08  159.12  159.14\n",
            "[6454]  159.17  159.20  159.23  159.27  159.28  159.29  159.30  159.33  159.34\n",
            "[6463]  159.35  159.38  159.43  159.50  159.60  159.67  159.68  159.70  159.74\n",
            "[6472]  159.75  159.80  159.84  159.85  159.90  160.00  160.02  160.03  160.08\n",
            "[6481]  160.10  160.16  160.17  160.20  160.25  160.29  160.30  160.33  160.40\n",
            "[6490]  160.43  160.47  160.48  160.50  160.53  160.56  160.57  160.60  160.65\n",
            "[6499]  160.67  160.68  160.69  160.70  160.71  160.75  160.76  160.78  160.80\n",
            "[6508]  160.83  160.84  160.89  160.93  160.95  160.98  161.00  161.08  161.10\n",
            "[6517]  161.11  161.15  161.18  161.20  161.23  161.25  161.26  161.28  161.29\n",
            "[6526]  161.33  161.40  161.43  161.45  161.50  161.55  161.56  161.60  161.66\n",
            "[6535]  161.67  161.70  161.71  161.75  161.78  161.80  161.82  161.83  161.86\n",
            "[6544]  161.88  161.90  162.00  162.01  162.10  162.12  162.14  162.15  162.20\n",
            "[6553]  162.22  162.24  162.25  162.29  162.30  162.33  162.35  162.40  162.45\n",
            "[6562]  162.47  162.50  162.56  162.57  162.67  162.68  162.71  162.75  162.79\n",
            "[6571]  162.83  162.85  162.86  162.88  162.90  162.94  162.98  163.00  163.05\n",
            "[6580]  163.08  163.10  163.17  163.18  163.20  163.22  163.23  163.25  163.29\n",
            "[6589]  163.30  163.33  163.34  163.35  163.40  163.43  163.46  163.48  163.50\n",
            "[6598]  163.52  163.53  163.58  163.60  163.62  163.63  163.65  163.67  163.71\n",
            "[6607]  163.75  163.78  163.80  163.88  163.91  163.95  163.97  164.00  164.02\n",
            "[6616]  164.03  164.05  164.10  164.13  164.15  164.17  164.20  164.22  164.25\n",
            "[6625]  164.29  164.30  164.33  164.40  164.44  164.48  164.50  164.57  164.60\n",
            "[6634]  164.63  164.65  164.67  164.70  164.71  164.75  164.76  164.78  164.80\n",
            "[6643]  164.86  164.87  164.88  164.90  165.00  165.04  165.06  165.08  165.10\n",
            "[6652]  165.11  165.15  165.20  165.23  165.25  165.30  165.32  165.33  165.36\n",
            "[6661]  165.37  165.38  165.40  165.44  165.49  165.50  165.55  165.56  165.60\n",
            "[6670]  165.63  165.67  165.69  165.71  165.75  165.80  165.83  165.86  165.90\n",
            "[6679]  166.00  166.03  166.05  166.08  166.14  166.24  166.25  166.33  166.35\n",
            "[6688]  166.40  166.43  166.45  166.50  166.56  166.58  166.60  166.61  166.66\n",
            "[6697]  166.67  166.68  166.70  166.71  166.75  166.78  166.80  166.85  166.90\n",
            "[6706]  166.91  166.92  167.00  167.04  167.09  167.10  167.13  167.14  167.17\n",
            "[6715]  167.18  167.20  167.21  167.22  167.23  167.24  167.25  167.28  167.35\n",
            "[6724]  167.40  167.43  167.45  167.50  167.52  167.54  167.60  167.66  167.68\n",
            "[6733]  167.69  167.70  167.73  167.74  167.75  167.76  167.79  167.80  167.85\n",
            "[6742]  167.86  167.88  167.90  167.91  167.95  168.00  168.08  168.10  168.13\n",
            "[6751]  168.14  168.15  168.25  168.28  168.30  168.33  168.38  168.40  168.43\n",
            "[6760]  168.46  168.48  168.50  168.55  168.57  168.60  168.62  168.63  168.67\n",
            "[6769]  168.70  168.71  168.72  168.73  168.75  168.80  168.89  168.90  168.92\n",
            "[6778]  168.93  168.98  169.00  169.06  169.07  169.08  169.11  169.15  169.17\n",
            "[6787]  169.20  169.28  169.33  169.36  169.37  169.38  169.40  169.43  169.48\n",
            "[6796]  169.50  169.52  169.54  169.58  169.60  169.63  169.65  169.67  169.75\n",
            "[6805]  169.77  169.83  169.88  169.89  169.91  169.93  169.95  169.98  170.00\n",
            "[6814]  170.03  170.10  170.17  170.20  170.24  170.25  170.28  170.29  170.30\n",
            "[6823]  170.33  170.36  170.38  170.40  170.43  170.50  170.56  170.57  170.60\n",
            "[6832]  170.61  170.63  170.67  170.68  170.70  170.80  170.85  170.88  170.90\n",
            "[6841]  170.93  170.95  171.00  171.06  171.08  171.10  171.13  171.14  171.17\n",
            "[6850]  171.18  171.20  171.25  171.26  171.30  171.32  171.33  171.34  171.39\n",
            "[6859]  171.42  171.44  171.45  171.47  171.50  171.53  171.60  171.66  171.67\n",
            "[6868]  171.69  171.71  171.72  171.87  171.90  171.94  171.96  172.00  172.03\n",
            "[6877]  172.07  172.10  172.14  172.15  172.20  172.23  172.26  172.29  172.33\n",
            "[6886]  172.38  172.40  172.49  172.50  172.55  172.60  172.63  172.67  172.71\n",
            "[6895]  172.80  172.81  172.85  172.86  172.90  172.93  173.00  173.05  173.10\n",
            "[6904]  173.12  173.13  173.19  173.20  173.21  173.25  173.33  173.35  173.39\n",
            "[6913]  173.45  173.50  173.55  173.60  173.67  173.70  173.73  173.75  173.79\n",
            "[6922]  173.80  173.83  173.94  173.95  174.00  174.01  174.04  174.07  174.14\n",
            "[6931]  174.15  174.16  174.20  174.21  174.24  174.25  174.30  174.33  174.38\n",
            "[6940]  174.40  174.42  174.50  174.54  174.55  174.60  174.67  174.70  174.71\n",
            "[6949]  174.75  174.76  174.78  174.80  174.86  174.90  174.92  174.95  175.00\n",
            "[6958]  175.05  175.08  175.10  175.11  175.14  175.17  175.20  175.23  175.24\n",
            "[6967]  175.26  175.28  175.29  175.32  175.33  175.34  175.40  175.43  175.49\n",
            "[6976]  175.50  175.56  175.57  175.58  175.65  175.67  175.71  175.79  175.80\n",
            "[6985]  175.88  175.95  176.00  176.04  176.10  176.16  176.18  176.25  176.30\n",
            "[6994]  176.33  176.34  176.40  176.42  176.43  176.44  176.45  176.53  176.64\n",
            "[7003]  176.67  176.70  176.75  176.78  176.80  176.85  176.86  176.90  176.91\n",
            "[7012]  176.95  177.00  177.08  177.09  177.13  177.14  177.17  177.25  177.30\n",
            "[7021]  177.31  177.33  177.35  177.41  177.45  177.47  177.50  177.57  177.60\n",
            "[7030]  177.62  177.65  177.66  177.67  177.70  177.71  177.75  177.77  177.79\n",
            "[7039]  177.80  177.81  177.90  177.93  178.00  178.08  178.10  178.13  178.15\n",
            "[7048]  178.20  178.25  178.28  178.29  178.31  178.33  178.39  178.40  178.42\n",
            "[7057]  178.43  178.46  178.50  178.53  178.56  178.57  178.58  178.59  178.64\n",
            "[7066]  178.65  178.67  178.73  178.75  178.80  178.88  179.00  179.01  179.06\n",
            "[7075]  179.10  179.14  179.20  179.25  179.30  179.33  179.34  179.38  179.40\n",
            "[7084]  179.41  179.50  179.53  179.59  179.60  179.63  179.66  179.71  179.77\n",
            "[7093]  179.81  179.83  179.86  179.88  179.89  179.91  179.92  179.94  180.00\n",
            "[7102]  180.02  180.10  180.16  180.18  180.20  180.25  180.28  180.30  180.33\n",
            "[7111]  180.34  180.38  180.42  180.45  180.47  180.50  180.53  180.55  180.57\n",
            "[7120]  180.63  180.67  180.68  180.75  180.80  180.90  181.00  181.11  181.14\n",
            "[7129]  181.16  181.17  181.18  181.19  181.20  181.22  181.30  181.31  181.33\n",
            "[7138]  181.38  181.43  181.50  181.54  181.60  181.67  181.70  181.73  181.75\n",
            "[7147]  181.79  181.80  181.88  181.90  181.94  182.00  182.06  182.10  182.14\n",
            "[7156]  182.16  182.18  182.20  182.25  182.26  182.33  182.34  182.40  182.50\n",
            "[7165]  182.53  182.60  182.70  182.75  182.80  182.83  182.85  182.86  182.92\n",
            "[7174]  182.95  183.00  183.05  183.08  183.10  183.13  183.15  183.16  183.20\n",
            "[7183]  183.21  183.28  183.30  183.33  183.43  183.45  183.50  183.52  183.57\n",
            "[7192]  183.59  183.60  183.65  183.67  183.69  183.73  183.74  183.75  183.83\n",
            "[7201]  183.86  183.88  183.90  183.99  184.00  184.05  184.06  184.16  184.24\n",
            "[7210]  184.25  184.26  184.29  184.33  184.34  184.44  184.45  184.50  184.52\n",
            "[7219]  184.54  184.55  184.57  184.60  184.63  184.64  184.65  184.67  184.73\n",
            "[7228]  184.75  184.80  184.86  184.95  184.99  185.00  185.03  185.10  185.12\n",
            "[7237]  185.20  185.22  185.25  185.28  185.29  185.30  185.33  185.37  185.40\n",
            "[7246]  185.43  185.44  185.46  185.50  185.57  185.60  185.67  185.71  185.75\n",
            "[7255]  185.85  185.90  185.95  185.96  185.99  186.00  186.02  186.09  186.10\n",
            "[7264]  186.13  186.20  186.22  186.25  186.26  186.29  186.30  186.33  186.40\n",
            "[7273]  186.43  186.44  186.50  186.52  186.57  186.60  186.67  186.68  186.71\n",
            "[7282]  186.74  186.75  186.77  186.83  186.84  186.88  186.90  187.00  187.04\n",
            "[7291]  187.09  187.11  187.14  187.15  187.19  187.20  187.24  187.25  187.28\n",
            "[7300]  187.33  187.37  187.40  187.43  187.50  187.52  187.53  187.55  187.57\n",
            "[7309]  187.60  187.64  187.67  187.70  187.71  187.80  187.85  187.88  188.00\n",
            "[7318]  188.01  188.03  188.10  188.14  188.16  188.29  188.33  188.38  188.40\n",
            "[7327]  188.42  188.43  188.46  188.50  188.57  188.60  188.65  188.67  188.71\n",
            "[7336]  188.75  188.78  188.81  188.86  188.88  188.89  188.95  188.96  189.00\n",
            "[7345]  189.10  189.17  189.18  189.19  189.20  189.25  189.30  189.33  189.42\n",
            "[7354]  189.43  189.44  189.49  189.50  189.55  189.60  189.67  189.75  189.80\n",
            "[7363]  189.85  189.86  189.90  189.95  190.00  190.01  190.05  190.10  190.13\n",
            "[7372]  190.18  190.19  190.20  190.23  190.27  190.29  190.33  190.34  190.35\n",
            "[7381]  190.40  190.43  190.50  190.58  190.60  190.67  190.70  190.75  190.78\n",
            "[7390]  190.80  190.88  190.93  190.96  190.97  191.00  191.10  191.11  191.14\n",
            "[7399]  191.20  191.25  191.31  191.32  191.35  191.39  191.40  191.41  191.43\n",
            "[7408]  191.50  191.55  191.57  191.58  191.60  191.67  191.70  191.73  191.75\n",
            "[7417]  191.90  192.00  192.03  192.10  192.20  192.25  192.30  192.33  192.38\n",
            "[7426]  192.50  192.54  192.57  192.59  192.60  192.66  192.67  192.68  192.70\n",
            "[7435]  192.73  192.80  192.86  192.90  192.95  193.00  193.03  193.04  193.05\n",
            "[7444]  193.08  193.10  193.12  193.13  193.16  193.20  193.25  193.28  193.29\n",
            "[7453]  193.33  193.40  193.43  193.45  193.50  193.60  193.67  193.68  193.71\n",
            "[7462]  193.77  193.80  193.81  193.83  193.87  193.90  193.92  194.00  194.06\n",
            "[7471]  194.10  194.13  194.14  194.20  194.25  194.29  194.30  194.33  194.34\n",
            "[7480]  194.40  194.49  194.50  194.58  194.60  194.64  194.67  194.71  194.73\n",
            "[7489]  194.75  194.80  194.85  194.86  194.90  195.00  195.11  195.20  195.25\n",
            "[7498]  195.26  195.30  195.33  195.40  195.43  195.45  195.47  195.50  195.53\n",
            "[7507]  195.58  195.60  195.67  195.70  195.75  195.80  195.86  195.95  195.98\n",
            "[7516]  196.00  196.07  196.12  196.14  196.20  196.25  196.30  196.33  196.34\n",
            "[7525]  196.35  196.42  196.46  196.50  196.51  196.52  196.54  196.60  196.67\n",
            "[7534]  196.70  196.71  196.75  196.91  196.92  196.93  197.00  197.10  197.12\n",
            "[7543]  197.14  197.20  197.25  197.33  197.40  197.50  197.55  197.60  197.61\n",
            "[7552]  197.65  197.67  197.70  197.71  197.78  197.80  197.82  197.83  197.90\n",
            "[7561]  197.93  197.97  198.00  198.05  198.17  198.20  198.23  198.28  198.29\n",
            "[7570]  198.30  198.31  198.33  198.40  198.44  198.50  198.59  198.60  198.68\n",
            "[7579]  198.71  198.75  198.77  198.80  198.86  198.88  198.90  198.98  199.00\n",
            "[7588]  199.10  199.12  199.13  199.15  199.16  199.20  199.26  199.29  199.30\n",
            "[7597]  199.33  199.40  199.43  199.50  199.60  199.63  199.67  199.71  199.73\n",
            "[7606]  199.75  199.77  199.80  199.82  199.86  200.00  200.05  200.10  200.20\n",
            "[7615]  200.25  200.29  200.33  200.40  200.43  200.50  200.57  200.67  200.70\n",
            "[7624]  200.71  200.73  200.75  200.80  200.86  200.88  200.96  201.00  201.05\n",
            "[7633]  201.08  201.14  201.16  201.25  201.33  201.40  201.43  201.50  201.60\n",
            "[7642]  201.66  201.67  201.75  201.80  201.86  201.95  202.00  202.05  202.13\n",
            "[7651]  202.27  202.28  202.30  202.33  202.50  202.51  202.54  202.57  202.58\n",
            "[7660]  202.60  202.67  202.70  202.71  202.74  202.77  202.83  202.88  202.92\n",
            "[7669]  203.00  203.02  203.10  203.11  203.13  203.18  203.19  203.21  203.24\n",
            "[7678]  203.29  203.33  203.38  203.40  203.43  203.50  203.59  203.60  203.67\n",
            "[7687]  203.71  203.73  203.75  203.76  203.80  203.81  203.85  203.86  203.89\n",
            "[7696]  203.95  204.00  204.01  204.03  204.10  204.16  204.17  204.18  204.27\n",
            "[7705]  204.29  204.30  204.33  204.44  204.50  204.53  204.60  204.62  204.67\n",
            "[7714]  204.70  204.74  204.75  204.80  204.82  204.86  204.90  204.93  205.00\n",
            "[7723]  205.03  205.06  205.10  205.14  205.18  205.20  205.25  205.33  205.38\n",
            "[7732]  205.43  205.50  205.60  205.63  205.67  205.70  205.71  205.95  206.00\n",
            "[7741]  206.03  206.10  206.12  206.17  206.20  206.22  206.28  206.33  206.34\n",
            "[7750]  206.36  206.40  206.47  206.50  206.51  206.52  206.55  206.57  206.60\n",
            "[7759]  206.62  206.67  206.71  206.72  206.78  206.86  206.88  206.90  207.00\n",
            "[7768]  207.03  207.05  207.10  207.18  207.20  207.22  207.23  207.25  207.29\n",
            "[7777]  207.30  207.33  207.38  207.40  207.45  207.50  207.52  207.59  207.63\n",
            "[7786]  207.64  207.67  207.76  207.80  207.85  207.90  208.00  208.02  208.03\n",
            "[7795]  208.05  208.08  208.13  208.14  208.17  208.20  208.28  208.33  208.34\n",
            "[7804]  208.41  208.43  208.48  208.50  208.56  208.57  208.62  208.66  208.67\n",
            "[7813]  208.73  208.75  208.80  208.83  208.86  208.90  208.93  209.00  209.07\n",
            "[7822]  209.10  209.17  209.20  209.25  209.29  209.33  209.40  209.50  209.57\n",
            "[7831]  209.58  209.60  209.67  209.70  209.71  209.75  209.80  209.83  209.84\n",
            "[7840]  209.85  209.86  210.00  210.03  210.14  210.33  210.40  210.42  210.43\n",
            "[7849]  210.50  210.51  210.57  210.60  210.67  210.71  210.75  210.78  210.80\n",
            "[7858]  210.86  211.00  211.03  211.08  211.12  211.16  211.20  211.25  211.30\n",
            "[7867]  211.33  211.41  211.49  211.50  211.60  211.67  211.75  211.76  211.80\n",
            "[7876]  211.86  211.91  212.00  212.05  212.06  212.10  212.14  212.16  212.17\n",
            "[7885]  212.29  212.31  212.33  212.40  212.42  212.50  212.53  212.54  212.58\n",
            "[7894]  212.60  212.67  212.71  212.72  212.73  212.80  212.83  212.86  212.88\n",
            "[7903]  213.00  213.10  213.14  213.30  213.33  213.40  213.43  213.50  213.55\n",
            "[7912]  213.56  213.57  213.60  213.63  213.67  213.70  213.71  213.75  213.80\n",
            "[7921]  213.81  213.86  214.00  214.10  214.20  214.21  214.33  214.40  214.50\n",
            "[7930]  214.53  214.60  214.67  214.71  214.75  214.76  214.80  214.83  214.84\n",
            "[7939]  214.86  214.87  214.92  214.99  215.00  215.10  215.18  215.24  215.25\n",
            "[7948]  215.27  215.33  215.50  215.55  215.60  215.67  215.71  215.86  215.95\n",
            "[7957]  216.00  216.13  216.14  216.25  216.29  216.33  216.43  216.45  216.50\n",
            "[7966]  216.57  216.64  216.66  216.67  216.84  216.86  216.89  216.90  216.93\n",
            "[7975]  216.98  217.00  217.05  217.08  217.10  217.11  217.14  217.20  217.27\n",
            "[7984]  217.30  217.33  217.43  217.50  217.60  217.67  217.71  217.75  217.80\n",
            "[7993]  217.82  217.83  217.86  217.98  218.00  218.03  218.10  218.11  218.18\n",
            "[8002]  218.25  218.30  218.33  218.40  218.43  218.45  218.50  218.51  218.60\n",
            "[8011]  218.63  218.67  218.70  218.72  218.75  218.80  218.83  218.96  219.00\n",
            "[8020]  219.03  219.10  219.14  219.20  219.25  219.29  219.30  219.32  219.33\n",
            "[8029]  219.43  219.45  219.46  219.50  219.58  219.60  219.67  219.80  219.86\n",
            "[8038]  219.90  220.00  220.05  220.16  220.33  220.40  220.49  220.50  220.53\n",
            "[8047]  220.55  220.60  220.65  220.73  220.75  220.80  220.87  220.98  221.00\n",
            "[8056]  221.07  221.10  221.18  221.20  221.25  221.30  221.33  221.38  221.39\n",
            "[8065]  221.40  221.41  221.43  221.49  221.50  221.60  221.62  222.00  222.02\n",
            "[8074]  222.07  222.14  222.17  222.20  222.26  222.30  222.33  222.35  222.38\n",
            "[8083]  222.39  222.50  222.57  222.67  222.80  222.86  222.93  223.00  223.07\n",
            "[8092]  223.14  223.20  223.29  223.32  223.33  223.50  223.55  223.57  223.60\n",
            "[8101]  223.67  223.75  223.76  223.99  224.00  224.07  224.10  224.16  224.25\n",
            "[8110]  224.33  224.39  224.40  224.43  224.44  224.50  224.67  224.80  224.90\n",
            "[8119]  225.00  225.08  225.14  225.20  225.28  225.29  225.33  225.36  225.40\n",
            "[8128]  225.43  225.45  225.48  225.50  225.60  225.67  225.71  225.80  225.90\n",
            "[8137]  226.00  226.14  226.17  226.33  226.35  226.50  226.57  226.67  226.73\n",
            "[8146]  226.80  226.84  226.95  227.00  227.06  227.10  227.15  227.22  227.25\n",
            "[8155]  227.40  227.60  227.67  227.78  227.80  227.81  227.86  227.90  227.92\n",
            "[8164]  228.00  228.21  228.30  228.32  228.33  228.50  228.53  228.57  228.60\n",
            "[8173]  228.75  228.76  228.80  228.84  228.89  229.00  229.13  229.17  229.19\n",
            "[8182]  229.20  229.25  229.33  229.40  229.43  229.46  229.50  229.52  229.60\n",
            "[8191]  229.67  229.71  230.00  230.30  230.35  230.43  230.50  230.60  230.64\n",
            "[8200]  230.67  230.84  230.86  231.00  231.13  231.15  231.17  231.22  231.33\n",
            "[8209]  231.43  231.50  231.60  231.67  231.69  231.75  231.76  231.78  231.80\n",
            "[8218]  231.81  231.84  231.88  232.00  232.16  232.20  232.25  232.33  232.40\n",
            "[8227]  232.50  232.57  232.59  232.60  232.61  232.67  232.80  232.91  233.00\n",
            "[8236]  233.05  233.10  233.13  233.33  233.60  233.64  233.75  233.92  234.00\n",
            "[8245]  234.17  234.18  234.29  234.33  234.35  234.36  234.50  234.54  234.56\n",
            "[8254]  234.60  234.62  234.67  234.70  234.71  234.96  235.00  235.07  235.29\n",
            "[8263]  235.33  235.45  235.50  235.57  235.60  235.63  235.67  235.71  235.80\n",
            "[8272]  235.94  235.95  236.00  236.10  236.14  236.33  236.50  236.52  236.67\n",
            "[8281]  236.71  236.85  236.86  236.93  237.00  237.20  237.33  237.34  237.45\n",
            "[8290]  237.48  237.50  237.60  237.67  237.71  237.73  237.75  237.90  238.00\n",
            "[8299]  238.10  238.14  238.15  238.16  238.26  238.30  238.40  238.50  238.57\n",
            "[8308]  238.63  238.71  238.75  239.00  239.08  239.10  239.14  239.30  239.43\n",
            "[8317]  239.50  239.60  239.64  239.65  239.66  239.67  239.75  239.78  239.80\n",
            "[8326]  240.00  240.30  240.37  240.50  240.57  240.60  240.64  240.70  240.80\n",
            "[8335]  240.86  240.91  241.00  241.10  241.25  241.41  241.48  241.50  241.59\n",
            "[8344]  241.60  241.67  241.75  241.81  241.86  242.00  242.10  242.25  242.32\n",
            "[8353]  242.33  242.50  242.57  242.60  242.67  242.75  242.77  242.84  242.86\n",
            "[8362]  242.90  243.00  243.16  243.17  243.32  243.33  243.50  243.56  243.60\n",
            "[8371]  243.63  243.67  243.71  243.80  243.81  243.86  243.90  243.96  244.00\n",
            "[8380]  244.09  244.16  244.31  244.43  244.50  244.55  244.67  244.72  244.80\n",
            "[8389]  244.86  245.00  245.10  245.20  245.30  245.33  245.43  245.50  245.67\n",
            "[8398]  245.95  246.00  246.02  246.20  246.25  246.33  246.38  246.43  246.50\n",
            "[8407]  246.55  246.60  246.67  246.80  247.00  247.09  247.20  247.33  247.50\n",
            "[8416]  247.57  247.65  247.67  248.00  248.10  248.16  248.20  248.29  248.33\n",
            "[8425]  248.36  248.49  248.50  248.75  248.80  248.89  249.00  249.23  249.30\n",
            "[8434]  249.38  249.50  249.63  249.67  250.00  250.20  250.32  250.33  250.50\n",
            "[8443]  250.75  250.96  251.00  251.07  251.14  251.43  251.50  251.60  251.70\n",
            "[8452]  251.73  251.83  251.86  252.00  252.17  252.30  252.33  252.50  252.57\n",
            "[8461]  252.60  252.67  252.90  253.00  253.10  253.16  253.20  253.25  253.33\n",
            "[8470]  253.49  253.50  253.51  253.54  253.57  253.60  253.65  253.67  253.80\n",
            "[8479]  254.00  254.10  254.31  254.50  254.62  254.67  254.96  255.00  255.45\n",
            "[8488]  255.48  255.50  255.84  256.00  256.10  256.31  256.50  256.57  256.67\n",
            "[8497]  256.72  256.75  257.00  257.34  257.50  257.55  257.60  257.67  257.75\n",
            "[8506]  258.00  258.27  258.29  258.33  258.43  259.00  259.20  259.29  259.33\n",
            "[8515]  259.43  259.86  259.88  260.00  260.33  260.40  260.50  260.60  260.71\n",
            "[8524]  260.90  261.00  261.25  261.33  261.40  261.50  261.67  262.00  262.38\n",
            "[8533]  262.50  262.60  262.70  263.00  263.09  263.33  263.55  263.57  263.91\n",
            "[8542]  264.00  264.10  264.16  264.29  264.44  264.50  264.60  265.00  265.25\n",
            "[8551]  265.44  265.67  265.83  265.86  265.93  266.00  266.06  266.10  266.20\n",
            "[8560]  266.30  266.40  266.43  266.50  266.60  266.67  266.75  266.96  267.00\n",
            "[8569]  267.50  267.86  268.00  268.17  268.30  268.33  268.50  268.75  269.00\n",
            "[8578]  269.30  269.43  269.50  270.00  270.10  270.38  270.50  270.51  270.71\n",
            "[8587]  271.00  271.67  272.00  272.50  272.67  272.70  273.00  273.09  273.13\n",
            "[8596]  273.25  273.50  273.56  273.70  273.86  273.90  274.00  274.20  274.45\n",
            "[8605]  274.50  274.60  274.67  274.93  275.00  275.25  275.33  275.40  275.60\n",
            "[8614]  275.90  276.00  276.43  276.46  276.53  276.60  276.83  276.90  277.00\n",
            "[8623]  277.15  277.50  277.67  277.71  278.00  278.14  278.33  278.50  278.57\n",
            "[8632]  278.60  278.90  279.00  279.03  279.20  279.33  279.36  279.50  280.00\n",
            "[8641]  280.33  280.74  281.00  281.43  282.00  282.03  282.29  282.32  282.50\n",
            "[8650]  283.00  283.20  283.23  283.32  283.43  283.50  283.60  283.67  284.00\n",
            "[8659]  284.10  284.20  284.29  284.70  284.86  285.00  285.17  286.00  286.10\n",
            "[8668]  286.20  286.25  286.60  286.79  287.00  287.50  288.00  288.03  288.10\n",
            "[8677]  289.00  289.50  289.60  289.80  289.86  289.88  289.90  290.00  290.01\n",
            "[8686]  290.56  290.67  291.00  291.43  292.00  292.40  292.50  292.71  292.75\n",
            "[8695]  293.00  293.10  293.33  293.50  293.60  293.75  293.86  294.00  294.29\n",
            "[8704]  294.35  294.50  294.55  294.86  295.00  295.50  295.67  296.00  296.33\n",
            "[8713]  296.50  296.75  297.00  297.25  297.29  297.38  297.50  297.57  298.00\n",
            "[8722]  298.71  299.00  299.20  299.33  299.43  300.00  300.40  300.60  300.71\n",
            "[8731]  300.86  301.00  301.20  301.43  302.00  302.11  302.50  302.67  302.86\n",
            "[8740]  303.00  303.20  303.33  303.70  304.00  305.00  306.00  306.50  306.70\n",
            "[8749]  307.00  307.50  307.67  307.80  308.00  308.14  308.40  308.57  309.00\n",
            "[8758]  309.10  309.50  310.00  310.20  310.75  311.00  311.25  311.33  311.50\n",
            "[8767]  311.60  311.70  312.00  312.29  312.50  313.67  313.71  314.00  314.10\n",
            "[8776]  314.50  314.67  315.00  315.33  315.38  315.50  315.71  316.00  316.50\n",
            "[8785]  317.00  317.50  317.67  318.00  318.50  318.71  318.82  319.00  320.70\n",
            "[8794]  321.50  321.94  322.00  323.00  324.00  324.50  325.00  326.00  326.33\n",
            "[8803]  326.50  326.71  327.40  327.60  328.00  328.33  328.67  329.00  329.67\n",
            "[8812]  330.00  330.57  331.00  331.33  331.43  332.00  332.57  333.67  334.43\n",
            "[8821]  335.00  336.00  336.50  336.57  337.00  338.00  339.40  340.00  340.71\n",
            "[8830]  340.86  341.00  342.17  342.29  343.00  344.00  344.67  345.00  349.00\n",
            "[8839]  349.63  349.67  350.20  350.75  351.00  352.00  352.50  353.00  353.67\n",
            "[8848]  354.00  357.00  358.75  359.00  359.50  360.00  363.00  365.00  367.00\n",
            "[8857]  368.10  369.00  372.00  372.33  372.71  375.50  377.00  378.00  382.00\n",
            "[8866]  383.00  384.00  387.00  388.00  392.00  397.38  402.00  426.25  437.00\n",
            "[8875]  450.00  451.50  508.00  510.00 5400.00\n",
            "[1] \"adults\"\n",
            " [1]  0  1  2  3  4  5  6 10 20 26 27 40 50 55\n",
            "[1] \"children\"\n",
            "[1]  0  1  2  3 10\n",
            "[1] \"babies\"\n",
            "[1]  0  1  2  9 10\n",
            "[1] \"arrival_date_month\"\n",
            " [1] April     August    December  February  January   July      June     \n",
            " [8] March     May       November  October   September\n",
            "12 Levels: April August December February January July June March ... September\n",
            "[1] \"arrival_date_week_number\"\n",
            " [1] 1  2  3  4  5  6  7  8  9  10 11 12 13 14 15 16 17 18 19 20 21 22 23 24 25\n",
            "[26] 26 27 28 29 30 31 32 33 34 35 36 37 38 39 40 41 42 43 44 45 46 47 48 49 50\n",
            "[51] 51 52 53\n",
            "53 Levels: 1 2 3 4 5 6 7 8 9 10 11 12 13 14 15 16 17 18 19 20 21 22 23 ... 53\n",
            "[1] \"arrival_date_year\"\n",
            "[1] 2015 2016 2017\n",
            "[1] \"country\"\n",
            "  [1] ABW AGO AIA ALB AND ARE ARG ARM ASM ATA ATF AUS AUT AZE BDI BEL BEN BFA\n",
            " [19] BGD BGR BHR BHS BIH BLR BOL BRA BRB BWA CAF CHE CHL CHN CIV CMR CN  COL\n",
            " [37] COM CPV CRI CUB CYM CYP CZE DEU DJI DMA DNK DOM DZA ECU EGY ESP EST ETH\n",
            " [55] FIN FJI FRA FRO GAB GBR GEO GGY GHA GIB GLP GNB GRC GTM GUY HKG HND HRV\n",
            " [73] HUN IDN IMN IND IRL IRN IRQ ISL ISR ITA JAM JEY JOR JPN KAZ KEN KHM KIR\n",
            " [91] KNA KOR KWT LAO LBN LBY LCA LIE LKA LTU LUX LVA MAC MAR MCO MDG MDV MEX\n",
            "[109] MKD MLI MLT MMR MNE MOZ MRT MUS MWI MYS MYT NAM NCL NGA NIC NLD NOR NPL\n",
            "[127] NZL OMN PAK PAN PER PHL PLW POL PRI PRT PRY PYF QAT ROU RUS RWA SAU SDN\n",
            "[145] SEN SGP SLE SLV SMR SRB STP SUR SVK SVN SWE SYC SYR TGO THA TJK TMP TUN\n",
            "[163] TUR TWN TZA UGA UKR UMI URY USA UZB VEN VGB VNM ZAF ZMB ZWE\n",
            "177 Levels: ABW AGO AIA ALB AND ARE ARG ARM ASM ATA ATF AUS AUT AZE BDI ... ZWE\n",
            "[1] \"stays_in_weekend_nights\"\n",
            " [1]  0  1  2  3  4  5  6  7  8  9 10 12 13 14 16 18 19\n",
            "[1] \"stays_in_week_nights\"\n",
            " [1]  0  1  2  3  4  5  6  7  8  9 10 11 12 13 14 15 16 17 18 19 20 21 22 24 25\n",
            "[26] 26 30 32 33 34 35 40 41 42 50\n",
            "[1] \"market_segment\"\n",
            "[1] Aviation      Complementary Corporate     Direct        Groups       \n",
            "[6] Offline TA/TO Online TA     Undefined    \n",
            "8 Levels: Aviation Complementary Corporate Direct Groups ... Undefined\n",
            "[1] \"reservation_status_date\"\n",
            "  [1] \"2014-10-17\" \"2014-11-18\" \"2015-01-01\" \"2015-01-02\" \"2015-01-18\"\n",
            "  [6] \"2015-01-20\" \"2015-01-21\" \"2015-01-22\" \"2015-01-28\" \"2015-01-29\"\n",
            " [11] \"2015-01-30\" \"2015-02-02\" \"2015-02-05\" \"2015-02-06\" \"2015-02-09\"\n",
            " [16] \"2015-02-10\" \"2015-02-11\" \"2015-02-12\" \"2015-02-17\" \"2015-02-19\"\n",
            " [21] \"2015-02-20\" \"2015-02-23\" \"2015-02-24\" \"2015-02-25\" \"2015-02-26\"\n",
            " [26] \"2015-02-27\" \"2015-03-03\" \"2015-03-04\" \"2015-03-05\" \"2015-03-06\"\n",
            " [31] \"2015-03-09\" \"2015-03-10\" \"2015-03-11\" \"2015-03-12\" \"2015-03-13\"\n",
            " [36] \"2015-03-17\" \"2015-03-18\" \"2015-03-23\" \"2015-03-24\" \"2015-03-25\"\n",
            " [41] \"2015-03-28\" \"2015-03-29\" \"2015-03-30\" \"2015-03-31\" \"2015-04-02\"\n",
            " [46] \"2015-04-03\" \"2015-04-04\" \"2015-04-05\" \"2015-04-06\" \"2015-04-07\"\n",
            " [51] \"2015-04-08\" \"2015-04-10\" \"2015-04-11\" \"2015-04-13\" \"2015-04-14\"\n",
            " [56] \"2015-04-15\" \"2015-04-16\" \"2015-04-17\" \"2015-04-18\" \"2015-04-20\"\n",
            " [61] \"2015-04-21\" \"2015-04-22\" \"2015-04-23\" \"2015-04-24\" \"2015-04-25\"\n",
            " [66] \"2015-04-27\" \"2015-04-28\" \"2015-04-29\" \"2015-04-30\" \"2015-05-01\"\n",
            " [71] \"2015-05-04\" \"2015-05-05\" \"2015-05-06\" \"2015-05-07\" \"2015-05-08\"\n",
            " [76] \"2015-05-09\" \"2015-05-11\" \"2015-05-12\" \"2015-05-13\" \"2015-05-14\"\n",
            " [81] \"2015-05-15\" \"2015-05-16\" \"2015-05-18\" \"2015-05-19\" \"2015-05-20\"\n",
            " [86] \"2015-05-21\" \"2015-05-22\" \"2015-05-23\" \"2015-05-25\" \"2015-05-26\"\n",
            " [91] \"2015-05-27\" \"2015-05-28\" \"2015-05-29\" \"2015-05-30\" \"2015-06-01\"\n",
            " [96] \"2015-06-02\" \"2015-06-03\" \"2015-06-04\" \"2015-06-05\" \"2015-06-06\"\n",
            "[101] \"2015-06-08\" \"2015-06-09\" \"2015-06-10\" \"2015-06-11\" \"2015-06-12\"\n",
            "[106] \"2015-06-13\" \"2015-06-14\" \"2015-06-15\" \"2015-06-16\" \"2015-06-17\"\n",
            "[111] \"2015-06-18\" \"2015-06-19\" \"2015-06-20\" \"2015-06-22\" \"2015-06-23\"\n",
            "[116] \"2015-06-24\" \"2015-06-25\" \"2015-06-26\" \"2015-06-27\" \"2015-06-29\"\n",
            "[121] \"2015-06-30\" \"2015-07-01\" \"2015-07-02\" \"2015-07-03\" \"2015-07-04\"\n",
            "[126] \"2015-07-05\" \"2015-07-06\" \"2015-07-07\" \"2015-07-08\" \"2015-07-09\"\n",
            "[131] \"2015-07-10\" \"2015-07-11\" \"2015-07-12\" \"2015-07-13\" \"2015-07-14\"\n",
            "[136] \"2015-07-15\" \"2015-07-16\" \"2015-07-17\" \"2015-07-18\" \"2015-07-19\"\n",
            "[141] \"2015-07-20\" \"2015-07-21\" \"2015-07-22\" \"2015-07-23\" \"2015-07-24\"\n",
            "[146] \"2015-07-25\" \"2015-07-26\" \"2015-07-27\" \"2015-07-28\" \"2015-07-29\"\n",
            "[151] \"2015-07-30\" \"2015-07-31\" \"2015-08-01\" \"2015-08-02\" \"2015-08-03\"\n",
            "[156] \"2015-08-04\" \"2015-08-05\" \"2015-08-06\" \"2015-08-07\" \"2015-08-08\"\n",
            "[161] \"2015-08-09\" \"2015-08-10\" \"2015-08-11\" \"2015-08-12\" \"2015-08-13\"\n",
            "[166] \"2015-08-14\" \"2015-08-15\" \"2015-08-16\" \"2015-08-17\" \"2015-08-18\"\n",
            "[171] \"2015-08-19\" \"2015-08-20\" \"2015-08-21\" \"2015-08-22\" \"2015-08-23\"\n",
            "[176] \"2015-08-24\" \"2015-08-25\" \"2015-08-26\" \"2015-08-27\" \"2015-08-28\"\n",
            "[181] \"2015-08-29\" \"2015-08-30\" \"2015-08-31\" \"2015-09-01\" \"2015-09-02\"\n",
            "[186] \"2015-09-03\" \"2015-09-04\" \"2015-09-05\" \"2015-09-06\" \"2015-09-07\"\n",
            "[191] \"2015-09-08\" \"2015-09-09\" \"2015-09-10\" \"2015-09-11\" \"2015-09-12\"\n",
            "[196] \"2015-09-13\" \"2015-09-14\" \"2015-09-15\" \"2015-09-16\" \"2015-09-17\"\n",
            "[201] \"2015-09-18\" \"2015-09-19\" \"2015-09-20\" \"2015-09-21\" \"2015-09-22\"\n",
            "[206] \"2015-09-23\" \"2015-09-24\" \"2015-09-25\" \"2015-09-26\" \"2015-09-27\"\n",
            "[211] \"2015-09-28\" \"2015-09-29\" \"2015-09-30\" \"2015-10-01\" \"2015-10-02\"\n",
            "[216] \"2015-10-03\" \"2015-10-04\" \"2015-10-05\" \"2015-10-06\" \"2015-10-07\"\n",
            "[221] \"2015-10-08\" \"2015-10-09\" \"2015-10-10\" \"2015-10-11\" \"2015-10-12\"\n",
            "[226] \"2015-10-13\" \"2015-10-14\" \"2015-10-15\" \"2015-10-16\" \"2015-10-17\"\n",
            "[231] \"2015-10-18\" \"2015-10-19\" \"2015-10-20\" \"2015-10-21\" \"2015-10-22\"\n",
            "[236] \"2015-10-23\" \"2015-10-24\" \"2015-10-25\" \"2015-10-26\" \"2015-10-27\"\n",
            "[241] \"2015-10-28\" \"2015-10-29\" \"2015-10-30\" \"2015-10-31\" \"2015-11-01\"\n",
            "[246] \"2015-11-02\" \"2015-11-03\" \"2015-11-04\" \"2015-11-05\" \"2015-11-06\"\n",
            "[251] \"2015-11-07\" \"2015-11-08\" \"2015-11-09\" \"2015-11-10\" \"2015-11-11\"\n",
            "[256] \"2015-11-12\" \"2015-11-13\" \"2015-11-14\" \"2015-11-15\" \"2015-11-16\"\n",
            "[261] \"2015-11-17\" \"2015-11-18\" \"2015-11-19\" \"2015-11-20\" \"2015-11-21\"\n",
            "[266] \"2015-11-22\" \"2015-11-23\" \"2015-11-24\" \"2015-11-25\" \"2015-11-26\"\n",
            "[271] \"2015-11-27\" \"2015-11-28\" \"2015-11-29\" \"2015-11-30\" \"2015-12-01\"\n",
            "[276] \"2015-12-02\" \"2015-12-03\" \"2015-12-04\" \"2015-12-05\" \"2015-12-06\"\n",
            "[281] \"2015-12-07\" \"2015-12-08\" \"2015-12-09\" \"2015-12-10\" \"2015-12-11\"\n",
            "[286] \"2015-12-12\" \"2015-12-13\" \"2015-12-14\" \"2015-12-15\" \"2015-12-16\"\n",
            "[291] \"2015-12-17\" \"2015-12-18\" \"2015-12-19\" \"2015-12-20\" \"2015-12-21\"\n",
            "[296] \"2015-12-22\" \"2015-12-23\" \"2015-12-24\" \"2015-12-25\" \"2015-12-26\"\n",
            "[301] \"2015-12-27\" \"2015-12-28\" \"2015-12-29\" \"2015-12-30\" \"2015-12-31\"\n",
            "[306] \"2016-01-01\" \"2016-01-02\" \"2016-01-03\" \"2016-01-04\" \"2016-01-05\"\n",
            "[311] \"2016-01-06\" \"2016-01-07\" \"2016-01-08\" \"2016-01-09\" \"2016-01-10\"\n",
            "[316] \"2016-01-11\" \"2016-01-12\" \"2016-01-13\" \"2016-01-14\" \"2016-01-15\"\n",
            "[321] \"2016-01-16\" \"2016-01-17\" \"2016-01-18\" \"2016-01-19\" \"2016-01-20\"\n",
            "[326] \"2016-01-21\" \"2016-01-22\" \"2016-01-23\" \"2016-01-24\" \"2016-01-25\"\n",
            "[331] \"2016-01-26\" \"2016-01-27\" \"2016-01-28\" \"2016-01-29\" \"2016-01-30\"\n",
            "[336] \"2016-01-31\" \"2016-02-01\" \"2016-02-02\" \"2016-02-03\" \"2016-02-04\"\n",
            "[341] \"2016-02-05\" \"2016-02-06\" \"2016-02-07\" \"2016-02-08\" \"2016-02-09\"\n",
            "[346] \"2016-02-10\" \"2016-02-11\" \"2016-02-12\" \"2016-02-13\" \"2016-02-14\"\n",
            "[351] \"2016-02-15\" \"2016-02-16\" \"2016-02-17\" \"2016-02-18\" \"2016-02-19\"\n",
            "[356] \"2016-02-20\" \"2016-02-21\" \"2016-02-22\" \"2016-02-23\" \"2016-02-24\"\n",
            "[361] \"2016-02-25\" \"2016-02-26\" \"2016-02-27\" \"2016-02-28\" \"2016-02-29\"\n",
            "[366] \"2016-03-01\" \"2016-03-02\" \"2016-03-03\" \"2016-03-04\" \"2016-03-05\"\n",
            "[371] \"2016-03-06\" \"2016-03-07\" \"2016-03-08\" \"2016-03-09\" \"2016-03-10\"\n",
            "[376] \"2016-03-11\" \"2016-03-12\" \"2016-03-13\" \"2016-03-14\" \"2016-03-15\"\n",
            "[381] \"2016-03-16\" \"2016-03-17\" \"2016-03-18\" \"2016-03-19\" \"2016-03-20\"\n",
            "[386] \"2016-03-21\" \"2016-03-22\" \"2016-03-23\" \"2016-03-24\" \"2016-03-25\"\n",
            "[391] \"2016-03-26\" \"2016-03-27\" \"2016-03-28\" \"2016-03-29\" \"2016-03-30\"\n",
            "[396] \"2016-03-31\" \"2016-04-01\" \"2016-04-02\" \"2016-04-03\" \"2016-04-04\"\n",
            "[401] \"2016-04-05\" \"2016-04-06\" \"2016-04-07\" \"2016-04-08\" \"2016-04-09\"\n",
            "[406] \"2016-04-10\" \"2016-04-11\" \"2016-04-12\" \"2016-04-13\" \"2016-04-14\"\n",
            "[411] \"2016-04-15\" \"2016-04-16\" \"2016-04-17\" \"2016-04-18\" \"2016-04-19\"\n",
            "[416] \"2016-04-20\" \"2016-04-21\" \"2016-04-22\" \"2016-04-23\" \"2016-04-24\"\n",
            "[421] \"2016-04-25\" \"2016-04-26\" \"2016-04-27\" \"2016-04-28\" \"2016-04-29\"\n",
            "[426] \"2016-04-30\" \"2016-05-01\" \"2016-05-02\" \"2016-05-03\" \"2016-05-04\"\n",
            "[431] \"2016-05-05\" \"2016-05-06\" \"2016-05-07\" \"2016-05-08\" \"2016-05-09\"\n",
            "[436] \"2016-05-10\" \"2016-05-11\" \"2016-05-12\" \"2016-05-13\" \"2016-05-14\"\n",
            "[441] \"2016-05-15\" \"2016-05-16\" \"2016-05-17\" \"2016-05-18\" \"2016-05-19\"\n",
            "[446] \"2016-05-20\" \"2016-05-21\" \"2016-05-22\" \"2016-05-23\" \"2016-05-24\"\n",
            "[451] \"2016-05-25\" \"2016-05-26\" \"2016-05-27\" \"2016-05-28\" \"2016-05-29\"\n",
            "[456] \"2016-05-30\" \"2016-05-31\" \"2016-06-01\" \"2016-06-02\" \"2016-06-03\"\n",
            "[461] \"2016-06-04\" \"2016-06-05\" \"2016-06-06\" \"2016-06-07\" \"2016-06-08\"\n",
            "[466] \"2016-06-09\" \"2016-06-10\" \"2016-06-11\" \"2016-06-12\" \"2016-06-13\"\n",
            "[471] \"2016-06-14\" \"2016-06-15\" \"2016-06-16\" \"2016-06-17\" \"2016-06-18\"\n",
            "[476] \"2016-06-19\" \"2016-06-20\" \"2016-06-21\" \"2016-06-22\" \"2016-06-23\"\n",
            "[481] \"2016-06-24\" \"2016-06-25\" \"2016-06-26\" \"2016-06-27\" \"2016-06-28\"\n",
            "[486] \"2016-06-29\" \"2016-06-30\" \"2016-07-01\" \"2016-07-02\" \"2016-07-03\"\n",
            "[491] \"2016-07-04\" \"2016-07-05\" \"2016-07-06\" \"2016-07-07\" \"2016-07-08\"\n",
            "[496] \"2016-07-09\" \"2016-07-10\" \"2016-07-11\" \"2016-07-12\" \"2016-07-13\"\n",
            "[501] \"2016-07-14\" \"2016-07-15\" \"2016-07-16\" \"2016-07-17\" \"2016-07-18\"\n",
            "[506] \"2016-07-19\" \"2016-07-20\" \"2016-07-21\" \"2016-07-22\" \"2016-07-23\"\n",
            "[511] \"2016-07-24\" \"2016-07-25\" \"2016-07-26\" \"2016-07-27\" \"2016-07-28\"\n",
            "[516] \"2016-07-29\" \"2016-07-30\" \"2016-07-31\" \"2016-08-01\" \"2016-08-02\"\n",
            "[521] \"2016-08-03\" \"2016-08-04\" \"2016-08-05\" \"2016-08-06\" \"2016-08-07\"\n",
            "[526] \"2016-08-08\" \"2016-08-09\" \"2016-08-10\" \"2016-08-11\" \"2016-08-12\"\n",
            "[531] \"2016-08-13\" \"2016-08-14\" \"2016-08-15\" \"2016-08-16\" \"2016-08-17\"\n",
            "[536] \"2016-08-18\" \"2016-08-19\" \"2016-08-20\" \"2016-08-21\" \"2016-08-22\"\n",
            "[541] \"2016-08-23\" \"2016-08-24\" \"2016-08-25\" \"2016-08-26\" \"2016-08-27\"\n",
            "[546] \"2016-08-28\" \"2016-08-29\" \"2016-08-30\" \"2016-08-31\" \"2016-09-01\"\n",
            "[551] \"2016-09-02\" \"2016-09-03\" \"2016-09-04\" \"2016-09-05\" \"2016-09-06\"\n",
            "[556] \"2016-09-07\" \"2016-09-08\" \"2016-09-09\" \"2016-09-10\" \"2016-09-11\"\n",
            "[561] \"2016-09-12\" \"2016-09-13\" \"2016-09-14\" \"2016-09-15\" \"2016-09-16\"\n",
            "[566] \"2016-09-17\" \"2016-09-18\" \"2016-09-19\" \"2016-09-20\" \"2016-09-21\"\n",
            "[571] \"2016-09-22\" \"2016-09-23\" \"2016-09-24\" \"2016-09-25\" \"2016-09-26\"\n",
            "[576] \"2016-09-27\" \"2016-09-28\" \"2016-09-29\" \"2016-09-30\" \"2016-10-01\"\n",
            "[581] \"2016-10-02\" \"2016-10-03\" \"2016-10-04\" \"2016-10-05\" \"2016-10-06\"\n",
            "[586] \"2016-10-07\" \"2016-10-08\" \"2016-10-09\" \"2016-10-10\" \"2016-10-11\"\n",
            "[591] \"2016-10-12\" \"2016-10-13\" \"2016-10-14\" \"2016-10-15\" \"2016-10-16\"\n",
            "[596] \"2016-10-17\" \"2016-10-18\" \"2016-10-19\" \"2016-10-20\" \"2016-10-21\"\n",
            "[601] \"2016-10-22\" \"2016-10-23\" \"2016-10-24\" \"2016-10-25\" \"2016-10-26\"\n",
            "[606] \"2016-10-27\" \"2016-10-28\" \"2016-10-29\" \"2016-10-30\" \"2016-10-31\"\n",
            "[611] \"2016-11-01\" \"2016-11-02\" \"2016-11-03\" \"2016-11-04\" \"2016-11-05\"\n",
            "[616] \"2016-11-06\" \"2016-11-07\" \"2016-11-08\" \"2016-11-09\" \"2016-11-10\"\n",
            "[621] \"2016-11-11\" \"2016-11-12\" \"2016-11-13\" \"2016-11-14\" \"2016-11-15\"\n",
            "[626] \"2016-11-16\" \"2016-11-17\" \"2016-11-18\" \"2016-11-19\" \"2016-11-20\"\n",
            "[631] \"2016-11-21\" \"2016-11-22\" \"2016-11-23\" \"2016-11-24\" \"2016-11-25\"\n",
            "[636] \"2016-11-26\" \"2016-11-27\" \"2016-11-28\" \"2016-11-29\" \"2016-11-30\"\n",
            "[641] \"2016-12-01\" \"2016-12-02\" \"2016-12-03\" \"2016-12-04\" \"2016-12-05\"\n",
            "[646] \"2016-12-06\" \"2016-12-07\" \"2016-12-08\" \"2016-12-09\" \"2016-12-10\"\n",
            "[651] \"2016-12-11\" \"2016-12-12\" \"2016-12-13\" \"2016-12-14\" \"2016-12-15\"\n",
            "[656] \"2016-12-16\" \"2016-12-17\" \"2016-12-18\" \"2016-12-19\" \"2016-12-20\"\n",
            "[661] \"2016-12-21\" \"2016-12-22\" \"2016-12-23\" \"2016-12-24\" \"2016-12-25\"\n",
            "[666] \"2016-12-26\" \"2016-12-27\" \"2016-12-28\" \"2016-12-29\" \"2016-12-30\"\n",
            "[671] \"2016-12-31\" \"2017-01-01\" \"2017-01-02\" \"2017-01-03\" \"2017-01-04\"\n",
            "[676] \"2017-01-05\" \"2017-01-06\" \"2017-01-07\" \"2017-01-08\" \"2017-01-09\"\n",
            "[681] \"2017-01-10\" \"2017-01-11\" \"2017-01-12\" \"2017-01-13\" \"2017-01-14\"\n",
            "[686] \"2017-01-15\" \"2017-01-16\" \"2017-01-17\" \"2017-01-18\" \"2017-01-19\"\n",
            "[691] \"2017-01-20\" \"2017-01-21\" \"2017-01-22\" \"2017-01-23\" \"2017-01-24\"\n",
            "[696] \"2017-01-25\" \"2017-01-26\" \"2017-01-27\" \"2017-01-28\" \"2017-01-29\"\n",
            "[701] \"2017-01-30\" \"2017-01-31\" \"2017-02-01\" \"2017-02-02\" \"2017-02-03\"\n",
            "[706] \"2017-02-04\" \"2017-02-05\" \"2017-02-06\" \"2017-02-07\" \"2017-02-08\"\n",
            "[711] \"2017-02-09\" \"2017-02-10\" \"2017-02-11\" \"2017-02-12\" \"2017-02-13\"\n",
            "[716] \"2017-02-14\" \"2017-02-15\" \"2017-02-16\" \"2017-02-17\" \"2017-02-18\"\n",
            "[721] \"2017-02-19\" \"2017-02-20\" \"2017-02-21\" \"2017-02-22\" \"2017-02-23\"\n",
            "[726] \"2017-02-24\" \"2017-02-25\" \"2017-02-26\" \"2017-02-27\" \"2017-02-28\"\n",
            "[731] \"2017-03-01\" \"2017-03-02\" \"2017-03-03\" \"2017-03-04\" \"2017-03-05\"\n",
            "[736] \"2017-03-06\" \"2017-03-07\" \"2017-03-08\" \"2017-03-09\" \"2017-03-10\"\n",
            "[741] \"2017-03-11\" \"2017-03-12\" \"2017-03-13\" \"2017-03-14\" \"2017-03-15\"\n",
            "[746] \"2017-03-16\" \"2017-03-17\" \"2017-03-18\" \"2017-03-19\" \"2017-03-20\"\n",
            "[751] \"2017-03-21\" \"2017-03-22\" \"2017-03-23\" \"2017-03-24\" \"2017-03-25\"\n",
            "[756] \"2017-03-26\" \"2017-03-27\" \"2017-03-28\" \"2017-03-29\" \"2017-03-30\"\n",
            "[761] \"2017-03-31\" \"2017-04-01\" \"2017-04-02\" \"2017-04-03\" \"2017-04-04\"\n",
            "[766] \"2017-04-05\" \"2017-04-06\" \"2017-04-07\" \"2017-04-08\" \"2017-04-09\"\n",
            "[771] \"2017-04-10\" \"2017-04-11\" \"2017-04-12\" \"2017-04-13\" \"2017-04-14\"\n",
            "[776] \"2017-04-15\" \"2017-04-16\" \"2017-04-17\" \"2017-04-18\" \"2017-04-19\"\n",
            "[781] \"2017-04-20\" \"2017-04-21\" \"2017-04-22\" \"2017-04-23\" \"2017-04-24\"\n",
            "[786] \"2017-04-25\" \"2017-04-26\" \"2017-04-27\" \"2017-04-28\" \"2017-04-29\"\n",
            "[791] \"2017-04-30\" \"2017-05-01\" \"2017-05-02\" \"2017-05-03\" \"2017-05-04\"\n",
            "[796] \"2017-05-05\" \"2017-05-06\" \"2017-05-07\" \"2017-05-08\" \"2017-05-09\"\n",
            "[801] \"2017-05-10\" \"2017-05-11\" \"2017-05-12\" \"2017-05-13\" \"2017-05-14\"\n",
            "[806] \"2017-05-15\" \"2017-05-16\" \"2017-05-17\" \"2017-05-18\" \"2017-05-19\"\n",
            "[811] \"2017-05-20\" \"2017-05-21\" \"2017-05-22\" \"2017-05-23\" \"2017-05-24\"\n",
            "[816] \"2017-05-25\" \"2017-05-26\" \"2017-05-27\" \"2017-05-28\" \"2017-05-29\"\n",
            "[821] \"2017-05-30\" \"2017-05-31\" \"2017-06-01\" \"2017-06-02\" \"2017-06-03\"\n",
            "[826] \"2017-06-04\" \"2017-06-05\" \"2017-06-06\" \"2017-06-07\" \"2017-06-08\"\n",
            "[831] \"2017-06-09\" \"2017-06-10\" \"2017-06-11\" \"2017-06-12\" \"2017-06-13\"\n",
            "[836] \"2017-06-14\" \"2017-06-15\" \"2017-06-16\" \"2017-06-17\" \"2017-06-18\"\n",
            "[841] \"2017-06-19\" \"2017-06-20\" \"2017-06-21\" \"2017-06-22\" \"2017-06-23\"\n",
            "[846] \"2017-06-24\" \"2017-06-25\" \"2017-06-26\" \"2017-06-27\" \"2017-06-28\"\n",
            "[851] \"2017-06-29\" \"2017-06-30\" \"2017-07-01\" \"2017-07-02\" \"2017-07-03\"\n",
            "[856] \"2017-07-04\" \"2017-07-05\" \"2017-07-06\" \"2017-07-07\" \"2017-07-08\"\n",
            "[861] \"2017-07-09\" \"2017-07-10\" \"2017-07-11\" \"2017-07-12\" \"2017-07-13\"\n",
            "[866] \"2017-07-14\" \"2017-07-15\" \"2017-07-16\" \"2017-07-17\" \"2017-07-18\"\n",
            "[871] \"2017-07-19\" \"2017-07-20\" \"2017-07-21\" \"2017-07-22\" \"2017-07-23\"\n",
            "[876] \"2017-07-24\" \"2017-07-25\" \"2017-07-26\" \"2017-07-27\" \"2017-07-28\"\n",
            "[881] \"2017-07-29\" \"2017-07-30\" \"2017-07-31\" \"2017-08-01\" \"2017-08-02\"\n",
            "[886] \"2017-08-03\" \"2017-08-04\" \"2017-08-05\" \"2017-08-06\" \"2017-08-07\"\n",
            "[891] \"2017-08-08\" \"2017-08-09\" \"2017-08-10\" \"2017-08-11\" \"2017-08-12\"\n",
            "[896] \"2017-08-13\" \"2017-08-14\" \"2017-08-15\" \"2017-08-16\" \"2017-08-17\"\n",
            "[901] \"2017-08-18\" \"2017-08-19\" \"2017-08-20\" \"2017-08-21\" \"2017-08-22\"\n",
            "[906] \"2017-08-23\" \"2017-08-24\" \"2017-08-25\" \"2017-08-26\" \"2017-08-27\"\n",
            "[911] \"2017-08-28\" \"2017-08-29\" \"2017-08-30\" \"2017-08-31\" \"2017-09-01\"\n",
            "[916] \"2017-09-02\" \"2017-09-03\" \"2017-09-04\" \"2017-09-05\" \"2017-09-06\"\n",
            "[921] \"2017-09-07\" \"2017-09-08\" \"2017-09-09\" \"2017-09-10\" \"2017-09-12\"\n",
            "[926] \"2017-09-14\"\n",
            "[1] \"required_car_parking_spaces\"\n",
            "[1] 0 1 2 3 8\n"
          ]
        }
      ]
    },
    {
      "cell_type": "markdown",
      "metadata": {
        "id": "AqZRPU5dmlCd"
      },
      "source": [
        "#Limpiar valores nulos"
      ]
    },
    {
      "cell_type": "code",
      "execution_count": 609,
      "metadata": {
        "id": "4nebkTKgcKAl"
      },
      "outputs": [],
      "source": [
        "#Procesos de limpieza de valores nulos\n",
        "\n",
        "Mode = function(x) {\n",
        "    x = na.omit(x)\n",
        "    ux <- unique(x)\n",
        "    return (ux[which.max(tabulate(match(x, ux)))])\n",
        "}\n",
        "\n",
        "ReplaceWithMedian = function(df, column){\n",
        "    if (is.numeric(df[[column]]) || is.logical(df[[column]])) {\n",
        "        df[[column]][is.na(df[[column]])] <- median(df[[column]], na.rm=TRUE)\n",
        "    }\n",
        "    else{\n",
        "        df[[column]][is.na(df[[column]])] = Mode(df[[column]])\n",
        "    }\n",
        "    return(df)\n",
        "}\n",
        "\n",
        "ReplaceWithMedianColumns = function (df, columns){\n",
        "    for(i in 1:length(columns)){\n",
        "        df = ReplaceWithMedian(df, columns[i])\n",
        "    }\n",
        "    return(df)\n",
        "}"
      ]
    },
    {
      "cell_type": "code",
      "execution_count": 610,
      "metadata": {
        "id": "-kF8lCNTcqaH"
      },
      "outputs": [],
      "source": [
        "hotel_csv = ReplaceWithMedianColumns(hotel_csv, names(hotel_csv))"
      ]
    },
    {
      "cell_type": "code",
      "execution_count": 611,
      "metadata": {
        "id": "HLxxxZdGdTE4",
        "colab": {
          "base_uri": "https://localhost:8080/",
          "height": 0
        },
        "outputId": "0c37c0ad-8f95-45ce-b2eb-42b06dd23b83"
      },
      "outputs": [
        {
          "output_type": "display_data",
          "data": {
            "text/html": [
              "<table class=\"dataframe\">\n",
              "<caption>A data.frame: 15 × 2</caption>\n",
              "<thead>\n",
              "\t<tr><th></th><th scope=col>ColumnName</th><th scope=col>Count</th></tr>\n",
              "\t<tr><th></th><th scope=col>&lt;chr&gt;</th><th scope=col>&lt;int&gt;</th></tr>\n",
              "</thead>\n",
              "<tbody>\n",
              "\t<tr><th scope=row>1</th><td>hotel                      </td><td>0</td></tr>\n",
              "\t<tr><th scope=row>2</th><td>is_canceled                </td><td>0</td></tr>\n",
              "\t<tr><th scope=row>3</th><td>adr                        </td><td>0</td></tr>\n",
              "\t<tr><th scope=row>4</th><td>adults                     </td><td>0</td></tr>\n",
              "\t<tr><th scope=row>5</th><td>children                   </td><td>0</td></tr>\n",
              "\t<tr><th scope=row>6</th><td>babies                     </td><td>0</td></tr>\n",
              "\t<tr><th scope=row>7</th><td>arrival_date_month         </td><td>0</td></tr>\n",
              "\t<tr><th scope=row>8</th><td>arrival_date_week_number   </td><td>0</td></tr>\n",
              "\t<tr><th scope=row>9</th><td>arrival_date_year          </td><td>0</td></tr>\n",
              "\t<tr><th scope=row>10</th><td>country                    </td><td>0</td></tr>\n",
              "\t<tr><th scope=row>11</th><td>stays_in_weekend_nights    </td><td>0</td></tr>\n",
              "\t<tr><th scope=row>12</th><td>stays_in_week_nights       </td><td>0</td></tr>\n",
              "\t<tr><th scope=row>13</th><td>market_segment             </td><td>0</td></tr>\n",
              "\t<tr><th scope=row>14</th><td>reservation_status_date    </td><td>0</td></tr>\n",
              "\t<tr><th scope=row>15</th><td>required_car_parking_spaces</td><td>0</td></tr>\n",
              "</tbody>\n",
              "</table>\n"
            ],
            "text/markdown": "\nA data.frame: 15 × 2\n\n| <!--/--> | ColumnName &lt;chr&gt; | Count &lt;int&gt; |\n|---|---|---|\n| 1 | hotel                       | 0 |\n| 2 | is_canceled                 | 0 |\n| 3 | adr                         | 0 |\n| 4 | adults                      | 0 |\n| 5 | children                    | 0 |\n| 6 | babies                      | 0 |\n| 7 | arrival_date_month          | 0 |\n| 8 | arrival_date_week_number    | 0 |\n| 9 | arrival_date_year           | 0 |\n| 10 | country                     | 0 |\n| 11 | stays_in_weekend_nights     | 0 |\n| 12 | stays_in_week_nights        | 0 |\n| 13 | market_segment              | 0 |\n| 14 | reservation_status_date     | 0 |\n| 15 | required_car_parking_spaces | 0 |\n\n",
            "text/latex": "A data.frame: 15 × 2\n\\begin{tabular}{r|ll}\n  & ColumnName & Count\\\\\n  & <chr> & <int>\\\\\n\\hline\n\t1 & hotel                       & 0\\\\\n\t2 & is\\_canceled                 & 0\\\\\n\t3 & adr                         & 0\\\\\n\t4 & adults                      & 0\\\\\n\t5 & children                    & 0\\\\\n\t6 & babies                      & 0\\\\\n\t7 & arrival\\_date\\_month          & 0\\\\\n\t8 & arrival\\_date\\_week\\_number    & 0\\\\\n\t9 & arrival\\_date\\_year           & 0\\\\\n\t10 & country                     & 0\\\\\n\t11 & stays\\_in\\_weekend\\_nights     & 0\\\\\n\t12 & stays\\_in\\_week\\_nights        & 0\\\\\n\t13 & market\\_segment              & 0\\\\\n\t14 & reservation\\_status\\_date     & 0\\\\\n\t15 & required\\_car\\_parking\\_spaces & 0\\\\\n\\end{tabular}\n",
            "text/plain": [
              "   ColumnName                  Count\n",
              "1  hotel                       0    \n",
              "2  is_canceled                 0    \n",
              "3  adr                         0    \n",
              "4  adults                      0    \n",
              "5  children                    0    \n",
              "6  babies                      0    \n",
              "7  arrival_date_month          0    \n",
              "8  arrival_date_week_number    0    \n",
              "9  arrival_date_year           0    \n",
              "10 country                     0    \n",
              "11 stays_in_weekend_nights     0    \n",
              "12 stays_in_week_nights        0    \n",
              "13 market_segment              0    \n",
              "14 reservation_status_date     0    \n",
              "15 required_car_parking_spaces 0    "
            ]
          },
          "metadata": {}
        }
      ],
      "source": [
        "checkNaPerColumn(hotel_csv)"
      ]
    },
    {
      "cell_type": "code",
      "source": [
        "str(hotel_csv)"
      ],
      "metadata": {
        "colab": {
          "base_uri": "https://localhost:8080/"
        },
        "id": "ybwQAtr1K69a",
        "outputId": "144de493-02ca-4d79-ca73-31844a65f4a2"
      },
      "execution_count": 612,
      "outputs": [
        {
          "output_type": "stream",
          "name": "stdout",
          "text": [
            "'data.frame':\t119390 obs. of  15 variables:\n",
            " $ hotel                      : Factor w/ 2 levels \"City Hotel\",\"Resort Hotel\": 2 2 2 2 2 2 2 2 2 2 ...\n",
            " $ is_canceled                : num  0 0 0 0 0 0 0 0 1 1 ...\n",
            " $ adr                        : num  0 0 75 75 98 ...\n",
            " $ adults                     : num  2 2 1 1 2 2 2 2 2 2 ...\n",
            " $ children                   : num  0 0 0 0 0 0 0 0 0 0 ...\n",
            " $ babies                     : num  0 0 0 0 0 0 0 0 0 0 ...\n",
            " $ arrival_date_month         : Factor w/ 12 levels \"April\",\"August\",..: 6 6 6 6 6 6 6 6 6 6 ...\n",
            " $ arrival_date_week_number   : Factor w/ 53 levels \"1\",\"2\",\"3\",\"4\",..: 27 27 27 27 27 27 27 27 27 27 ...\n",
            " $ arrival_date_year          : num  2015 2015 2015 2015 2015 ...\n",
            " $ country                    : Factor w/ 177 levels \"ABW\",\"AGO\",\"AIA\",..: 136 136 60 60 60 60 136 136 136 136 ...\n",
            " $ stays_in_weekend_nights    : num  0 0 0 0 0 0 0 0 0 0 ...\n",
            " $ stays_in_week_nights       : num  0 0 1 1 2 2 2 2 3 3 ...\n",
            " $ market_segment             : Factor w/ 8 levels \"Aviation\",\"Complementary\",..: 4 4 4 3 7 7 4 4 7 6 ...\n",
            " $ reservation_status_date    : Date, format: \"2015-07-01\" \"2015-07-01\" ...\n",
            " $ required_car_parking_spaces: num  0 0 0 0 0 0 0 0 0 0 ...\n"
          ]
        }
      ]
    },
    {
      "cell_type": "code",
      "execution_count": 613,
      "metadata": {
        "id": "-fw2eN0vAoBn"
      },
      "outputs": [],
      "source": [
        "hotel_csv$hotel = as.factor(hotel_csv$hotel)\n",
        "hotel_csv$is_canceled = as.logical(hotel_csv$is_canceled)\n",
        "hotel_csv$adults = as.integer(hotel_csv$adults)\n",
        "hotel_csv$children = as.integer(hotel_csv$children)\n",
        "hotel_csv$babies = as.integer(hotel_csv$babies)\n",
        "hotel_csv$arrival_date_month = as.factor(hotel_csv$arrival_date_month)\n",
        "hotel_csv$arrival_date_year = as.integer(hotel_csv$arrival_date_year)\n",
        "hotel_csv$country = as.factor(hotel_csv$country)\n",
        "hotel_csv$stays_in_weekend_nights = as.integer(hotel_csv$stays_in_weekend_nights)\n",
        "hotel_csv$market_segment = as.factor(hotel_csv$market_segment)\n",
        "hotel_csv$reservation_status_date = as.Date(hotel_csv$reservation_status_date)\n",
        "hotel_csv$required_car_parking_spaces = as.integer(hotel_csv$required_car_parking_spaces)"
      ]
    },
    {
      "cell_type": "code",
      "execution_count": 614,
      "metadata": {
        "id": "d1kdSTmCkeO1",
        "colab": {
          "base_uri": "https://localhost:8080/"
        },
        "outputId": "78eddc81-18b0-42f9-e3e2-875e1e0baa03"
      },
      "outputs": [
        {
          "output_type": "stream",
          "name": "stdout",
          "text": [
            "'data.frame':\t119390 obs. of  15 variables:\n",
            " $ hotel                      : Factor w/ 2 levels \"City Hotel\",\"Resort Hotel\": 2 2 2 2 2 2 2 2 2 2 ...\n",
            " $ is_canceled                : logi  FALSE FALSE FALSE FALSE FALSE FALSE ...\n",
            " $ adr                        : num  0 0 75 75 98 ...\n",
            " $ adults                     : int  2 2 1 1 2 2 2 2 2 2 ...\n",
            " $ children                   : int  0 0 0 0 0 0 0 0 0 0 ...\n",
            " $ babies                     : int  0 0 0 0 0 0 0 0 0 0 ...\n",
            " $ arrival_date_month         : Factor w/ 12 levels \"April\",\"August\",..: 6 6 6 6 6 6 6 6 6 6 ...\n",
            " $ arrival_date_week_number   : Factor w/ 53 levels \"1\",\"2\",\"3\",\"4\",..: 27 27 27 27 27 27 27 27 27 27 ...\n",
            " $ arrival_date_year          : int  2015 2015 2015 2015 2015 2015 2015 2015 2015 2015 ...\n",
            " $ country                    : Factor w/ 177 levels \"ABW\",\"AGO\",\"AIA\",..: 136 136 60 60 60 60 136 136 136 136 ...\n",
            " $ stays_in_weekend_nights    : int  0 0 0 0 0 0 0 0 0 0 ...\n",
            " $ stays_in_week_nights       : num  0 0 1 1 2 2 2 2 3 3 ...\n",
            " $ market_segment             : Factor w/ 8 levels \"Aviation\",\"Complementary\",..: 4 4 4 3 7 7 4 4 7 6 ...\n",
            " $ reservation_status_date    : Date, format: \"2015-07-01\" \"2015-07-01\" ...\n",
            " $ required_car_parking_spaces: int  0 0 0 0 0 0 0 0 0 0 ...\n"
          ]
        }
      ],
      "source": [
        "str(hotel_csv)"
      ]
    },
    {
      "cell_type": "markdown",
      "source": [
        "#Correccion de la Data"
      ],
      "metadata": {
        "id": "chpLkBLavKVv"
      }
    },
    {
      "cell_type": "code",
      "source": [
        "unique(countrycode(hotel_csv$country, \"iso3c\",\"country.name\"))"
      ],
      "metadata": {
        "colab": {
          "base_uri": "https://localhost:8080/",
          "height": 0
        },
        "id": "X5IBXNk3EAfp",
        "outputId": "af32ed2d-d405-43f2-812a-e2ef0e63e01c"
      },
      "execution_count": 615,
      "outputs": [
        {
          "output_type": "stream",
          "name": "stderr",
          "text": [
            "Warning message:\n",
            "“Some values were not matched unambiguously: CN, TMP\n",
            "”\n"
          ]
        },
        {
          "output_type": "display_data",
          "data": {
            "text/html": [
              "<style>\n",
              ".list-inline {list-style: none; margin:0; padding: 0}\n",
              ".list-inline>li {display: inline-block}\n",
              ".list-inline>li:not(:last-child)::after {content: \"\\00b7\"; padding: 0 .5ex}\n",
              "</style>\n",
              "<ol class=list-inline><li>'Portugal'</li><li>'United Kingdom'</li><li>'United States'</li><li>'Spain'</li><li>'Ireland'</li><li>'France'</li><li>'Romania'</li><li>'Norway'</li><li>'Oman'</li><li>'Argentina'</li><li>'Poland'</li><li>'Germany'</li><li>'Belgium'</li><li>'Switzerland'</li><li>NA</li><li>'Greece'</li><li>'Italy'</li><li>'Netherlands'</li><li>'Denmark'</li><li>'Russia'</li><li>'Sweden'</li><li>'Australia'</li><li>'Estonia'</li><li>'Czechia'</li><li>'Brazil'</li><li>'Finland'</li><li>'Mozambique'</li><li>'Botswana'</li><li>'Luxembourg'</li><li>'Slovenia'</li><li>'Albania'</li><li>'India'</li><li>'China'</li><li>'Mexico'</li><li>'Morocco'</li><li>'Ukraine'</li><li>'San Marino'</li><li>'Latvia'</li><li>'Puerto Rico'</li><li>'Serbia'</li><li>'Chile'</li><li>'Austria'</li><li>'Belarus'</li><li>'Lithuania'</li><li>'Turkey'</li><li>'South Africa'</li><li>'Angola'</li><li>'Israel'</li><li>'Cayman Islands'</li><li>'Zambia'</li><li>'Cape Verde'</li><li>'Zimbabwe'</li><li>'Algeria'</li><li>'South Korea'</li><li>'Costa Rica'</li><li>'Hungary'</li><li>'United Arab Emirates'</li><li>'Tunisia'</li><li>'Jamaica'</li><li>'Croatia'</li><li>'Hong Kong SAR China'</li><li>'Iran'</li><li>'Georgia'</li><li>'Andorra'</li><li>'Gibraltar'</li><li>'Uruguay'</li><li>'Jersey'</li><li>'Central African Republic'</li><li>'Cyprus'</li><li>'Colombia'</li><li>'Guernsey'</li><li>'Kuwait'</li><li>'Nigeria'</li><li>'Maldives'</li><li>'Venezuela'</li><li>'Slovakia'</li><li>'Fiji'</li><li>'Kazakhstan'</li><li>'Pakistan'</li><li>'Indonesia'</li><li>'Lebanon'</li><li>'Philippines'</li><li>'Senegal'</li><li>'Seychelles'</li><li>'Azerbaijan'</li><li>'Bahrain'</li><li>'New Zealand'</li><li>'Thailand'</li><li>'Dominican Republic'</li><li>'North Macedonia'</li><li>'Malaysia'</li><li>'Armenia'</li><li>'Japan'</li><li>'Sri Lanka'</li><li>'Cuba'</li><li>'Cameroon'</li><li>'Bosnia &amp; Herzegovina'</li><li>'Mauritius'</li><li>'Comoros'</li><li>'Suriname'</li><li>'Uganda'</li><li>'Bulgaria'</li><li>'Côte d’Ivoire'</li><li>'Jordan'</li><li>'Syria'</li><li>'Singapore'</li><li>'Burundi'</li><li>'Saudi Arabia'</li><li>'Vietnam'</li><li>'Palau'</li><li>'Qatar'</li><li>'Egypt'</li><li>'Peru'</li><li>'Malta'</li><li>'Malawi'</li><li>'Ecuador'</li><li>'Madagascar'</li><li>'Iceland'</li><li>'Uzbekistan'</li><li>'Nepal'</li><li>'Bahamas'</li><li>'Macao SAR China'</li><li>'Togo'</li><li>'Taiwan'</li><li>'Djibouti'</li><li>'São Tomé &amp; Príncipe'</li><li>'St. Kitts &amp; Nevis'</li><li>'Ethiopia'</li><li>'Iraq'</li><li>'Honduras'</li><li>'Rwanda'</li><li>'Cambodia'</li><li>'Monaco'</li><li>'Bangladesh'</li><li>'Isle of Man'</li><li>'Tajikistan'</li><li>'Nicaragua'</li><li>'Benin'</li><li>'British Virgin Islands'</li><li>'Tanzania'</li><li>'Gabon'</li><li>'Ghana'</li><li>'Guadeloupe'</li><li>'Kenya'</li><li>'Liechtenstein'</li><li>'Guinea-Bissau'</li><li>'Montenegro'</li><li>'United States Minor Outlying Islands (the)'</li><li>'Mayotte'</li><li>'Faroe Islands'</li><li>'Myanmar (Burma)'</li><li>'Panama'</li><li>'Burkina Faso'</li><li>'Libya'</li><li>'Mali'</li><li>'Namibia'</li><li>'Bolivia'</li><li>'Paraguay'</li><li>'Barbados'</li><li>'Aruba'</li><li>'Anguilla'</li><li>'El Salvador'</li><li>'Dominica'</li><li>'French Polynesia'</li><li>'Guyana'</li><li>'St. Lucia'</li><li>'Antarctica'</li><li>'Guatemala'</li><li>'American Samoa'</li><li>'Mauritania'</li><li>'New Caledonia'</li><li>'Kiribati'</li><li>'Sudan'</li><li>'French Southern Territories'</li><li>'Sierra Leone'</li><li>'Laos'</li></ol>\n"
            ],
            "text/markdown": "1. 'Portugal'\n2. 'United Kingdom'\n3. 'United States'\n4. 'Spain'\n5. 'Ireland'\n6. 'France'\n7. 'Romania'\n8. 'Norway'\n9. 'Oman'\n10. 'Argentina'\n11. 'Poland'\n12. 'Germany'\n13. 'Belgium'\n14. 'Switzerland'\n15. NA\n16. 'Greece'\n17. 'Italy'\n18. 'Netherlands'\n19. 'Denmark'\n20. 'Russia'\n21. 'Sweden'\n22. 'Australia'\n23. 'Estonia'\n24. 'Czechia'\n25. 'Brazil'\n26. 'Finland'\n27. 'Mozambique'\n28. 'Botswana'\n29. 'Luxembourg'\n30. 'Slovenia'\n31. 'Albania'\n32. 'India'\n33. 'China'\n34. 'Mexico'\n35. 'Morocco'\n36. 'Ukraine'\n37. 'San Marino'\n38. 'Latvia'\n39. 'Puerto Rico'\n40. 'Serbia'\n41. 'Chile'\n42. 'Austria'\n43. 'Belarus'\n44. 'Lithuania'\n45. 'Turkey'\n46. 'South Africa'\n47. 'Angola'\n48. 'Israel'\n49. 'Cayman Islands'\n50. 'Zambia'\n51. 'Cape Verde'\n52. 'Zimbabwe'\n53. 'Algeria'\n54. 'South Korea'\n55. 'Costa Rica'\n56. 'Hungary'\n57. 'United Arab Emirates'\n58. 'Tunisia'\n59. 'Jamaica'\n60. 'Croatia'\n61. 'Hong Kong SAR China'\n62. 'Iran'\n63. 'Georgia'\n64. 'Andorra'\n65. 'Gibraltar'\n66. 'Uruguay'\n67. 'Jersey'\n68. 'Central African Republic'\n69. 'Cyprus'\n70. 'Colombia'\n71. 'Guernsey'\n72. 'Kuwait'\n73. 'Nigeria'\n74. 'Maldives'\n75. 'Venezuela'\n76. 'Slovakia'\n77. 'Fiji'\n78. 'Kazakhstan'\n79. 'Pakistan'\n80. 'Indonesia'\n81. 'Lebanon'\n82. 'Philippines'\n83. 'Senegal'\n84. 'Seychelles'\n85. 'Azerbaijan'\n86. 'Bahrain'\n87. 'New Zealand'\n88. 'Thailand'\n89. 'Dominican Republic'\n90. 'North Macedonia'\n91. 'Malaysia'\n92. 'Armenia'\n93. 'Japan'\n94. 'Sri Lanka'\n95. 'Cuba'\n96. 'Cameroon'\n97. 'Bosnia &amp; Herzegovina'\n98. 'Mauritius'\n99. 'Comoros'\n100. 'Suriname'\n101. 'Uganda'\n102. 'Bulgaria'\n103. 'Côte d’Ivoire'\n104. 'Jordan'\n105. 'Syria'\n106. 'Singapore'\n107. 'Burundi'\n108. 'Saudi Arabia'\n109. 'Vietnam'\n110. 'Palau'\n111. 'Qatar'\n112. 'Egypt'\n113. 'Peru'\n114. 'Malta'\n115. 'Malawi'\n116. 'Ecuador'\n117. 'Madagascar'\n118. 'Iceland'\n119. 'Uzbekistan'\n120. 'Nepal'\n121. 'Bahamas'\n122. 'Macao SAR China'\n123. 'Togo'\n124. 'Taiwan'\n125. 'Djibouti'\n126. 'São Tomé &amp; Príncipe'\n127. 'St. Kitts &amp; Nevis'\n128. 'Ethiopia'\n129. 'Iraq'\n130. 'Honduras'\n131. 'Rwanda'\n132. 'Cambodia'\n133. 'Monaco'\n134. 'Bangladesh'\n135. 'Isle of Man'\n136. 'Tajikistan'\n137. 'Nicaragua'\n138. 'Benin'\n139. 'British Virgin Islands'\n140. 'Tanzania'\n141. 'Gabon'\n142. 'Ghana'\n143. 'Guadeloupe'\n144. 'Kenya'\n145. 'Liechtenstein'\n146. 'Guinea-Bissau'\n147. 'Montenegro'\n148. 'United States Minor Outlying Islands (the)'\n149. 'Mayotte'\n150. 'Faroe Islands'\n151. 'Myanmar (Burma)'\n152. 'Panama'\n153. 'Burkina Faso'\n154. 'Libya'\n155. 'Mali'\n156. 'Namibia'\n157. 'Bolivia'\n158. 'Paraguay'\n159. 'Barbados'\n160. 'Aruba'\n161. 'Anguilla'\n162. 'El Salvador'\n163. 'Dominica'\n164. 'French Polynesia'\n165. 'Guyana'\n166. 'St. Lucia'\n167. 'Antarctica'\n168. 'Guatemala'\n169. 'American Samoa'\n170. 'Mauritania'\n171. 'New Caledonia'\n172. 'Kiribati'\n173. 'Sudan'\n174. 'French Southern Territories'\n175. 'Sierra Leone'\n176. 'Laos'\n\n\n",
            "text/latex": "\\begin{enumerate*}\n\\item 'Portugal'\n\\item 'United Kingdom'\n\\item 'United States'\n\\item 'Spain'\n\\item 'Ireland'\n\\item 'France'\n\\item 'Romania'\n\\item 'Norway'\n\\item 'Oman'\n\\item 'Argentina'\n\\item 'Poland'\n\\item 'Germany'\n\\item 'Belgium'\n\\item 'Switzerland'\n\\item NA\n\\item 'Greece'\n\\item 'Italy'\n\\item 'Netherlands'\n\\item 'Denmark'\n\\item 'Russia'\n\\item 'Sweden'\n\\item 'Australia'\n\\item 'Estonia'\n\\item 'Czechia'\n\\item 'Brazil'\n\\item 'Finland'\n\\item 'Mozambique'\n\\item 'Botswana'\n\\item 'Luxembourg'\n\\item 'Slovenia'\n\\item 'Albania'\n\\item 'India'\n\\item 'China'\n\\item 'Mexico'\n\\item 'Morocco'\n\\item 'Ukraine'\n\\item 'San Marino'\n\\item 'Latvia'\n\\item 'Puerto Rico'\n\\item 'Serbia'\n\\item 'Chile'\n\\item 'Austria'\n\\item 'Belarus'\n\\item 'Lithuania'\n\\item 'Turkey'\n\\item 'South Africa'\n\\item 'Angola'\n\\item 'Israel'\n\\item 'Cayman Islands'\n\\item 'Zambia'\n\\item 'Cape Verde'\n\\item 'Zimbabwe'\n\\item 'Algeria'\n\\item 'South Korea'\n\\item 'Costa Rica'\n\\item 'Hungary'\n\\item 'United Arab Emirates'\n\\item 'Tunisia'\n\\item 'Jamaica'\n\\item 'Croatia'\n\\item 'Hong Kong SAR China'\n\\item 'Iran'\n\\item 'Georgia'\n\\item 'Andorra'\n\\item 'Gibraltar'\n\\item 'Uruguay'\n\\item 'Jersey'\n\\item 'Central African Republic'\n\\item 'Cyprus'\n\\item 'Colombia'\n\\item 'Guernsey'\n\\item 'Kuwait'\n\\item 'Nigeria'\n\\item 'Maldives'\n\\item 'Venezuela'\n\\item 'Slovakia'\n\\item 'Fiji'\n\\item 'Kazakhstan'\n\\item 'Pakistan'\n\\item 'Indonesia'\n\\item 'Lebanon'\n\\item 'Philippines'\n\\item 'Senegal'\n\\item 'Seychelles'\n\\item 'Azerbaijan'\n\\item 'Bahrain'\n\\item 'New Zealand'\n\\item 'Thailand'\n\\item 'Dominican Republic'\n\\item 'North Macedonia'\n\\item 'Malaysia'\n\\item 'Armenia'\n\\item 'Japan'\n\\item 'Sri Lanka'\n\\item 'Cuba'\n\\item 'Cameroon'\n\\item 'Bosnia \\& Herzegovina'\n\\item 'Mauritius'\n\\item 'Comoros'\n\\item 'Suriname'\n\\item 'Uganda'\n\\item 'Bulgaria'\n\\item 'Côte d’Ivoire'\n\\item 'Jordan'\n\\item 'Syria'\n\\item 'Singapore'\n\\item 'Burundi'\n\\item 'Saudi Arabia'\n\\item 'Vietnam'\n\\item 'Palau'\n\\item 'Qatar'\n\\item 'Egypt'\n\\item 'Peru'\n\\item 'Malta'\n\\item 'Malawi'\n\\item 'Ecuador'\n\\item 'Madagascar'\n\\item 'Iceland'\n\\item 'Uzbekistan'\n\\item 'Nepal'\n\\item 'Bahamas'\n\\item 'Macao SAR China'\n\\item 'Togo'\n\\item 'Taiwan'\n\\item 'Djibouti'\n\\item 'São Tomé \\& Príncipe'\n\\item 'St. Kitts \\& Nevis'\n\\item 'Ethiopia'\n\\item 'Iraq'\n\\item 'Honduras'\n\\item 'Rwanda'\n\\item 'Cambodia'\n\\item 'Monaco'\n\\item 'Bangladesh'\n\\item 'Isle of Man'\n\\item 'Tajikistan'\n\\item 'Nicaragua'\n\\item 'Benin'\n\\item 'British Virgin Islands'\n\\item 'Tanzania'\n\\item 'Gabon'\n\\item 'Ghana'\n\\item 'Guadeloupe'\n\\item 'Kenya'\n\\item 'Liechtenstein'\n\\item 'Guinea-Bissau'\n\\item 'Montenegro'\n\\item 'United States Minor Outlying Islands (the)'\n\\item 'Mayotte'\n\\item 'Faroe Islands'\n\\item 'Myanmar (Burma)'\n\\item 'Panama'\n\\item 'Burkina Faso'\n\\item 'Libya'\n\\item 'Mali'\n\\item 'Namibia'\n\\item 'Bolivia'\n\\item 'Paraguay'\n\\item 'Barbados'\n\\item 'Aruba'\n\\item 'Anguilla'\n\\item 'El Salvador'\n\\item 'Dominica'\n\\item 'French Polynesia'\n\\item 'Guyana'\n\\item 'St. Lucia'\n\\item 'Antarctica'\n\\item 'Guatemala'\n\\item 'American Samoa'\n\\item 'Mauritania'\n\\item 'New Caledonia'\n\\item 'Kiribati'\n\\item 'Sudan'\n\\item 'French Southern Territories'\n\\item 'Sierra Leone'\n\\item 'Laos'\n\\end{enumerate*}\n",
            "text/plain": [
              "  [1] \"Portugal\"                                  \n",
              "  [2] \"United Kingdom\"                            \n",
              "  [3] \"United States\"                             \n",
              "  [4] \"Spain\"                                     \n",
              "  [5] \"Ireland\"                                   \n",
              "  [6] \"France\"                                    \n",
              "  [7] \"Romania\"                                   \n",
              "  [8] \"Norway\"                                    \n",
              "  [9] \"Oman\"                                      \n",
              " [10] \"Argentina\"                                 \n",
              " [11] \"Poland\"                                    \n",
              " [12] \"Germany\"                                   \n",
              " [13] \"Belgium\"                                   \n",
              " [14] \"Switzerland\"                               \n",
              " [15] NA                                          \n",
              " [16] \"Greece\"                                    \n",
              " [17] \"Italy\"                                     \n",
              " [18] \"Netherlands\"                               \n",
              " [19] \"Denmark\"                                   \n",
              " [20] \"Russia\"                                    \n",
              " [21] \"Sweden\"                                    \n",
              " [22] \"Australia\"                                 \n",
              " [23] \"Estonia\"                                   \n",
              " [24] \"Czechia\"                                   \n",
              " [25] \"Brazil\"                                    \n",
              " [26] \"Finland\"                                   \n",
              " [27] \"Mozambique\"                                \n",
              " [28] \"Botswana\"                                  \n",
              " [29] \"Luxembourg\"                                \n",
              " [30] \"Slovenia\"                                  \n",
              " [31] \"Albania\"                                   \n",
              " [32] \"India\"                                     \n",
              " [33] \"China\"                                     \n",
              " [34] \"Mexico\"                                    \n",
              " [35] \"Morocco\"                                   \n",
              " [36] \"Ukraine\"                                   \n",
              " [37] \"San Marino\"                                \n",
              " [38] \"Latvia\"                                    \n",
              " [39] \"Puerto Rico\"                               \n",
              " [40] \"Serbia\"                                    \n",
              " [41] \"Chile\"                                     \n",
              " [42] \"Austria\"                                   \n",
              " [43] \"Belarus\"                                   \n",
              " [44] \"Lithuania\"                                 \n",
              " [45] \"Turkey\"                                    \n",
              " [46] \"South Africa\"                              \n",
              " [47] \"Angola\"                                    \n",
              " [48] \"Israel\"                                    \n",
              " [49] \"Cayman Islands\"                            \n",
              " [50] \"Zambia\"                                    \n",
              " [51] \"Cape Verde\"                                \n",
              " [52] \"Zimbabwe\"                                  \n",
              " [53] \"Algeria\"                                   \n",
              " [54] \"South Korea\"                               \n",
              " [55] \"Costa Rica\"                                \n",
              " [56] \"Hungary\"                                   \n",
              " [57] \"United Arab Emirates\"                      \n",
              " [58] \"Tunisia\"                                   \n",
              " [59] \"Jamaica\"                                   \n",
              " [60] \"Croatia\"                                   \n",
              " [61] \"Hong Kong SAR China\"                       \n",
              " [62] \"Iran\"                                      \n",
              " [63] \"Georgia\"                                   \n",
              " [64] \"Andorra\"                                   \n",
              " [65] \"Gibraltar\"                                 \n",
              " [66] \"Uruguay\"                                   \n",
              " [67] \"Jersey\"                                    \n",
              " [68] \"Central African Republic\"                  \n",
              " [69] \"Cyprus\"                                    \n",
              " [70] \"Colombia\"                                  \n",
              " [71] \"Guernsey\"                                  \n",
              " [72] \"Kuwait\"                                    \n",
              " [73] \"Nigeria\"                                   \n",
              " [74] \"Maldives\"                                  \n",
              " [75] \"Venezuela\"                                 \n",
              " [76] \"Slovakia\"                                  \n",
              " [77] \"Fiji\"                                      \n",
              " [78] \"Kazakhstan\"                                \n",
              " [79] \"Pakistan\"                                  \n",
              " [80] \"Indonesia\"                                 \n",
              " [81] \"Lebanon\"                                   \n",
              " [82] \"Philippines\"                               \n",
              " [83] \"Senegal\"                                   \n",
              " [84] \"Seychelles\"                                \n",
              " [85] \"Azerbaijan\"                                \n",
              " [86] \"Bahrain\"                                   \n",
              " [87] \"New Zealand\"                               \n",
              " [88] \"Thailand\"                                  \n",
              " [89] \"Dominican Republic\"                        \n",
              " [90] \"North Macedonia\"                           \n",
              " [91] \"Malaysia\"                                  \n",
              " [92] \"Armenia\"                                   \n",
              " [93] \"Japan\"                                     \n",
              " [94] \"Sri Lanka\"                                 \n",
              " [95] \"Cuba\"                                      \n",
              " [96] \"Cameroon\"                                  \n",
              " [97] \"Bosnia & Herzegovina\"                      \n",
              " [98] \"Mauritius\"                                 \n",
              " [99] \"Comoros\"                                   \n",
              "[100] \"Suriname\"                                  \n",
              "[101] \"Uganda\"                                    \n",
              "[102] \"Bulgaria\"                                  \n",
              "[103] \"Côte d’Ivoire\"                             \n",
              "[104] \"Jordan\"                                    \n",
              "[105] \"Syria\"                                     \n",
              "[106] \"Singapore\"                                 \n",
              "[107] \"Burundi\"                                   \n",
              "[108] \"Saudi Arabia\"                              \n",
              "[109] \"Vietnam\"                                   \n",
              "[110] \"Palau\"                                     \n",
              "[111] \"Qatar\"                                     \n",
              "[112] \"Egypt\"                                     \n",
              "[113] \"Peru\"                                      \n",
              "[114] \"Malta\"                                     \n",
              "[115] \"Malawi\"                                    \n",
              "[116] \"Ecuador\"                                   \n",
              "[117] \"Madagascar\"                                \n",
              "[118] \"Iceland\"                                   \n",
              "[119] \"Uzbekistan\"                                \n",
              "[120] \"Nepal\"                                     \n",
              "[121] \"Bahamas\"                                   \n",
              "[122] \"Macao SAR China\"                           \n",
              "[123] \"Togo\"                                      \n",
              "[124] \"Taiwan\"                                    \n",
              "[125] \"Djibouti\"                                  \n",
              "[126] \"São Tomé & Príncipe\"                       \n",
              "[127] \"St. Kitts & Nevis\"                         \n",
              "[128] \"Ethiopia\"                                  \n",
              "[129] \"Iraq\"                                      \n",
              "[130] \"Honduras\"                                  \n",
              "[131] \"Rwanda\"                                    \n",
              "[132] \"Cambodia\"                                  \n",
              "[133] \"Monaco\"                                    \n",
              "[134] \"Bangladesh\"                                \n",
              "[135] \"Isle of Man\"                               \n",
              "[136] \"Tajikistan\"                                \n",
              "[137] \"Nicaragua\"                                 \n",
              "[138] \"Benin\"                                     \n",
              "[139] \"British Virgin Islands\"                    \n",
              "[140] \"Tanzania\"                                  \n",
              "[141] \"Gabon\"                                     \n",
              "[142] \"Ghana\"                                     \n",
              "[143] \"Guadeloupe\"                                \n",
              "[144] \"Kenya\"                                     \n",
              "[145] \"Liechtenstein\"                             \n",
              "[146] \"Guinea-Bissau\"                             \n",
              "[147] \"Montenegro\"                                \n",
              "[148] \"United States Minor Outlying Islands (the)\"\n",
              "[149] \"Mayotte\"                                   \n",
              "[150] \"Faroe Islands\"                             \n",
              "[151] \"Myanmar (Burma)\"                           \n",
              "[152] \"Panama\"                                    \n",
              "[153] \"Burkina Faso\"                              \n",
              "[154] \"Libya\"                                     \n",
              "[155] \"Mali\"                                      \n",
              "[156] \"Namibia\"                                   \n",
              "[157] \"Bolivia\"                                   \n",
              "[158] \"Paraguay\"                                  \n",
              "[159] \"Barbados\"                                  \n",
              "[160] \"Aruba\"                                     \n",
              "[161] \"Anguilla\"                                  \n",
              "[162] \"El Salvador\"                               \n",
              "[163] \"Dominica\"                                  \n",
              "[164] \"French Polynesia\"                          \n",
              "[165] \"Guyana\"                                    \n",
              "[166] \"St. Lucia\"                                 \n",
              "[167] \"Antarctica\"                                \n",
              "[168] \"Guatemala\"                                 \n",
              "[169] \"American Samoa\"                            \n",
              "[170] \"Mauritania\"                                \n",
              "[171] \"New Caledonia\"                             \n",
              "[172] \"Kiribati\"                                  \n",
              "[173] \"Sudan\"                                     \n",
              "[174] \"French Southern Territories\"               \n",
              "[175] \"Sierra Leone\"                              \n",
              "[176] \"Laos\"                                      "
            ]
          },
          "metadata": {}
        }
      ]
    },
    {
      "cell_type": "code",
      "source": [
        "bad_countries = nrow(hotel_csv%>%filter(country == \"CN\" | country==\"TMP\"))"
      ],
      "metadata": {
        "id": "uUBzFPm6EWU4"
      },
      "execution_count": 616,
      "outputs": []
    },
    {
      "cell_type": "code",
      "source": [
        "count_bad_data = count_bad_data + bad_countries"
      ],
      "metadata": {
        "id": "EJXdaxVLFBOy"
      },
      "execution_count": 617,
      "outputs": []
    },
    {
      "cell_type": "code",
      "source": [
        "count_bad_data = count_bad_data + nrow(hotel_csv%>%filter(adults==0  | adr<=0))"
      ],
      "metadata": {
        "id": "utsfYVWrSAX6"
      },
      "execution_count": 618,
      "outputs": []
    },
    {
      "cell_type": "code",
      "source": [
        "hotel_csv = hotel_csv%>%filter(adults!=0  & adr>0)"
      ],
      "metadata": {
        "id": "z7nw-W7VvNL9"
      },
      "execution_count": 619,
      "outputs": []
    },
    {
      "cell_type": "code",
      "source": [
        "hotel_csv = hotel_csv%>%filter(country!=\"CN\" & country!=\"TMP\")"
      ],
      "metadata": {
        "id": "eW_UQA_WSK9J"
      },
      "execution_count": 620,
      "outputs": []
    },
    {
      "cell_type": "markdown",
      "metadata": {
        "id": "mtHMS65-mfR6"
      },
      "source": [
        "#Limpiar Valores Atipicos"
      ]
    },
    {
      "cell_type": "code",
      "execution_count": 621,
      "metadata": {
        "id": "t7z8-zHYczw-"
      },
      "outputs": [],
      "source": [
        "temp <- hotel_csv"
      ]
    },
    {
      "cell_type": "code",
      "execution_count": 622,
      "metadata": {
        "id": "Z09PXXT17Q5O",
        "colab": {
          "base_uri": "https://localhost:8080/",
          "height": 0
        },
        "outputId": "6b8dc53f-94d0-45ac-8bdb-58c171e7bdb7"
      },
      "outputs": [
        {
          "output_type": "display_data",
          "data": {
            "text/plain": [
              "          hotel       is_canceled          adr              adults     \n",
              " City Hotel  :77303   Mode :logical   Min.   :   0.26   Min.   :1.000  \n",
              " Resort Hotel:38601   FALSE:72230     1st Qu.:  70.40   1st Qu.:2.000  \n",
              "                      TRUE :43674     Median :  95.00   Median :2.000  \n",
              "                                      Mean   : 103.52   Mean   :1.864  \n",
              "                                      3rd Qu.: 126.00   3rd Qu.:2.000  \n",
              "                                      Max.   :5400.00   Max.   :4.000  \n",
              "                                                                       \n",
              "    children          babies         arrival_date_month\n",
              " Min.   : 0.000   Min.   : 0.00000   August :13520     \n",
              " 1st Qu.: 0.000   1st Qu.: 0.00000   July   :12195     \n",
              " Median : 0.000   Median : 0.00000   May    :11411     \n",
              " Mean   : 0.101   Mean   : 0.00786   April  :10875     \n",
              " 3rd Qu.: 0.000   3rd Qu.: 0.00000   October:10813     \n",
              " Max.   :10.000   Max.   :10.00000   June   :10656     \n",
              "                                     (Other):46434     \n",
              " arrival_date_week_number arrival_date_year    country     \n",
              " 33     : 3505            Min.   :2015      PRT    :47456  \n",
              " 34     : 2974            1st Qu.:2016      GBR    :12037  \n",
              " 30     : 2968            Median :2016      FRA    :10335  \n",
              " 32     : 2936            Mean   :2016      ESP    : 8474  \n",
              " 18     : 2872            3rd Qu.:2017      DEU    : 7232  \n",
              " 17     : 2763            Max.   :2017      ITA    : 3740  \n",
              " (Other):97886                              (Other):26630  \n",
              " stays_in_weekend_nights stays_in_week_nights       market_segment \n",
              " Min.   : 0.0000         Min.   : 0.000       Online TA    :55208  \n",
              " 1st Qu.: 0.0000         1st Qu.: 1.000       Offline TA/TO:23582  \n",
              " Median : 1.0000         Median : 2.000       Groups       :19394  \n",
              " Mean   : 0.9327         Mean   : 2.518       Direct       :12220  \n",
              " 3rd Qu.: 2.0000         3rd Qu.: 3.000       Corporate    : 5206  \n",
              " Max.   :19.0000         Max.   :50.000       Aviation     :  231  \n",
              "                                              (Other)      :   63  \n",
              " reservation_status_date required_car_parking_spaces\n",
              " Min.   :2014-10-17      Min.   :0.00000            \n",
              " 1st Qu.:2016-02-01      1st Qu.:0.00000            \n",
              " Median :2016-08-06      Median :0.00000            \n",
              " Mean   :2016-07-29      Mean   :0.06241            \n",
              " 3rd Qu.:2017-02-08      3rd Qu.:0.00000            \n",
              " Max.   :2017-09-14      Max.   :8.00000            \n",
              "                                                    "
            ]
          },
          "metadata": {}
        }
      ],
      "source": [
        "summary(temp)"
      ]
    },
    {
      "cell_type": "code",
      "execution_count": 623,
      "metadata": {
        "id": "5ejBFyP6pJ2B"
      },
      "outputs": [],
      "source": [
        "remove_atypical_values <- function(df, column_name) {\n",
        "\n",
        "  q1 <- quantile(df[[column_name]], 0.25)\n",
        "  q3 <- quantile(df[[column_name]], 0.75)\n",
        "\n",
        "  iqr <- q3 - q1\n",
        "\n",
        "  upper_bound <- q3 + 1.5 * iqr\n",
        "  lower_bound <- q1 - 1.5 * iqr\n",
        "  caps = quantile(df[[column_name]], probs = c(.05, .95), na.rm = TRUE)\n",
        "\n",
        "  count_bad_data <<- count_bad_data + nrow(df %>% filter(df[[column_name]] > upper_bound | df[[column_name]] < lower_bound))\n",
        "\n",
        "  df[[column_name]][df[[column_name]]>upper_bound]  = caps[2]\n",
        "  df[[column_name]][df[[column_name]]<lower_bound]  = caps[1]\n",
        "\n",
        "  return(df)\n",
        "}\n"
      ]
    },
    {
      "cell_type": "code",
      "execution_count": 624,
      "metadata": {
        "id": "DXqkvwQVgnKw",
        "colab": {
          "base_uri": "https://localhost:8080/",
          "height": 0
        },
        "outputId": "8e0e6615-d804-4db8-8339-4374b9e3de6f"
      },
      "outputs": [
        {
          "output_type": "display_data",
          "data": {
            "text/plain": [
              "Plot with title “Cantidad de bebes”"
            ],
            "image/png": "[encoded data removed]"
          },
          "metadata": {
            "image/png": {
              "width": 360,
              "height": 360
            }
          }
        },
        {
          "output_type": "display_data",
          "data": {
            "text/plain": [
              "Plot with title “Cantidad de adultos”"
            ],
            "image/png": "[encoded data removed]"
          },
          "metadata": {
            "image/png": {
              "width": 360,
              "height": 360
            }
          }
        },
        {
          "output_type": "display_data",
          "data": {
            "text/plain": [
              "Plot with title “Cantidad de hijos”"
            ],
            "image/png": "[encoded data removed]"
          },
          "metadata": {
            "image/png": {
              "width": 360,
              "height": 360
            }
          }
        }
      ],
      "source": [
        "options(repr.plot.width = 6, repr.plot.height = 6)\n",
        "boxplot(temp$babies, main=\"Cantidad de bebes\")\n",
        "boxplot(temp$adults, main= \"Cantidad de adultos\")\n",
        "boxplot(temp$children, main= \"Cantidad de hijos\")"
      ]
    },
    {
      "cell_type": "code",
      "source": [
        "boxplot(temp$required_car_parking_spaces, main= \"Espacios de carros requeridos\")"
      ],
      "metadata": {
        "colab": {
          "base_uri": "https://localhost:8080/",
          "height": 0
        },
        "id": "59TKneOTXEDH",
        "outputId": "7d198fe8-166a-4420-d6aa-6dfdf799cdb1"
      },
      "execution_count": 625,
      "outputs": [
        {
          "output_type": "display_data",
          "data": {
            "text/plain": [
              "Plot with title “Espacios de carros requeridos”"
            ],
            "image/png": "[encoded data removed]"
          },
          "metadata": {
            "image/png": {
              "width": 360,
              "height": 360
            }
          }
        }
      ]
    },
    {
      "cell_type": "code",
      "source": [
        "boxplot(temp$stays_in_weekend_nights, main= \"Estadia en fines de semana\")\n",
        "boxplot(temp$stays_in_week_nights, main= \"Estadia en dias de semana\")"
      ],
      "metadata": {
        "colab": {
          "base_uri": "https://localhost:8080/",
          "height": 0
        },
        "id": "LRIe8Rblw_II",
        "outputId": "4fc39a38-777f-4d0d-d3a7-e3682d4888b2"
      },
      "execution_count": 626,
      "outputs": [
        {
          "output_type": "display_data",
          "data": {
            "text/plain": [
              "Plot with title “Estadia en fines de semana”"
            ],
            "image/png": "[encoded data removed]"
          },
          "metadata": {
            "image/png": {
              "width": 360,
              "height": 360
            }
          }
        },
        {
          "output_type": "display_data",
          "data": {
            "text/plain": [
              "Plot with title “Estadia en dias de semana”"
            ],
            "image/png": "[encoded data removed]"
          },
          "metadata": {
            "image/png": {
              "width": 360,
              "height": 360
            }
          }
        }
      ]
    },
    {
      "cell_type": "code",
      "source": [
        "boxplot(temp$adr, main= \"adr\")"
      ],
      "metadata": {
        "colab": {
          "base_uri": "https://localhost:8080/",
          "height": 0
        },
        "id": "HfQR3G4w79Hm",
        "outputId": "0e38a27e-8535-4b11-c2f4-9bc6e08c83de"
      },
      "execution_count": 627,
      "outputs": [
        {
          "output_type": "display_data",
          "data": {
            "text/plain": [
              "Plot with title “adr”"
            ],
            "image/png": "[encoded data removed]"
          },
          "metadata": {
            "image/png": {
              "width": 360,
              "height": 360
            }
          }
        }
      ]
    },
    {
      "cell_type": "code",
      "source": [
        "count_bad_data = count_bad_data + nrow(temp%>%filter(children>=10))\n",
        "count_bad_data = count_bad_data + nrow(temp%>%filter(babies>=9))\n",
        "count_bad_data = count_bad_data + nrow(temp%>%filter(required_car_parking_spaces>=8))\n",
        "count_bad_data = count_bad_data + nrow(temp%>%filter(adults>8))\n",
        "temp = temp%>% filter(children<10 & babies<9 & required_car_parking_spaces<8 & adults <= 4)"
      ],
      "metadata": {
        "id": "qdY2vtM_qoeZ"
      },
      "execution_count": 628,
      "outputs": []
    },
    {
      "cell_type": "code",
      "source": [
        "temp = remove_atypical_values(temp, \"stays_in_weekend_nights\")\n",
        "temp = remove_atypical_values(temp, \"stays_in_week_nights\")\n",
        "temp = remove_atypical_values(temp, \"adr\")"
      ],
      "metadata": {
        "id": "3JTOXD2R16m4"
      },
      "execution_count": 629,
      "outputs": []
    },
    {
      "cell_type": "markdown",
      "source": [
        "#Data Final"
      ],
      "metadata": {
        "id": "6Hv7jRp9SfcJ"
      }
    },
    {
      "cell_type": "code",
      "source": [
        "count_bad_data"
      ],
      "metadata": {
        "colab": {
          "base_uri": "https://localhost:8080/",
          "height": 34
        },
        "id": "-hTS5_FPShJU",
        "outputId": "23af48c9-5134-4e83-c385-d09b99e47deb"
      },
      "execution_count": 630,
      "outputs": [
        {
          "output_type": "display_data",
          "data": {
            "text/html": [
              "11439"
            ],
            "text/markdown": "11439",
            "text/latex": "11439",
            "text/plain": [
              "[1] 11439"
            ]
          },
          "metadata": {}
        }
      ]
    },
    {
      "cell_type": "code",
      "source": [
        "cat(\"Porcentaje de data sucia: \" , count_bad_data / totalCount  * 100, \"%\")"
      ],
      "metadata": {
        "colab": {
          "base_uri": "https://localhost:8080/"
        },
        "id": "rmJhZbyNUper",
        "outputId": "cb244fe3-a26b-4e32-9ee3-f0d5a3726105"
      },
      "execution_count": 631,
      "outputs": [
        {
          "output_type": "stream",
          "name": "stdout",
          "text": [
            "Porcentaje de data sucia:  0.638747 %"
          ]
        }
      ]
    },
    {
      "cell_type": "code",
      "source": [
        "str(hotel_csv)"
      ],
      "metadata": {
        "colab": {
          "base_uri": "https://localhost:8080/"
        },
        "id": "9cs-rSr0WS6S",
        "outputId": "22308c6c-ee08-47b8-f75a-02557a955329"
      },
      "execution_count": 632,
      "outputs": [
        {
          "output_type": "stream",
          "name": "stdout",
          "text": [
            "'data.frame':\t115904 obs. of  15 variables:\n",
            " $ hotel                      : Factor w/ 2 levels \"City Hotel\",\"Resort Hotel\": 2 2 2 2 2 2 2 2 2 2 ...\n",
            " $ is_canceled                : logi  FALSE FALSE FALSE FALSE FALSE FALSE ...\n",
            " $ adr                        : num  75 75 98 98 107 ...\n",
            " $ adults                     : int  1 1 2 2 2 2 2 2 2 2 ...\n",
            " $ children                   : int  0 0 0 0 0 0 0 0 0 0 ...\n",
            " $ babies                     : int  0 0 0 0 0 0 0 0 0 0 ...\n",
            " $ arrival_date_month         : Factor w/ 12 levels \"April\",\"August\",..: 6 6 6 6 6 6 6 6 6 6 ...\n",
            " $ arrival_date_week_number   : Factor w/ 53 levels \"1\",\"2\",\"3\",\"4\",..: 27 27 27 27 27 27 27 27 27 27 ...\n",
            " $ arrival_date_year          : int  2015 2015 2015 2015 2015 2015 2015 2015 2015 2015 ...\n",
            " $ country                    : Factor w/ 177 levels \"ABW\",\"AGO\",\"AIA\",..: 60 60 60 60 136 136 136 136 136 136 ...\n",
            " $ stays_in_weekend_nights    : int  0 0 0 0 0 0 0 0 0 0 ...\n",
            " $ stays_in_week_nights       : num  1 1 2 2 2 2 3 3 4 4 ...\n",
            " $ market_segment             : Factor w/ 8 levels \"Aviation\",\"Complementary\",..: 4 3 7 7 4 4 7 6 7 7 ...\n",
            " $ reservation_status_date    : Date, format: \"2015-07-02\" \"2015-07-02\" ...\n",
            " $ required_car_parking_spaces: int  0 0 0 0 0 0 0 0 0 0 ...\n"
          ]
        }
      ]
    },
    {
      "cell_type": "code",
      "source": [
        "hotel_csv = temp"
      ],
      "metadata": {
        "id": "MrAVaLo2WXKz"
      },
      "execution_count": 633,
      "outputs": []
    },
    {
      "cell_type": "code",
      "source": [
        "write.csv(hotel_csv, file = \"clean_hotel.csv\", row.names = FALSE)"
      ],
      "metadata": {
        "id": "DEMmvd7H4NXR"
      },
      "execution_count": 634,
      "outputs": []
    },
    {
      "cell_type": "markdown",
      "metadata": {
        "id": "Gv7KWEWvW2Ao"
      },
      "source": [
        "#Preguntas Planteadas"
      ]
    },
    {
      "cell_type": "markdown",
      "metadata": {
        "id": "M7pzW-pdW5PO"
      },
      "source": [
        "#### 1. ¿Cuántas reservas se realizan por el tipo de hotel o qué tipo de hotel prefiere la gente?"
      ]
    },
    {
      "cell_type": "markdown",
      "metadata": {
        "id": "ElnEGQIXba7Z"
      },
      "source": [
        "#####Separacion de datos"
      ]
    },
    {
      "cell_type": "code",
      "execution_count": 569,
      "metadata": {
        "id": "_vtbXj9sbuUl",
        "colab": {
          "base_uri": "https://localhost:8080/",
          "height": 0
        },
        "outputId": "c72bb789-40fc-43d6-eb62-920d51f03e9b"
      },
      "outputs": [
        {
          "output_type": "display_data",
          "data": {
            "text/html": [
              "86833"
            ],
            "text/markdown": "86833",
            "text/latex": "86833",
            "text/plain": [
              "[1] 86833"
            ]
          },
          "metadata": {}
        },
        {
          "output_type": "display_data",
          "data": {
            "text/html": [
              "54134"
            ],
            "text/markdown": "54134",
            "text/latex": "54134",
            "text/plain": [
              "[1] 54134"
            ]
          },
          "metadata": {}
        },
        {
          "output_type": "display_data",
          "data": {
            "text/plain": [
              "plot without title"
            ],
            "image/png": "[encoded data removed]"
          },
          "metadata": {
            "image/png": {
              "width": 360,
              "height": 360
            }
          }
        }
      ],
      "source": [
        "city = temp%>%filter(hotel == 'City Hotel' & !is_canceled)\n",
        "resort = temp%>%filter(hotel != 'City Hotel' & !is_canceled)\n",
        "\n",
        "cityCountGuest = sum(city$adults) + sum(city$children) + sum(city$babies)\n",
        "cityCountGuest\n",
        "\n",
        "resortCountGuest = sum(resort$adults) + sum(resort$children) + sum(resort$babies)\n",
        "resortCountGuest\n",
        "\n",
        "\n",
        "categories <- c('City', 'Resort')\n",
        "values <- c(cityCountGuest, resortCountGuest)\n",
        "data <- data.frame(categories, values)\n",
        "\n",
        "\n",
        "\n",
        "ggplot(data, aes(x = \"\", y = values, fill = categories)) +\n",
        "  geom_bar(stat = \"identity\", width = 1) +\n",
        "  coord_polar(\"y\", start = 0) +\n",
        "  theme_void() +\n",
        "  labs(title = \"¿Qué tipo de hotel prefieren las personas?\")\n"
      ]
    },
    {
      "cell_type": "markdown",
      "metadata": {
        "id": "Vkg127VMmV6Y"
      },
      "source": [
        "#####Conclusiones"
      ]
    },
    {
      "cell_type": "markdown",
      "metadata": {
        "id": "4cWUSRjLmfaW"
      },
      "source": [
        "A traves del procesamiento de datos podemos visualizar una gran demanda respecto a los hoteles de ciudad."
      ]
    },
    {
      "cell_type": "markdown",
      "metadata": {
        "id": "q0atQ7yhYSY3"
      },
      "source": [
        "#### 2. ¿Cuál es la proporción de reservas por segmento del mercado?"
      ]
    },
    {
      "cell_type": "code",
      "execution_count": 570,
      "metadata": {
        "id": "84JiQCgOYTdb",
        "colab": {
          "base_uri": "https://localhost:8080/",
          "height": 0
        },
        "outputId": "253cddea-2907-48d1-e83f-f5d51f2528f8"
      },
      "outputs": [
        {
          "output_type": "display_data",
          "data": {
            "text/plain": [
              "plot without title"
            ],
            "image/png": "[encoded data removed]"
          },
          "metadata": {
            "image/png": {
              "width": 360,
              "height": 360
            }
          }
        }
      ],
      "source": [
        "market_count <- hotel_csv %>%\n",
        "  group_by(market_segment) %>%\n",
        "  summarize(cnt_val = n())\n",
        "\n",
        "ggplot(market_count, aes(x = market_segment, y = cnt_val, fill = market_segment)) +\n",
        "  geom_bar(stat = \"identity\") + # Añadir 'position = \"dodge\"'\n",
        "  labs(title = \"Proporción de reservas por segmentos de mercado\",\n",
        "       x = \"Segmento de mercado\",\n",
        "       y = \"Reservas\",\n",
        "       fill = \"Segmento\") +\n",
        "  theme_minimal() +\n",
        "  theme(axis.text.x = element_text(angle = 45))"
      ]
    },
    {
      "cell_type": "markdown",
      "metadata": {
        "id": "W0JmkOvRZGvc"
      },
      "source": [
        "##### Conclusiones\n",
        "\n",
        "Del grafico podemos deducr que casi la mitad del mercado es ocupado por el semento Online TA"
      ]
    },
    {
      "cell_type": "markdown",
      "metadata": {
        "id": "KNk6hlqKYpXS"
      },
      "source": [
        "#### 3. ¿Está aumentando la demanda con el tiempo?"
      ]
    },
    {
      "cell_type": "code",
      "execution_count": 572,
      "metadata": {
        "id": "siNyCgXsYruk",
        "colab": {
          "base_uri": "https://localhost:8080/",
          "height": 1000
        },
        "outputId": "e7167d62-0638-4e0a-839b-9c2b555336ce"
      },
      "outputs": [
        {
          "output_type": "stream",
          "name": "stderr",
          "text": [
            "\u001b[1m\u001b[22m`summarise()` has grouped output by 'arrival_date_month'. You can override\n",
            "using the `.groups` argument.\n"
          ]
        },
        {
          "output_type": "display_data",
          "data": {
            "text/plain": [
              "   month     year amount\n",
              "1  January   2016 2163  \n",
              "2  January   2017 3598  \n",
              "3  February  2016 3794  \n",
              "4  February  2017 4076  \n",
              "5  March     2016 4702  \n",
              "6  March     2017 4814  \n",
              "7  April     2016 5317  \n",
              "8  April     2017 5558  \n",
              "9  May       2016 5310  \n",
              "10 May       2017 6101  \n",
              "11 June      2016 5186  \n",
              "12 June      2017 5470  \n",
              "13 July      2015 2694  \n",
              "14 July      2016 4397  \n",
              "15 July      2017 5103  \n",
              "16 August    2015 3783  \n",
              "17 August    2016 4937  \n",
              "18 August    2017 4800  \n",
              "19 September 2015 4941  \n",
              "20 September 2016 5219  \n",
              "21 October   2015 4795  \n",
              "22 October   2016 6017  \n",
              "23 November  2015 2270  \n",
              "24 November  2016 4335  \n",
              "25 December  2015 2780  \n",
              "26 December  2016 3739  "
            ],
            "text/html": [
              "<table class=\"dataframe\">\n",
              "<caption>A grouped_df: 26 × 3</caption>\n",
              "<thead>\n",
              "\t<tr><th scope=col>month</th><th scope=col>year</th><th scope=col>amount</th></tr>\n",
              "\t<tr><th scope=col>&lt;fct&gt;</th><th scope=col>&lt;int&gt;</th><th scope=col>&lt;int&gt;</th></tr>\n",
              "</thead>\n",
              "<tbody>\n",
              "\t<tr><td>January  </td><td>2016</td><td>2163</td></tr>\n",
              "\t<tr><td>January  </td><td>2017</td><td>3598</td></tr>\n",
              "\t<tr><td>February </td><td>2016</td><td>3794</td></tr>\n",
              "\t<tr><td>February </td><td>2017</td><td>4076</td></tr>\n",
              "\t<tr><td>March    </td><td>2016</td><td>4702</td></tr>\n",
              "\t<tr><td>March    </td><td>2017</td><td>4814</td></tr>\n",
              "\t<tr><td>April    </td><td>2016</td><td>5317</td></tr>\n",
              "\t<tr><td>April    </td><td>2017</td><td>5558</td></tr>\n",
              "\t<tr><td>May      </td><td>2016</td><td>5310</td></tr>\n",
              "\t<tr><td>May      </td><td>2017</td><td>6101</td></tr>\n",
              "\t<tr><td>June     </td><td>2016</td><td>5186</td></tr>\n",
              "\t<tr><td>June     </td><td>2017</td><td>5470</td></tr>\n",
              "\t<tr><td>July     </td><td>2015</td><td>2694</td></tr>\n",
              "\t<tr><td>July     </td><td>2016</td><td>4397</td></tr>\n",
              "\t<tr><td>July     </td><td>2017</td><td>5103</td></tr>\n",
              "\t<tr><td>August   </td><td>2015</td><td>3783</td></tr>\n",
              "\t<tr><td>August   </td><td>2016</td><td>4937</td></tr>\n",
              "\t<tr><td>August   </td><td>2017</td><td>4800</td></tr>\n",
              "\t<tr><td>September</td><td>2015</td><td>4941</td></tr>\n",
              "\t<tr><td>September</td><td>2016</td><td>5219</td></tr>\n",
              "\t<tr><td>October  </td><td>2015</td><td>4795</td></tr>\n",
              "\t<tr><td>October  </td><td>2016</td><td>6017</td></tr>\n",
              "\t<tr><td>November </td><td>2015</td><td>2270</td></tr>\n",
              "\t<tr><td>November </td><td>2016</td><td>4335</td></tr>\n",
              "\t<tr><td>December </td><td>2015</td><td>2780</td></tr>\n",
              "\t<tr><td>December </td><td>2016</td><td>3739</td></tr>\n",
              "</tbody>\n",
              "</table>\n"
            ],
            "text/markdown": "\nA grouped_df: 26 × 3\n\n| month &lt;fct&gt; | year &lt;int&gt; | amount &lt;int&gt; |\n|---|---|---|\n| January   | 2016 | 2163 |\n| January   | 2017 | 3598 |\n| February  | 2016 | 3794 |\n| February  | 2017 | 4076 |\n| March     | 2016 | 4702 |\n| March     | 2017 | 4814 |\n| April     | 2016 | 5317 |\n| April     | 2017 | 5558 |\n| May       | 2016 | 5310 |\n| May       | 2017 | 6101 |\n| June      | 2016 | 5186 |\n| June      | 2017 | 5470 |\n| July      | 2015 | 2694 |\n| July      | 2016 | 4397 |\n| July      | 2017 | 5103 |\n| August    | 2015 | 3783 |\n| August    | 2016 | 4937 |\n| August    | 2017 | 4800 |\n| September | 2015 | 4941 |\n| September | 2016 | 5219 |\n| October   | 2015 | 4795 |\n| October   | 2016 | 6017 |\n| November  | 2015 | 2270 |\n| November  | 2016 | 4335 |\n| December  | 2015 | 2780 |\n| December  | 2016 | 3739 |\n\n",
            "text/latex": "A grouped\\_df: 26 × 3\n\\begin{tabular}{lll}\n month & year & amount\\\\\n <fct> & <int> & <int>\\\\\n\\hline\n\t January   & 2016 & 2163\\\\\n\t January   & 2017 & 3598\\\\\n\t February  & 2016 & 3794\\\\\n\t February  & 2017 & 4076\\\\\n\t March     & 2016 & 4702\\\\\n\t March     & 2017 & 4814\\\\\n\t April     & 2016 & 5317\\\\\n\t April     & 2017 & 5558\\\\\n\t May       & 2016 & 5310\\\\\n\t May       & 2017 & 6101\\\\\n\t June      & 2016 & 5186\\\\\n\t June      & 2017 & 5470\\\\\n\t July      & 2015 & 2694\\\\\n\t July      & 2016 & 4397\\\\\n\t July      & 2017 & 5103\\\\\n\t August    & 2015 & 3783\\\\\n\t August    & 2016 & 4937\\\\\n\t August    & 2017 & 4800\\\\\n\t September & 2015 & 4941\\\\\n\t September & 2016 & 5219\\\\\n\t October   & 2015 & 4795\\\\\n\t October   & 2016 & 6017\\\\\n\t November  & 2015 & 2270\\\\\n\t November  & 2016 & 4335\\\\\n\t December  & 2015 & 2780\\\\\n\t December  & 2016 & 3739\\\\\n\\end{tabular}\n"
          },
          "metadata": {}
        },
        {
          "output_type": "display_data",
          "data": {
            "text/plain": [
              "  year val     \n",
              "1 2015 3543.833\n",
              "2 2016 4593.000\n",
              "3 2017 4940.000"
            ],
            "text/html": [
              "<table class=\"dataframe\">\n",
              "<caption>A tibble: 3 × 2</caption>\n",
              "<thead>\n",
              "\t<tr><th scope=col>year</th><th scope=col>val</th></tr>\n",
              "\t<tr><th scope=col>&lt;int&gt;</th><th scope=col>&lt;dbl&gt;</th></tr>\n",
              "</thead>\n",
              "<tbody>\n",
              "\t<tr><td>2015</td><td>3543.833</td></tr>\n",
              "\t<tr><td>2016</td><td>4593.000</td></tr>\n",
              "\t<tr><td>2017</td><td>4940.000</td></tr>\n",
              "</tbody>\n",
              "</table>\n"
            ],
            "text/markdown": "\nA tibble: 3 × 2\n\n| year &lt;int&gt; | val &lt;dbl&gt; |\n|---|---|\n| 2015 | 3543.833 |\n| 2016 | 4593.000 |\n| 2017 | 4940.000 |\n\n",
            "text/latex": "A tibble: 3 × 2\n\\begin{tabular}{ll}\n year & val\\\\\n <int> & <dbl>\\\\\n\\hline\n\t 2015 & 3543.833\\\\\n\t 2016 & 4593.000\\\\\n\t 2017 & 4940.000\\\\\n\\end{tabular}\n"
          },
          "metadata": {}
        }
      ],
      "source": [
        "\n",
        "reservations <- hotel_csv %>%\n",
        "  group_by(arrival_date_month, arrival_date_year) %>%\n",
        "  summarize(amount = n())\n",
        "\n",
        "colnames(reservations)[1] = 'month';\n",
        "colnames(reservations)[2] = 'year';\n",
        "\n",
        "reservations <- reservations %>%\n",
        "  mutate(month_date = mdy(paste0(month, \" 1 2023\")))\n",
        "\n",
        "reservations <- reservations %>%\n",
        "  arrange(month_date)\n",
        "\n",
        "reservations <- reservations %>%\n",
        "  select(-month_date)\n",
        "\n",
        "reservations$month <- factor(reservations$month, levels = unique(reservations$month))\n",
        "\n",
        "View(reservations)\n",
        "\n",
        "years <- reservations %>%\n",
        "  group_by(year) %>%\n",
        "  summarize(val = mean(amount))\n",
        "\n",
        "View(years)\n"
      ]
    },
    {
      "cell_type": "code",
      "execution_count": 573,
      "metadata": {
        "id": "h4bz41d9YuxU",
        "colab": {
          "base_uri": "https://localhost:8080/",
          "height": 737
        },
        "outputId": "fa537f40-8b5e-4f2a-9673-808d7a4cad86"
      },
      "outputs": [
        {
          "output_type": "display_data",
          "data": {
            "text/plain": [
              "plot without title"
            ],
            "image/png": "[encoded data removed]"
          },
          "metadata": {
            "image/png": {
              "width": 360,
              "height": 360
            }
          }
        },
        {
          "output_type": "display_data",
          "data": {
            "text/plain": [
              "plot without title"
            ],
            "image/png": "[encoded data removed]"
          },
          "metadata": {
            "image/png": {
              "width": 360,
              "height": 360
            }
          }
        }
      ],
      "source": [
        "ggplot(reservations, aes(fill=month, y=amount, x=year)) +\n",
        "  geom_bar(position=\"dodge\", stat=\"identity\")\n",
        "\n",
        "ggplot(years, aes(y=val, x=year)) +\n",
        "  geom_bar(position=\"dodge\", stat=\"identity\")"
      ]
    },
    {
      "cell_type": "markdown",
      "metadata": {
        "id": "paDbGewWZWye"
      },
      "source": [
        "##### Conclusiones\n",
        "\n",
        "Gracias al analisis de datos podemos observar que, ha pesar de su inestabilidad, la demanda se ha dado al alza durante en los ultmos años."
      ]
    },
    {
      "cell_type": "markdown",
      "metadata": {
        "id": "4SOGOis7aOBr"
      },
      "source": [
        "#### 4. ¿Cuántas reservas incluyen niños y/o bebés?\n",
        "\n",
        "\n",
        "\n",
        "\n",
        "\n",
        "\n"
      ]
    },
    {
      "cell_type": "code",
      "execution_count": 574,
      "metadata": {
        "id": "stk3qIHjcFFC",
        "colab": {
          "base_uri": "https://localhost:8080/",
          "height": 377
        },
        "outputId": "8dd38a43-c595-47a0-d095-c778d4b4d002"
      },
      "outputs": [
        {
          "output_type": "display_data",
          "data": {
            "text/plain": [
              "plot without title"
            ],
            "image/png": "[encoded data removed]"
          },
          "metadata": {
            "image/png": {
              "width": 360,
              "height": 360
            }
          }
        }
      ],
      "source": [
        "meninas <- hotel_csv %>%\n",
        "  group_by(children)\n",
        "\n",
        "meninas$children <- ifelse(meninas$children >= 1, \"Si\", \"No\")\n",
        "\n",
        "df <- meninas %>%\n",
        "      group_by(children) %>%\n",
        "       count() %>%\n",
        "       ungroup() %>%\n",
        "       mutate(perc = `n` / sum(`n`)) %>%\n",
        "       arrange(perc) %>%\n",
        "       mutate(labels = scales::percent(perc))\n",
        "\n",
        "\n",
        "ggplot(df, aes(x = \"\", y = perc, fill = children)) +\n",
        "  geom_col() +\n",
        "  geom_text(aes(label = labels),\n",
        "            position = position_stack(vjust = 0.5)) +\n",
        "  coord_polar(theta = \"y\")"
      ]
    },
    {
      "cell_type": "code",
      "source": [
        "meninas <- hotel_csv %>%\n",
        "  group_by(babies)\n",
        "\n",
        "meninas$babies <- ifelse(meninas$babies >= 1, \"Si\", \"No\")\n",
        "\n",
        "df <- meninas %>%\n",
        "  group_by(babies) %>%\n",
        "  count() %>%\n",
        "  ungroup() %>%\n",
        "  mutate(perc = `n` / sum(`n`)) %>%\n",
        "  arrange(perc) %>%\n",
        "  mutate(labels = scales::percent(perc))\n",
        "\n",
        "\n",
        "ggplot(df, aes(x = \"\", y = perc, fill = babies)) +\n",
        "  geom_col() +\n",
        "  geom_text(aes(label = labels),\n",
        "            position = position_stack(vjust = 0.5)) +\n",
        "  coord_polar(theta = \"y\")"
      ],
      "metadata": {
        "id": "fki9g3qbwt8d",
        "outputId": "ad133e01-20f4-4187-f6a1-f525ea03b047",
        "colab": {
          "base_uri": "https://localhost:8080/",
          "height": 377
        }
      },
      "execution_count": 575,
      "outputs": [
        {
          "output_type": "display_data",
          "data": {
            "text/plain": [
              "plot without title"
            ],
            "image/png": "[encoded data removed]"
          },
          "metadata": {
            "image/png": {
              "width": 360,
              "height": 360
            }
          }
        }
      ]
    },
    {
      "cell_type": "code",
      "execution_count": 576,
      "metadata": {
        "id": "86dRlMNNcczw",
        "colab": {
          "base_uri": "https://localhost:8080/",
          "height": 377
        },
        "outputId": "0d83d8a3-c73f-4699-e8a3-3d15a4a31449"
      },
      "outputs": [
        {
          "output_type": "display_data",
          "data": {
            "text/plain": [
              "plot without title"
            ],
            "image/png": "[encoded data removed]"
          },
          "metadata": {
            "image/png": {
              "width": 360,
              "height": 360
            }
          }
        }
      ],
      "source": [
        "categories <- c('Children', 'Babies')\n",
        "values <- c(cantidad_ninos, cantidad_bebes)\n",
        "data <- data.frame(categories, values)\n",
        "\n",
        "ggplot(data, aes(x = categories, y = values, fill=categories)) +\n",
        "  geom_bar(stat = \"identity\") +\n",
        "  labs(x = \"children and babies\", y = \"Cantidad\", title = \"Cantidad de niños y/o bebes\") +\n",
        "  theme_light()"
      ]
    },
    {
      "cell_type": "markdown",
      "metadata": {
        "id": "v8KzDR0gYxcV"
      },
      "source": [
        "#### 5. ¿Es importante contar con espacios de estacionamiento?"
      ]
    },
    {
      "cell_type": "code",
      "execution_count": 577,
      "metadata": {
        "id": "4UBIadUIY0do",
        "colab": {
          "base_uri": "https://localhost:8080/",
          "height": 377
        },
        "outputId": "7c97ae13-c35e-4d8d-b1df-2d6599c18896"
      },
      "outputs": [
        {
          "output_type": "display_data",
          "data": {
            "text/plain": [
              "plot without title"
            ],
            "image/png": "[encoded data removed]"
          },
          "metadata": {
            "image/png": {
              "width": 360,
              "height": 360
            }
          }
        }
      ],
      "source": [
        "park_space <- hotel_csv %>%\n",
        "  group_by(required_car_parking_spaces)\n",
        "\n",
        "park_space <- park_space %>%\n",
        "  rename(need_parking = required_car_parking_spaces)\n",
        "\n",
        "\n",
        "park_space$need_parking <- ifelse(park_space$need_parking == 1, \"Si\", \"No\")\n",
        "\n",
        "\n",
        "df <- park_space %>%\n",
        "      group_by(need_parking) %>%\n",
        "       count() %>%\n",
        "       ungroup() %>%\n",
        "       mutate(perc = `n` / sum(`n`)) %>%\n",
        "       arrange(perc) %>%\n",
        "       mutate(labels = scales::percent(perc))\n",
        "\n",
        "\n",
        "ggplot(df, aes(x = \"\", y = perc, fill = need_parking)) +\n",
        "  geom_col() +\n",
        "  geom_text(aes(label = labels),\n",
        "            position = position_stack(vjust = 0.5)) +\n",
        "  coord_polar(theta = \"y\")"
      ]
    },
    {
      "cell_type": "code",
      "source": [
        "temp%>%count(required_car_parking_spaces)"
      ],
      "metadata": {
        "colab": {
          "base_uri": "https://localhost:8080/",
          "height": 223
        },
        "id": "Q_SXBTSp4hQa",
        "outputId": "7c012661-fb70-472a-fee6-fe4845f0d158"
      },
      "execution_count": 578,
      "outputs": [
        {
          "output_type": "display_data",
          "data": {
            "text/html": [
              "<table class=\"dataframe\">\n",
              "<caption>A data.frame: 4 × 2</caption>\n",
              "<thead>\n",
              "\t<tr><th scope=col>required_car_parking_spaces</th><th scope=col>n</th></tr>\n",
              "\t<tr><th scope=col>&lt;int&gt;</th><th scope=col>&lt;int&gt;</th></tr>\n",
              "</thead>\n",
              "<tbody>\n",
              "\t<tr><td>0</td><td>108716</td></tr>\n",
              "\t<tr><td>1</td><td>  7152</td></tr>\n",
              "\t<tr><td>2</td><td>    28</td></tr>\n",
              "\t<tr><td>3</td><td>     3</td></tr>\n",
              "</tbody>\n",
              "</table>\n"
            ],
            "text/markdown": "\nA data.frame: 4 × 2\n\n| required_car_parking_spaces &lt;int&gt; | n &lt;int&gt; |\n|---|---|\n| 0 | 108716 |\n| 1 |   7152 |\n| 2 |     28 |\n| 3 |      3 |\n\n",
            "text/latex": "A data.frame: 4 × 2\n\\begin{tabular}{ll}\n required\\_car\\_parking\\_spaces & n\\\\\n <int> & <int>\\\\\n\\hline\n\t 0 & 108716\\\\\n\t 1 &   7152\\\\\n\t 2 &     28\\\\\n\t 3 &      3\\\\\n\\end{tabular}\n",
            "text/plain": [
              "  required_car_parking_spaces n     \n",
              "1 0                           108716\n",
              "2 1                             7152\n",
              "3 2                               28\n",
              "4 3                                3"
            ]
          },
          "metadata": {}
        }
      ]
    },
    {
      "cell_type": "code",
      "source": [
        "need_parking = temp%>% filter(required_car_parking_spaces!=0 & !is_canceled)\n",
        "parking_income = sum((need_parking$stays_in_week_nights + need_parking$stays_in_weekend_nights) * need_parking$adr)\n",
        "parking_income"
      ],
      "metadata": {
        "id": "beiuC6LuyDyb",
        "colab": {
          "base_uri": "https://localhost:8080/",
          "height": 34
        },
        "outputId": "3ac31ce8-4c2c-4a95-c8d1-7939cfdd251b"
      },
      "execution_count": 579,
      "outputs": [
        {
          "output_type": "display_data",
          "data": {
            "text/html": [
              "2627209.3"
            ],
            "text/markdown": "2627209.3",
            "text/latex": "2627209.3",
            "text/plain": [
              "[1] 2627209"
            ]
          },
          "metadata": {}
        }
      ]
    },
    {
      "cell_type": "code",
      "source": [
        "total_income = sum((temp$stays_in_week_nights  + temp$stays_in_weekend_nights) * temp$adr)\n",
        "total_income"
      ],
      "metadata": {
        "colab": {
          "base_uri": "https://localhost:8080/",
          "height": 34
        },
        "id": "2yQGiRO08MCn",
        "outputId": "478b50b4-d702-41fb-a59b-29cd0f10c965"
      },
      "execution_count": 580,
      "outputs": [
        {
          "output_type": "display_data",
          "data": {
            "text/html": [
              "39897094.64"
            ],
            "text/markdown": "39897094.64",
            "text/latex": "39897094.64",
            "text/plain": [
              "[1] 39897095"
            ]
          },
          "metadata": {}
        }
      ]
    },
    {
      "cell_type": "code",
      "source": [
        "cat(\"Procentaje de ingresos de estacionamientos : \",  parking_income / total_income * 100, \"%\")"
      ],
      "metadata": {
        "colab": {
          "base_uri": "https://localhost:8080/"
        },
        "id": "SfNY3MNR1M4I",
        "outputId": "fdb21da2-87c6-45b5-873b-97a00df8422e"
      },
      "execution_count": 581,
      "outputs": [
        {
          "output_type": "stream",
          "name": "stdout",
          "text": [
            "Procentaje de ingresos de estacionamientos :  6.584964 %"
          ]
        }
      ]
    },
    {
      "cell_type": "markdown",
      "metadata": {
        "id": "4ElAcBtIZphK"
      },
      "source": [
        "###### Conclusiones\n",
        "\n",
        "A traves de los procesos implementados. Podemos concluir que los ingresos generados por clientes que necesiten estacionamiento no superan los 6.6% de ingresos totales.\n",
        "Por lo tanto, los estacionamientos no son importantes en la franquicia.\n",
        "  "
      ]
    },
    {
      "cell_type": "markdown",
      "metadata": {
        "id": "UDt0oohmbM46"
      },
      "source": [
        "#### 6. ¿De dónde viene la mayor parte de huespedes?\n",
        "\n",
        "\n"
      ]
    },
    {
      "cell_type": "code",
      "execution_count": 582,
      "metadata": {
        "id": "MfcPgk2Ub4yG",
        "colab": {
          "base_uri": "https://localhost:8080/",
          "height": 432
        },
        "outputId": "47868863-4cca-43c7-cf4c-074fce3a882d"
      },
      "outputs": [
        {
          "output_type": "stream",
          "name": "stdout",
          "text": [
            "tibble [175 × 2] (S3: tbl_df/tbl/data.frame)\n",
            " $ country: Factor w/ 177 levels \"ABW\",\"AGO\",\"AIA\",..: 1 2 3 4 5 6 7 8 9 10 ...\n",
            " $ size   : num [1:175] 2 150 1 10 2 7 160 6 1 2 ...\n"
          ]
        },
        {
          "output_type": "display_data",
          "data": {
            "text/plain": [
              "plot without title"
            ],
            "image/png": "[encoded data removed]"
          },
          "metadata": {
            "image/png": {
              "width": 360,
              "height": 360
            }
          }
        }
      ],
      "source": [
        "reservas_agrupadas <- temp %>%\n",
        "  group_by(country) %>%\n",
        "  summarise(size = sum(ifelse(is_canceled, 0, 1)))\n",
        "\n",
        "str(reservas_agrupadas)\n",
        "reservas_agrupadas <- as.data.frame(reservas_agrupadas)\n",
        "reservas_agrupadas$country <- countrycode(reservas_agrupadas$country, \"iso3c\", \"country.name\")\n",
        "\n",
        "\n",
        "reservas_top5 <- reservas_agrupadas[order(-reservas_agrupadas$size)[1:5], ]  # Filter top 5 by size\n",
        "\n",
        "\n",
        "ggplot(reservas_top5, aes(x = country, y = size, fill = country)) +\n",
        "  geom_segment(aes(x = reorder(country, -size), y = 0, xend = country, yend = size), linewidth = 1, linetype = 1) +  # Lollipop stems\n",
        "  geom_point(aes(size = 5), shape = 18, fill = \"white\") +  # Lollipop circles\n",
        "  geom_text(aes(label = paste(country, \"\\n\", size, sep = \"\")), hjust = -0.1, vjust = 1.1, size = 4) +  # Labels with newline\n",
        "  scale_x_discrete(expand = c(0.1, 0.1)) +  # Adjust axis padding for better readability\n",
        "  theme(legend.position = \"none\") + coord_flip() +\n",
        "  labs(x = \"Country\", y = \"Area\")  # Add axis labels for clarity"
      ]
    },
    {
      "cell_type": "markdown",
      "metadata": {
        "id": "YKu9M-jYiAJR"
      },
      "source": [
        "#### 7. ¿En qué meses del año se producen más cancelaciones de reservas?\n"
      ]
    },
    {
      "cell_type": "code",
      "execution_count": 583,
      "metadata": {
        "id": "X3sUgJU6iGKk",
        "colab": {
          "base_uri": "https://localhost:8080/"
        },
        "outputId": "6394a744-8928-415b-c8a3-f8da4a1a071b"
      },
      "outputs": [
        {
          "output_type": "stream",
          "name": "stderr",
          "text": [
            "\u001b[1m\u001b[22m`summarise()` has grouped output by 'hotel'. You can override using the\n",
            "`.groups` argument.\n"
          ]
        }
      ],
      "source": [
        "pregunta7 <- temp %>%\n",
        "  group_by(hotel, arrival_date_month) %>%\n",
        "  summarise(is_canceled = sum(is_canceled==TRUE))\n",
        "\n",
        "pregunta7 <- pregunta7[order(-pregunta7$is_canceled), ]  # Filter top 5 by size"
      ]
    },
    {
      "cell_type": "code",
      "execution_count": 584,
      "metadata": {
        "id": "eCDKnXdRlUGr",
        "colab": {
          "base_uri": "https://localhost:8080/",
          "height": 377
        },
        "outputId": "7572390e-5ae5-45be-9a96-07e0d02d7a09"
      },
      "outputs": [
        {
          "output_type": "display_data",
          "data": {
            "text/plain": [
              "plot without title"
            ],
            "image/png": "[encoded data removed]"
          },
          "metadata": {
            "image/png": {
              "width": 360,
              "height": 360
            }
          }
        }
      ],
      "source": [
        "ggplot(pregunta7, aes(x = arrival_date_month, y = is_canceled, fill = hotel)) +\n",
        "  geom_segment(aes(x = reorder(arrival_date_month, -is_canceled), y = 0, xend = arrival_date_month, yend = is_canceled), linewidth = 1, linetype = 1) +  # Lollipop stems\n",
        "  geom_point( size=5, color=\"red\", fill=alpha(\"orange\", 0.3), alpha=0.7, shape=21, stroke=2) +\n",
        "  geom_text(aes(label = paste(hotel, \"\\n\", is_canceled, sep = \"\")), hjust = -0.1, vjust = 1.1, size = 3) +  # Labels with newline\n",
        "  scale_x_discrete(expand = c(0.1, 0.1)) +  # Adjust axis padding for better readability\n",
        "  theme(legend.position = \"none\") + coord_flip() +\n",
        "  labs(x = \"Meses\", y = \"Cancelaciones\")  # Add axis labels for clarity"
      ]
    },
    {
      "cell_type": "markdown",
      "metadata": {
        "id": "yrPge9AWgjoo"
      },
      "source": [
        "#### 8. ¿Cuánto tiempo permanecen los inquilinos en los hoteles?"
      ]
    },
    {
      "cell_type": "code",
      "execution_count": 585,
      "metadata": {
        "id": "H4DMtm1Qn5aa",
        "colab": {
          "base_uri": "https://localhost:8080/",
          "height": 377
        },
        "outputId": "007ad239-039f-4acf-e2ff-0027c2eaca14"
      },
      "outputs": [
        {
          "output_type": "display_data",
          "data": {
            "text/plain": [
              "plot without title"
            ],
            "image/png": "[encoded data removed]"
          },
          "metadata": {
            "image/png": {
              "width": 360,
              "height": 360
            }
          }
        }
      ],
      "source": [
        "datos_reservas_no_canceladas <- temp %>%\n",
        "  filter(is_canceled == FALSE)\n",
        "\n",
        "nuevo_df <- data.frame(\n",
        "  Tipo_hotel = datos_reservas_no_canceladas$hotel,\n",
        "  Tiempo_total_estancia = datos_reservas_no_canceladas$stays_in_week_nights + datos_reservas_no_canceladas$stays_in_weekend_nights,\n",
        "  Total_personas = datos_reservas_no_canceladas$adults + datos_reservas_no_canceladas$children + datos_reservas_no_canceladas$babies\n",
        ")\n",
        "\n",
        "ggplot(nuevo_df, aes(x = Total_personas, y = Tiempo_total_estancia, fill = Tipo_hotel)) +\n",
        "  geom_bar(stat = \"identity\", position = \"dodge\") + # Añadir 'position = \"dodge\"'\n",
        "  labs(title = \"Inquilinos por noche\",\n",
        "       x = \"Personas\",\n",
        "       y = \"Noches\",\n",
        "       fill = \"Tipo de hotel\") +\n",
        "  theme_minimal() +\n",
        "  theme(axis.text.x = element_text(angle = 45))"
      ]
    },
    {
      "cell_type": "markdown",
      "source": [
        "#### 9. Cual es el mes mas demandado"
      ],
      "metadata": {
        "id": "aoZTXBXyRbVl"
      }
    },
    {
      "cell_type": "code",
      "source": [
        "datos_preg1 <- temp %>%\n",
        "  group_by(hotel, arrival_date_month) %>%\n",
        "  summarise(is_canceled = sum(is_canceled==FALSE))\n",
        "\n",
        "ggplot(datos_preg1, aes(x = arrival_date_month, y = is_canceled, fill = hotel)) +\n",
        "  geom_bar(stat = \"identity\", position = \"dodge\") + # Añadir 'position = \"dodge\"'\n",
        "  labs(title = \"Demanda por mes\",\n",
        "       x = \"Mes\",\n",
        "       y = \"Número de reservas\",\n",
        "       fill = \"Tipo de hotel\") +\n",
        "  theme_minimal() +\n",
        "  theme(axis.text.x = element_text(angle = 45))"
      ],
      "metadata": {
        "colab": {
          "base_uri": "https://localhost:8080/",
          "height": 413
        },
        "id": "-Kp1FQ3hRjMi",
        "outputId": "9c14dd5a-bfe5-4813-c5f1-22a8fa251589"
      },
      "execution_count": 587,
      "outputs": [
        {
          "output_type": "stream",
          "name": "stderr",
          "text": [
            "\u001b[1m\u001b[22m`summarise()` has grouped output by 'hotel'. You can override using the\n",
            "`.groups` argument.\n"
          ]
        },
        {
          "output_type": "display_data",
          "data": {
            "text/plain": [
              "plot without title"
            ],
            "image/png": "[encoded data removed]"
          },
          "metadata": {
            "image/png": {
              "width": 360,
              "height": 360
            }
          }
        }
      ]
    },
    {
      "cell_type": "markdown",
      "metadata": {
        "id": "xrYGKMrIpTEX"
      },
      "source": [
        "#### 10. ¿Cuándo se producen las temporadas de reservas: alta, media y baja?"
      ]
    },
    {
      "cell_type": "code",
      "execution_count": 588,
      "metadata": {
        "id": "HoxHLYVvpSrX",
        "colab": {
          "base_uri": "https://localhost:8080/",
          "height": 377
        },
        "outputId": "f968ddfd-fbdd-40ea-c9af-84a350bc4aae"
      },
      "outputs": [
        {
          "output_type": "display_data",
          "data": {
            "text/plain": [
              "Plot with title “Número de reservas por mes”"
            ],
            "image/png": "[encoded data removed]"
          },
          "metadata": {
            "image/png": {
              "width": 360,
              "height": 360
            }
          }
        }
      ],
      "source": [
        "\n",
        "# Calcular el número total de reservas por mes\n",
        "reservas_por_mes <- aggregate(is_canceled ~ arrival_date_month, data = hotel_csv, FUN = function(x) sum(x == 0))\n",
        "\n",
        "# Ordenar los meses según el número de reservas (de mayor a menor)\n",
        "reservas_ordenadas <- reservas_por_mes[order(reservas_por_mes$is_canceled, decreasing = TRUE), ]\n",
        "\n",
        "# Definir las categorías de temporadas\n",
        "reservas_ordenadas$temporada <- cut(reservas_ordenadas$is_canceled, breaks = 3, labels = c(\"Alta\", \"Media\", \"Baja\"))\n",
        "\n",
        "# Graficar el número de reservas por mes y temporada\n",
        "barplot(reservas_ordenadas$is_canceled, names.arg = reservas_ordenadas$arrival_date_month,\n",
        "        xlab = \"Mes\", ylab = \"Número de reservas\",\n",
        "        main = \"Número de reservas por mes\", col = reservas_ordenadas$temporada)\n",
        "legend(\"topright\", legend = levels(reservas_ordenadas$temporada), fill = unique(reservas_ordenadas$temporada), title = \"Temporada\")"
      ]
    },
    {
      "cell_type": "code",
      "source": [
        "a = temp%>%filter(required_car_parking_spaces==0)"
      ],
      "metadata": {
        "id": "XA3xaHMowyVm"
      },
      "execution_count": 589,
      "outputs": []
    },
    {
      "cell_type": "code",
      "source": [
        "sum((a$stays_in_week_nights + a$stays_in_weekend_nights) * a$adr)"
      ],
      "metadata": {
        "colab": {
          "base_uri": "https://localhost:8080/",
          "height": 34
        },
        "id": "ZPxrsZblw-Hw",
        "outputId": "89511a2c-2b05-4ac6-c06d-e6c036b4d718"
      },
      "execution_count": 590,
      "outputs": [
        {
          "output_type": "display_data",
          "data": {
            "text/html": [
              "37269885.34"
            ],
            "text/markdown": "37269885.34",
            "text/latex": "37269885.34",
            "text/plain": [
              "[1] 37269885"
            ]
          },
          "metadata": {}
        }
      ]
    }
  ],
  "metadata": {
    "colab": {
      "provenance": [],
      "collapsed_sections": [
        "MvxfKDQzmoqY"
      ],
      "include_colab_link": true
    },
    "kernelspec": {
      "display_name": "R",
      "name": "ir"
    },
    "language_info": {
      "name": "R"
    }
  },
  "nbformat": 4,
  "nbformat_minor": 0
}